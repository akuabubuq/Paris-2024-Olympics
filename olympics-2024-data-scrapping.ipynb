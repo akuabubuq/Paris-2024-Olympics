{
 "cells": [
  {
   "cell_type": "code",
   "execution_count": 1,
   "id": "fcdcc57f-9f13-496a-a517-cba4a53f6704",
   "metadata": {},
   "outputs": [],
   "source": [
    "#Importing library for data scrapping\n",
    "\n",
    "from bs4 import BeautifulSoup\n",
    "import requests"
   ]
  },
  {
   "cell_type": "code",
   "execution_count": 2,
   "id": "0738160c-9cc4-4207-b7fa-100278f7fb8c",
   "metadata": {},
   "outputs": [],
   "source": [
    "url = 'https://en.wikipedia.org/wiki/2024_Summer_Olympics_medal_table'\n",
    "\n",
    "page = requests.get(url)\n",
    "\n",
    "soup = BeautifulSoup(page.text, 'html')"
   ]
  },
  {
   "cell_type": "code",
   "execution_count": 3,
   "id": "02018f74-4711-4cca-a8a2-20155081f606",
   "metadata": {
    "scrolled": true,
    "tags": []
   },
   "outputs": [
    {
     "data": {
      "text/plain": [
       "<table class=\"infobox vevent\"><tbody><tr><th class=\"infobox-above summary\" colspan=\"2\">2024 Summer Olympics medals</th></tr><tr><td class=\"infobox-image\" colspan=\"2\"><span class=\"mw-default-size\" typeof=\"mw:File/Frameless\"><a class=\"mw-file-description\" href=\"/wiki/File:L%C3%A9on_Marchand,_2023_Pac-12_Championships,_400_yard_individual_medley_preliminaries_-_3_March_2023.jpg\"><img alt=\"Léon Marchand shown from about the thigh up in swim trunks, no shirt, black swim goggles, and a yellow swim cap.\" class=\"mw-file-element\" data-file-height=\"4608\" data-file-width=\"3456\" decoding=\"async\" height=\"293\" src=\"//upload.wikimedia.org/wikipedia/commons/thumb/f/f0/L%C3%A9on_Marchand%2C_2023_Pac-12_Championships%2C_400_yard_individual_medley_preliminaries_-_3_March_2023.jpg/220px-L%C3%A9on_Marchand%2C_2023_Pac-12_Championships%2C_400_yard_individual_medley_preliminaries_-_3_March_2023.jpg\" srcset=\"//upload.wikimedia.org/wikipedia/commons/thumb/f/f0/L%C3%A9on_Marchand%2C_2023_Pac-12_Championships%2C_400_yard_individual_medley_preliminaries_-_3_March_2023.jpg/330px-L%C3%A9on_Marchand%2C_2023_Pac-12_Championships%2C_400_yard_individual_medley_preliminaries_-_3_March_2023.jpg 1.5x, //upload.wikimedia.org/wikipedia/commons/thumb/f/f0/L%C3%A9on_Marchand%2C_2023_Pac-12_Championships%2C_400_yard_individual_medley_preliminaries_-_3_March_2023.jpg/440px-L%C3%A9on_Marchand%2C_2023_Pac-12_Championships%2C_400_yard_individual_medley_preliminaries_-_3_March_2023.jpg 2x\" width=\"220\"/></a></span><div class=\"infobox-caption\"><a href=\"/wiki/L%C3%A9on_Marchand\" title=\"Léon Marchand\">Léon Marchand</a> (pictured) won four gold medals at the 2024 Summer Olympics, the most of any competing athlete.</div></td></tr><tr><th class=\"infobox-label\" scope=\"row\" style=\"width: 33%;\">Location</th><td class=\"infobox-data location\"><a href=\"/wiki/Paris\" title=\"Paris\">Paris</a>, <span class=\"mw-image-border\" typeof=\"mw:File\"><span><img alt=\"\" class=\"mw-file-element\" data-file-height=\"600\" data-file-width=\"900\" decoding=\"async\" height=\"15\" src=\"//upload.wikimedia.org/wikipedia/en/thumb/c/c3/Flag_of_France.svg/22px-Flag_of_France.svg.png\" srcset=\"//upload.wikimedia.org/wikipedia/en/thumb/c/c3/Flag_of_France.svg/33px-Flag_of_France.svg.png 1.5x, //upload.wikimedia.org/wikipedia/en/thumb/c/c3/Flag_of_France.svg/44px-Flag_of_France.svg.png 2x\" width=\"22\"/></span></span> <a href=\"/wiki/France_at_the_Olympics\" title=\"France at the Olympics\">France</a></td></tr><tr><th class=\"infobox-header\" colspan=\"2\">Highlights</th></tr><tr><th class=\"infobox-label\" scope=\"row\" style=\"width: 33%;\">Most gold medals</th><td class=\"infobox-data\"><span class=\"mw-image-border\" typeof=\"mw:File\"><span><img alt=\"\" class=\"mw-file-element\" data-file-height=\"600\" data-file-width=\"900\" decoding=\"async\" height=\"15\" src=\"//upload.wikimedia.org/wikipedia/commons/thumb/f/fa/Flag_of_the_People%27s_Republic_of_China.svg/22px-Flag_of_the_People%27s_Republic_of_China.svg.png\" srcset=\"//upload.wikimedia.org/wikipedia/commons/thumb/f/fa/Flag_of_the_People%27s_Republic_of_China.svg/33px-Flag_of_the_People%27s_Republic_of_China.svg.png 1.5x, //upload.wikimedia.org/wikipedia/commons/thumb/f/fa/Flag_of_the_People%27s_Republic_of_China.svg/44px-Flag_of_the_People%27s_Republic_of_China.svg.png 2x\" width=\"22\"/></span></span> <a href=\"/wiki/China_at_the_2024_Summer_Olympics\" title=\"China at the 2024 Summer Olympics\">China</a> <span style=\"font-size:90%;\">(40)</span> and <br/> <span class=\"mw-image-border\" typeof=\"mw:File\"><span><img alt=\"\" class=\"mw-file-element\" data-file-height=\"650\" data-file-width=\"1235\" decoding=\"async\" height=\"12\" src=\"//upload.wikimedia.org/wikipedia/en/thumb/a/a4/Flag_of_the_United_States.svg/22px-Flag_of_the_United_States.svg.png\" srcset=\"//upload.wikimedia.org/wikipedia/en/thumb/a/a4/Flag_of_the_United_States.svg/33px-Flag_of_the_United_States.svg.png 1.5x, //upload.wikimedia.org/wikipedia/en/thumb/a/a4/Flag_of_the_United_States.svg/44px-Flag_of_the_United_States.svg.png 2x\" width=\"22\"/></span></span> <a href=\"/wiki/United_States_at_the_2024_Summer_Olympics\" title=\"United States at the 2024 Summer Olympics\">United States</a> <span style=\"font-size:90%;\">(40)</span></td></tr><tr><th class=\"infobox-label\" scope=\"row\" style=\"width: 33%;\">Most total medals</th><td class=\"infobox-data\"><span class=\"mw-image-border\" typeof=\"mw:File\"><span><img alt=\"\" class=\"mw-file-element\" data-file-height=\"650\" data-file-width=\"1235\" decoding=\"async\" height=\"12\" src=\"//upload.wikimedia.org/wikipedia/en/thumb/a/a4/Flag_of_the_United_States.svg/22px-Flag_of_the_United_States.svg.png\" srcset=\"//upload.wikimedia.org/wikipedia/en/thumb/a/a4/Flag_of_the_United_States.svg/33px-Flag_of_the_United_States.svg.png 1.5x, //upload.wikimedia.org/wikipedia/en/thumb/a/a4/Flag_of_the_United_States.svg/44px-Flag_of_the_United_States.svg.png 2x\" width=\"22\"/></span></span> <a href=\"/wiki/United_States_at_the_2024_Summer_Olympics\" title=\"United States at the 2024 Summer Olympics\">United States</a> <span style=\"font-size:90%;\">(126)</span></td></tr><tr><th class=\"infobox-label\" scope=\"row\" style=\"width: 33%;\">Medalling NOCs</th><td class=\"infobox-data\">92</td></tr><tr><td class=\"infobox-below noprint nowrap\" colspan=\"2\" style=\"border-top: 1px solid #000; padding-top: 5px; font-weight: bold;\"><table style=\"width:100%; margin:1px; display:inline-table;\"><tbody><tr>\n",
       "<td class=\"noprint\" style=\"text-align:left; vertical-align:middle; padding:0 0.5em 0 0;\">← <a href=\"/wiki/2020_Summer_Olympics_medal_table\" title=\"2020 Summer Olympics medal table\">2020</a> <b>·</b></td>\n",
       "<td class=\"\" style=\"text-align:center; vertical-align:middle;; padding:0 1px;\"><a href=\"/wiki/All-time_Olympic_Games_medal_table\" title=\"All-time Olympic Games medal table\">Olympics medal tables</a></td>\n",
       "<td class=\"noprint\" style=\"text-align:right; vertical-align:middle;; padding:0 0 0 0.5em;\"><b>·</b> <a class=\"new\" href=\"/w/index.php?title=2028_Summer_Olympics_medal_table&amp;action=edit&amp;redlink=1\" title=\"2028 Summer Olympics medal table (page does not exist)\">2028</a> →</td>\n",
       "</tr></tbody></table></td></tr></tbody></table>"
      ]
     },
     "execution_count": 3,
     "metadata": {},
     "output_type": "execute_result"
    }
   ],
   "source": [
    "soup.find('table')"
   ]
  },
  {
   "cell_type": "code",
   "execution_count": 4,
   "id": "715cf0a4-c4d7-462d-9bb1-47a8f8650c31",
   "metadata": {},
   "outputs": [],
   "source": [
    "table = soup.find_all('table')[3]"
   ]
  },
  {
   "cell_type": "code",
   "execution_count": 5,
   "id": "f053bef9-e6bf-491a-bc54-3cda3253bff0",
   "metadata": {
    "scrolled": true,
    "tags": []
   },
   "outputs": [
    {
     "name": "stdout",
     "output_type": "stream",
     "text": [
      "<table class=\"wikitable sortable sticky-header-multi plainrowheaders jquery-tablesorter\" style=\"text-align:center\"><caption>2024 Summer Olympics medal table<sup class=\"reference\" id=\"cite_ref-IOC_2024_Medal_Table_34-0\"><a href=\"#cite_note-IOC_2024_Medal_Table-34\"><span class=\"cite-bracket\">[</span>34<span class=\"cite-bracket\">]</span></a></sup><sup class=\"reference\" id=\"cite_ref-ANI_medal_table_inclusion_37-0\"><a href=\"#cite_note-ANI_medal_table_inclusion-37\"><span class=\"cite-bracket\">[</span>B<span class=\"cite-bracket\">]</span></a></sup><sup class=\"reference\" id=\"cite_ref-38\"><a href=\"#cite_note-38\"><span class=\"cite-bracket\">[</span>C<span class=\"cite-bracket\">]</span></a></sup></caption><tbody><tr><th scope=\"col\" style=\"color:inherit\">Rank</th><th scope=\"col\"><abbr title=\"National Olympic Committee\">NOC</abbr></th><th class=\"headerSort\" scope=\"col\" style=\"width:4em;background-color:gold;color:#333\">Gold</th><th class=\"headerSort\" scope=\"col\" style=\"width:4em;background-color:silver;color:#333\">Silver</th><th class=\"headerSort\" scope=\"col\" style=\"width:4em;background-color:#c96;color:#333\">Bronze</th><th scope=\"col\" style=\"width:4em\">Total</th></tr><tr><td>1</td><th scope=\"row\" style=\"background-color:inherit;color:inherit;text-align:left\"><span class=\"mw-image-border\" typeof=\"mw:File\"><span><img alt=\"\" class=\"mw-file-element\" data-file-height=\"650\" data-file-width=\"1235\" decoding=\"async\" height=\"12\" src=\"//upload.wikimedia.org/wikipedia/en/thumb/a/a4/Flag_of_the_United_States.svg/22px-Flag_of_the_United_States.svg.png\" srcset=\"//upload.wikimedia.org/wikipedia/en/thumb/a/a4/Flag_of_the_United_States.svg/33px-Flag_of_the_United_States.svg.png 1.5x, //upload.wikimedia.org/wikipedia/en/thumb/a/a4/Flag_of_the_United_States.svg/44px-Flag_of_the_United_States.svg.png 2x\" width=\"22\"/></span></span> <a href=\"/wiki/United_States_at_the_2024_Summer_Olympics\" title=\"United States at the 2024 Summer Olympics\">United States</a>‡</th><td>40</td><td>44</td><td>42</td><td>126</td></tr><tr><td>2</td><th scope=\"row\" style=\"background-color:inherit;color:inherit;text-align:left\"><span class=\"mw-image-border\" typeof=\"mw:File\"><span><img alt=\"\" class=\"mw-file-element\" data-file-height=\"600\" data-file-width=\"900\" decoding=\"async\" height=\"15\" src=\"//upload.wikimedia.org/wikipedia/commons/thumb/f/fa/Flag_of_the_People%27s_Republic_of_China.svg/22px-Flag_of_the_People%27s_Republic_of_China.svg.png\" srcset=\"//upload.wikimedia.org/wikipedia/commons/thumb/f/fa/Flag_of_the_People%27s_Republic_of_China.svg/33px-Flag_of_the_People%27s_Republic_of_China.svg.png 1.5x, //upload.wikimedia.org/wikipedia/commons/thumb/f/fa/Flag_of_the_People%27s_Republic_of_China.svg/44px-Flag_of_the_People%27s_Republic_of_China.svg.png 2x\" width=\"22\"/></span></span> <a href=\"/wiki/China_at_the_2024_Summer_Olympics\" title=\"China at the 2024 Summer Olympics\">China</a></th><td>40</td><td>27</td><td>24</td><td>91</td></tr><tr><td>3</td><th scope=\"row\" style=\"background-color:inherit;color:inherit;text-align:left\"><span class=\"mw-image-border\" typeof=\"mw:File\"><span><img alt=\"\" class=\"mw-file-element\" data-file-height=\"600\" data-file-width=\"900\" decoding=\"async\" height=\"15\" src=\"//upload.wikimedia.org/wikipedia/en/thumb/9/9e/Flag_of_Japan.svg/22px-Flag_of_Japan.svg.png\" srcset=\"//upload.wikimedia.org/wikipedia/en/thumb/9/9e/Flag_of_Japan.svg/33px-Flag_of_Japan.svg.png 1.5x, //upload.wikimedia.org/wikipedia/en/thumb/9/9e/Flag_of_Japan.svg/44px-Flag_of_Japan.svg.png 2x\" width=\"22\"/></span></span> <a href=\"/wiki/Japan_at_the_2024_Summer_Olympics\" title=\"Japan at the 2024 Summer Olympics\">Japan</a></th><td>20</td><td>12</td><td>13</td><td>45</td></tr><tr><td>4</td><th scope=\"row\" style=\"background-color:inherit;color:inherit;text-align:left\"><span class=\"mw-image-border\" typeof=\"mw:File\"><span><img alt=\"\" class=\"mw-file-element\" data-file-height=\"640\" data-file-width=\"1280\" decoding=\"async\" height=\"11\" src=\"//upload.wikimedia.org/wikipedia/en/thumb/b/b9/Flag_of_Australia.svg/22px-Flag_of_Australia.svg.png\" srcset=\"//upload.wikimedia.org/wikipedia/en/thumb/b/b9/Flag_of_Australia.svg/33px-Flag_of_Australia.svg.png 1.5x, //upload.wikimedia.org/wikipedia/en/thumb/b/b9/Flag_of_Australia.svg/44px-Flag_of_Australia.svg.png 2x\" width=\"22\"/></span></span> <a href=\"/wiki/Australia_at_the_2024_Summer_Olympics\" title=\"Australia at the 2024 Summer Olympics\">Australia</a></th><td>18</td><td>19</td><td>16</td><td>53</td></tr><tr><td>5</td><th scope=\"row\" style=\"background-color:#ccccff;color:inherit;text-align:left\"><span class=\"mw-image-border\" typeof=\"mw:File\"><span><img alt=\"\" class=\"mw-file-element\" data-file-height=\"600\" data-file-width=\"900\" decoding=\"async\" height=\"15\" src=\"//upload.wikimedia.org/wikipedia/en/thumb/c/c3/Flag_of_France.svg/22px-Flag_of_France.svg.png\" srcset=\"//upload.wikimedia.org/wikipedia/en/thumb/c/c3/Flag_of_France.svg/33px-Flag_of_France.svg.png 1.5x, //upload.wikimedia.org/wikipedia/en/thumb/c/c3/Flag_of_France.svg/44px-Flag_of_France.svg.png 2x\" width=\"22\"/></span></span> <a href=\"/wiki/France_at_the_2024_Summer_Olympics\" title=\"France at the 2024 Summer Olympics\">France</a>*</th><td>16</td><td>26</td><td>22</td><td>64</td></tr><tr><td>6</td><th scope=\"row\" style=\"background-color:inherit;color:inherit;text-align:left\"><span class=\"mw-image-border\" typeof=\"mw:File\"><span><img alt=\"\" class=\"mw-file-element\" data-file-height=\"600\" data-file-width=\"900\" decoding=\"async\" height=\"15\" src=\"//upload.wikimedia.org/wikipedia/commons/thumb/2/20/Flag_of_the_Netherlands.svg/22px-Flag_of_the_Netherlands.svg.png\" srcset=\"//upload.wikimedia.org/wikipedia/commons/thumb/2/20/Flag_of_the_Netherlands.svg/33px-Flag_of_the_Netherlands.svg.png 1.5x, //upload.wikimedia.org/wikipedia/commons/thumb/2/20/Flag_of_the_Netherlands.svg/44px-Flag_of_the_Netherlands.svg.png 2x\" width=\"22\"/></span></span> <a href=\"/wiki/Netherlands_at_the_2024_Summer_Olympics\" title=\"Netherlands at the 2024 Summer Olympics\">Netherlands</a></th><td>15</td><td>7</td><td>12</td><td>34</td></tr><tr><td>7</td><th scope=\"row\" style=\"background-color:inherit;color:inherit;text-align:left\"><span class=\"mw-image-border\" typeof=\"mw:File\"><span><img alt=\"\" class=\"mw-file-element\" data-file-height=\"600\" data-file-width=\"900\" decoding=\"async\" height=\"15\" src=\"//upload.wikimedia.org/wikipedia/commons/thumb/2/2e/Flag_of_the_United_Kingdom_%283-2%29.svg/22px-Flag_of_the_United_Kingdom_%283-2%29.svg.png\" srcset=\"//upload.wikimedia.org/wikipedia/commons/thumb/2/2e/Flag_of_the_United_Kingdom_%283-2%29.svg/33px-Flag_of_the_United_Kingdom_%283-2%29.svg.png 1.5x, //upload.wikimedia.org/wikipedia/commons/thumb/2/2e/Flag_of_the_United_Kingdom_%283-2%29.svg/44px-Flag_of_the_United_Kingdom_%283-2%29.svg.png 2x\" width=\"22\"/></span></span> <a href=\"/wiki/Great_Britain_at_the_2024_Summer_Olympics\" title=\"Great Britain at the 2024 Summer Olympics\">Great Britain</a></th><td>14</td><td>22</td><td>29</td><td>65</td></tr><tr><td>8</td><th scope=\"row\" style=\"background-color:inherit;color:inherit;text-align:left\"><span class=\"mw-image-border\" typeof=\"mw:File\"><span><img alt=\"\" class=\"mw-file-element\" data-file-height=\"600\" data-file-width=\"900\" decoding=\"async\" height=\"15\" src=\"//upload.wikimedia.org/wikipedia/commons/thumb/0/09/Flag_of_South_Korea.svg/22px-Flag_of_South_Korea.svg.png\" srcset=\"//upload.wikimedia.org/wikipedia/commons/thumb/0/09/Flag_of_South_Korea.svg/33px-Flag_of_South_Korea.svg.png 1.5x, //upload.wikimedia.org/wikipedia/commons/thumb/0/09/Flag_of_South_Korea.svg/44px-Flag_of_South_Korea.svg.png 2x\" width=\"22\"/></span></span> <a href=\"/wiki/South_Korea_at_the_2024_Summer_Olympics\" title=\"South Korea at the 2024 Summer Olympics\">South Korea</a></th><td>13</td><td>9</td><td>10</td><td>32</td></tr><tr><td>9</td><th scope=\"row\" style=\"background-color:inherit;color:inherit;text-align:left\"><span class=\"mw-image-border\" typeof=\"mw:File\"><span><img alt=\"\" class=\"mw-file-element\" data-file-height=\"1000\" data-file-width=\"1500\" decoding=\"async\" height=\"15\" src=\"//upload.wikimedia.org/wikipedia/en/thumb/0/03/Flag_of_Italy.svg/22px-Flag_of_Italy.svg.png\" srcset=\"//upload.wikimedia.org/wikipedia/en/thumb/0/03/Flag_of_Italy.svg/33px-Flag_of_Italy.svg.png 1.5x, //upload.wikimedia.org/wikipedia/en/thumb/0/03/Flag_of_Italy.svg/44px-Flag_of_Italy.svg.png 2x\" width=\"22\"/></span></span> <a href=\"/wiki/Italy_at_the_2024_Summer_Olympics\" title=\"Italy at the 2024 Summer Olympics\">Italy</a></th><td>12</td><td>13</td><td>15</td><td>40</td></tr><tr><td>10</td><th scope=\"row\" style=\"background-color:inherit;color:inherit;text-align:left\"><span class=\"mw-image-border\" typeof=\"mw:File\"><span><img alt=\"\" class=\"mw-file-element\" data-file-height=\"600\" data-file-width=\"1000\" decoding=\"async\" height=\"13\" src=\"//upload.wikimedia.org/wikipedia/en/thumb/b/ba/Flag_of_Germany.svg/22px-Flag_of_Germany.svg.png\" srcset=\"//upload.wikimedia.org/wikipedia/en/thumb/b/ba/Flag_of_Germany.svg/33px-Flag_of_Germany.svg.png 1.5x, //upload.wikimedia.org/wikipedia/en/thumb/b/ba/Flag_of_Germany.svg/44px-Flag_of_Germany.svg.png 2x\" width=\"22\"/></span></span> <a href=\"/wiki/Germany_at_the_2024_Summer_Olympics\" title=\"Germany at the 2024 Summer Olympics\">Germany</a></th><td>12</td><td>13</td><td>8</td><td>33</td></tr><tr><td>11</td><th scope=\"row\" style=\"background-color:inherit;color:inherit;text-align:left\"><span class=\"mw-image-border\" typeof=\"mw:File\"><span><img alt=\"\" class=\"mw-file-element\" data-file-height=\"600\" data-file-width=\"1200\" decoding=\"async\" height=\"11\" src=\"//upload.wikimedia.org/wikipedia/commons/thumb/3/3e/Flag_of_New_Zealand.svg/22px-Flag_of_New_Zealand.svg.png\" srcset=\"//upload.wikimedia.org/wikipedia/commons/thumb/3/3e/Flag_of_New_Zealand.svg/33px-Flag_of_New_Zealand.svg.png 1.5x, //upload.wikimedia.org/wikipedia/commons/thumb/3/3e/Flag_of_New_Zealand.svg/44px-Flag_of_New_Zealand.svg.png 2x\" width=\"22\"/></span></span> <a href=\"/wiki/New_Zealand_at_the_2024_Summer_Olympics\" title=\"New Zealand at the 2024 Summer Olympics\">New Zealand</a></th><td>10</td><td>7</td><td>3</td><td>20</td></tr><tr><td>12</td><th scope=\"row\" style=\"background-color:inherit;color:inherit;text-align:left\"><span class=\"mw-image-border\" typeof=\"mw:File\"><span><img alt=\"\" class=\"mw-file-element\" data-file-height=\"600\" data-file-width=\"1200\" decoding=\"async\" height=\"11\" src=\"//upload.wikimedia.org/wikipedia/commons/thumb/d/d9/Flag_of_Canada_%28Pantone%29.svg/22px-Flag_of_Canada_%28Pantone%29.svg.png\" srcset=\"//upload.wikimedia.org/wikipedia/commons/thumb/d/d9/Flag_of_Canada_%28Pantone%29.svg/33px-Flag_of_Canada_%28Pantone%29.svg.png 1.5x, //upload.wikimedia.org/wikipedia/commons/thumb/d/d9/Flag_of_Canada_%28Pantone%29.svg/44px-Flag_of_Canada_%28Pantone%29.svg.png 2x\" width=\"22\"/></span></span> <a href=\"/wiki/Canada_at_the_2024_Summer_Olympics\" title=\"Canada at the 2024 Summer Olympics\">Canada</a></th><td>9</td><td>7</td><td>11</td><td>27</td></tr><tr><td>13</td><th scope=\"row\" style=\"background-color:inherit;color:inherit;text-align:left\"><span class=\"mw-image-border\" typeof=\"mw:File\"><span><img alt=\"\" class=\"mw-file-element\" data-file-height=\"500\" data-file-width=\"750\" decoding=\"async\" height=\"15\" src=\"//upload.wikimedia.org/wikipedia/commons/thumb/0/00/Flag_of_Uzbekistan_%283-2%29.svg/22px-Flag_of_Uzbekistan_%283-2%29.svg.png\" srcset=\"//upload.wikimedia.org/wikipedia/commons/thumb/0/00/Flag_of_Uzbekistan_%283-2%29.svg/33px-Flag_of_Uzbekistan_%283-2%29.svg.png 1.5x, //upload.wikimedia.org/wikipedia/commons/thumb/0/00/Flag_of_Uzbekistan_%283-2%29.svg/44px-Flag_of_Uzbekistan_%283-2%29.svg.png 2x\" width=\"22\"/></span></span> <a href=\"/wiki/Uzbekistan_at_the_2024_Summer_Olympics\" title=\"Uzbekistan at the 2024 Summer Olympics\">Uzbekistan</a></th><td>8</td><td>2</td><td>3</td><td>13</td></tr><tr><td>14</td><th scope=\"row\" style=\"background-color:inherit;color:inherit;text-align:left\"><span class=\"mw-image-border\" typeof=\"mw:File\"><span><img alt=\"\" class=\"mw-file-element\" data-file-height=\"600\" data-file-width=\"1200\" decoding=\"async\" height=\"11\" src=\"//upload.wikimedia.org/wikipedia/commons/thumb/c/c1/Flag_of_Hungary.svg/22px-Flag_of_Hungary.svg.png\" srcset=\"//upload.wikimedia.org/wikipedia/commons/thumb/c/c1/Flag_of_Hungary.svg/33px-Flag_of_Hungary.svg.png 1.5x, //upload.wikimedia.org/wikipedia/commons/thumb/c/c1/Flag_of_Hungary.svg/44px-Flag_of_Hungary.svg.png 2x\" width=\"22\"/></span></span> <a href=\"/wiki/Hungary_at_the_2024_Summer_Olympics\" title=\"Hungary at the 2024 Summer Olympics\">Hungary</a></th><td>6</td><td>7</td><td>6</td><td>19</td></tr><tr><td>15</td><th scope=\"row\" style=\"background-color:inherit;color:inherit;text-align:left\"><span class=\"mw-image-border\" typeof=\"mw:File\"><span><img alt=\"\" class=\"mw-file-element\" data-file-height=\"500\" data-file-width=\"750\" decoding=\"async\" height=\"15\" src=\"//upload.wikimedia.org/wikipedia/en/thumb/9/9a/Flag_of_Spain.svg/22px-Flag_of_Spain.svg.png\" srcset=\"//upload.wikimedia.org/wikipedia/en/thumb/9/9a/Flag_of_Spain.svg/33px-Flag_of_Spain.svg.png 1.5x, //upload.wikimedia.org/wikipedia/en/thumb/9/9a/Flag_of_Spain.svg/44px-Flag_of_Spain.svg.png 2x\" width=\"22\"/></span></span> <a href=\"/wiki/Spain_at_the_2024_Summer_Olympics\" title=\"Spain at the 2024 Summer Olympics\">Spain</a></th><td>5</td><td>4</td><td>9</td><td>18</td></tr><tr><td>16</td><th scope=\"row\" style=\"background-color:inherit;color:inherit;text-align:left\"><span class=\"mw-image-border\" typeof=\"mw:File\"><span><img alt=\"\" class=\"mw-file-element\" data-file-height=\"1000\" data-file-width=\"1600\" decoding=\"async\" height=\"14\" src=\"//upload.wikimedia.org/wikipedia/en/thumb/4/4c/Flag_of_Sweden.svg/22px-Flag_of_Sweden.svg.png\" srcset=\"//upload.wikimedia.org/wikipedia/en/thumb/4/4c/Flag_of_Sweden.svg/33px-Flag_of_Sweden.svg.png 1.5x, //upload.wikimedia.org/wikipedia/en/thumb/4/4c/Flag_of_Sweden.svg/44px-Flag_of_Sweden.svg.png 2x\" width=\"22\"/></span></span> <a href=\"/wiki/Sweden_at_the_2024_Summer_Olympics\" title=\"Sweden at the 2024 Summer Olympics\">Sweden</a></th><td>4</td><td>4</td><td>3</td><td>11</td></tr><tr><td>17</td><th scope=\"row\" style=\"background-color:inherit;color:inherit;text-align:left\"><span class=\"mw-image-border\" typeof=\"mw:File\"><span><img alt=\"\" class=\"mw-file-element\" data-file-height=\"600\" data-file-width=\"900\" decoding=\"async\" height=\"15\" src=\"//upload.wikimedia.org/wikipedia/commons/thumb/4/49/Flag_of_Kenya.svg/22px-Flag_of_Kenya.svg.png\" srcset=\"//upload.wikimedia.org/wikipedia/commons/thumb/4/49/Flag_of_Kenya.svg/33px-Flag_of_Kenya.svg.png 1.5x, //upload.wikimedia.org/wikipedia/commons/thumb/4/49/Flag_of_Kenya.svg/44px-Flag_of_Kenya.svg.png 2x\" width=\"22\"/></span></span> <a href=\"/wiki/Kenya_at_the_2024_Summer_Olympics\" title=\"Kenya at the 2024 Summer Olympics\">Kenya</a></th><td>4</td><td>2</td><td>5</td><td>11</td></tr><tr><td>18</td><th scope=\"row\" style=\"background-color:inherit;color:inherit;text-align:left\"><span class=\"mw-image-border\" typeof=\"mw:File\"><span><img alt=\"\" class=\"mw-file-element\" data-file-height=\"372\" data-file-width=\"512\" decoding=\"async\" height=\"16\" src=\"//upload.wikimedia.org/wikipedia/commons/thumb/d/d9/Flag_of_Norway.svg/22px-Flag_of_Norway.svg.png\" srcset=\"//upload.wikimedia.org/wikipedia/commons/thumb/d/d9/Flag_of_Norway.svg/33px-Flag_of_Norway.svg.png 1.5x, //upload.wikimedia.org/wikipedia/commons/thumb/d/d9/Flag_of_Norway.svg/44px-Flag_of_Norway.svg.png 2x\" width=\"22\"/></span></span> <a href=\"/wiki/Norway_at_the_2024_Summer_Olympics\" title=\"Norway at the 2024 Summer Olympics\">Norway</a></th><td>4</td><td>1</td><td>3</td><td>8</td></tr><tr><td>19</td><th scope=\"row\" style=\"background-color:inherit;color:inherit;text-align:left\"><span class=\"mw-image-border\" typeof=\"mw:File\"><span><img alt=\"\" class=\"mw-file-element\" data-file-height=\"600\" data-file-width=\"900\" decoding=\"async\" height=\"15\" src=\"//upload.wikimedia.org/wikipedia/commons/thumb/c/c4/Flag_of_Ireland_%283-2%29.svg/22px-Flag_of_Ireland_%283-2%29.svg.png\" srcset=\"//upload.wikimedia.org/wikipedia/commons/thumb/c/c4/Flag_of_Ireland_%283-2%29.svg/33px-Flag_of_Ireland_%283-2%29.svg.png 1.5x, //upload.wikimedia.org/wikipedia/commons/thumb/c/c4/Flag_of_Ireland_%283-2%29.svg/44px-Flag_of_Ireland_%283-2%29.svg.png 2x\" width=\"22\"/></span></span> <a href=\"/wiki/Ireland_at_the_2024_Summer_Olympics\" title=\"Ireland at the 2024 Summer Olympics\">Ireland</a></th><td>4</td><td>0</td><td>3</td><td>7</td></tr><tr><td>20</td><th scope=\"row\" style=\"background-color:inherit;color:inherit;text-align:left\"><span class=\"mw-image-border\" typeof=\"mw:File\"><span><img alt=\"\" class=\"mw-file-element\" data-file-height=\"504\" data-file-width=\"720\" decoding=\"async\" height=\"15\" src=\"//upload.wikimedia.org/wikipedia/en/thumb/0/05/Flag_of_Brazil.svg/22px-Flag_of_Brazil.svg.png\" srcset=\"//upload.wikimedia.org/wikipedia/en/thumb/0/05/Flag_of_Brazil.svg/33px-Flag_of_Brazil.svg.png 1.5x, //upload.wikimedia.org/wikipedia/en/thumb/0/05/Flag_of_Brazil.svg/44px-Flag_of_Brazil.svg.png 2x\" width=\"22\"/></span></span> <a href=\"/wiki/Brazil_at_the_2024_Summer_Olympics\" title=\"Brazil at the 2024 Summer Olympics\">Brazil</a></th><td>3</td><td>7</td><td>10</td><td>20</td></tr><tr><td>21</td><th scope=\"row\" style=\"background-color:inherit;color:inherit;text-align:left\"><span class=\"mw-image-border\" typeof=\"mw:File\"><span><img alt=\"\" class=\"mw-file-element\" data-file-height=\"360\" data-file-width=\"630\" decoding=\"async\" height=\"13\" src=\"//upload.wikimedia.org/wikipedia/commons/thumb/c/ca/Flag_of_Iran.svg/22px-Flag_of_Iran.svg.png\" srcset=\"//upload.wikimedia.org/wikipedia/commons/thumb/c/ca/Flag_of_Iran.svg/33px-Flag_of_Iran.svg.png 1.5x, //upload.wikimedia.org/wikipedia/commons/thumb/c/ca/Flag_of_Iran.svg/44px-Flag_of_Iran.svg.png 2x\" width=\"22\"/></span></span> <a href=\"/wiki/Iran_at_the_2024_Summer_Olympics\" title=\"Iran at the 2024 Summer Olympics\">Iran</a></th><td>3</td><td>6</td><td>3</td><td>12</td></tr><tr><td>22</td><th scope=\"row\" style=\"background-color:inherit;color:inherit;text-align:left\"><span class=\"mw-image-border\" typeof=\"mw:File\"><span><img alt=\"\" class=\"mw-file-element\" data-file-height=\"800\" data-file-width=\"1200\" decoding=\"async\" height=\"15\" src=\"//upload.wikimedia.org/wikipedia/commons/thumb/4/49/Flag_of_Ukraine.svg/22px-Flag_of_Ukraine.svg.png\" srcset=\"//upload.wikimedia.org/wikipedia/commons/thumb/4/49/Flag_of_Ukraine.svg/33px-Flag_of_Ukraine.svg.png 1.5x, //upload.wikimedia.org/wikipedia/commons/thumb/4/49/Flag_of_Ukraine.svg/44px-Flag_of_Ukraine.svg.png 2x\" width=\"22\"/></span></span> <a href=\"/wiki/Ukraine_at_the_2024_Summer_Olympics\" title=\"Ukraine at the 2024 Summer Olympics\">Ukraine</a></th><td>3</td><td>5</td><td>4</td><td>12</td></tr><tr><td>23</td><th scope=\"row\" style=\"background-color:inherit;color:inherit;text-align:left\"><span class=\"mw-image-border\" typeof=\"mw:File\"><span><img alt=\"\" class=\"mw-file-element\" data-file-height=\"400\" data-file-width=\"600\" decoding=\"async\" height=\"15\" src=\"//upload.wikimedia.org/wikipedia/commons/thumb/7/73/Flag_of_Romania.svg/22px-Flag_of_Romania.svg.png\" srcset=\"//upload.wikimedia.org/wikipedia/commons/thumb/7/73/Flag_of_Romania.svg/33px-Flag_of_Romania.svg.png 1.5x, //upload.wikimedia.org/wikipedia/commons/thumb/7/73/Flag_of_Romania.svg/44px-Flag_of_Romania.svg.png 2x\" width=\"22\"/></span></span> <a href=\"/wiki/Romania_at_the_2024_Summer_Olympics\" title=\"Romania at the 2024 Summer Olympics\">Romania</a>‡</th><td>3</td><td>4</td><td>2</td><td>9</td></tr><tr><td>24</td><th scope=\"row\" style=\"background-color:inherit;color:inherit;text-align:left\"><span class=\"mw-image-border\" typeof=\"mw:File\"><span><img alt=\"\" class=\"mw-file-element\" data-file-height=\"600\" data-file-width=\"900\" decoding=\"async\" height=\"15\" src=\"//upload.wikimedia.org/wikipedia/commons/thumb/0/0f/Flag_of_Georgia.svg/22px-Flag_of_Georgia.svg.png\" srcset=\"//upload.wikimedia.org/wikipedia/commons/thumb/0/0f/Flag_of_Georgia.svg/33px-Flag_of_Georgia.svg.png 1.5x, //upload.wikimedia.org/wikipedia/commons/thumb/0/0f/Flag_of_Georgia.svg/44px-Flag_of_Georgia.svg.png 2x\" width=\"22\"/></span></span> <a href=\"/wiki/Georgia_at_the_2024_Summer_Olympics\" title=\"Georgia at the 2024 Summer Olympics\">Georgia</a></th><td>3</td><td>3</td><td>1</td><td>7</td></tr><tr><td>25</td><th scope=\"row\" style=\"background-color:inherit;color:inherit;text-align:left\"><span class=\"mw-image-border\" typeof=\"mw:File\"><span><img alt=\"\" class=\"mw-file-element\" data-file-height=\"600\" data-file-width=\"900\" decoding=\"async\" height=\"15\" src=\"//upload.wikimedia.org/wikipedia/commons/thumb/9/92/Flag_of_Belgium_%28civil%29.svg/22px-Flag_of_Belgium_%28civil%29.svg.png\" srcset=\"//upload.wikimedia.org/wikipedia/commons/thumb/9/92/Flag_of_Belgium_%28civil%29.svg/33px-Flag_of_Belgium_%28civil%29.svg.png 1.5x, //upload.wikimedia.org/wikipedia/commons/thumb/9/92/Flag_of_Belgium_%28civil%29.svg/44px-Flag_of_Belgium_%28civil%29.svg.png 2x\" width=\"22\"/></span></span> <a href=\"/wiki/Belgium_at_the_2024_Summer_Olympics\" title=\"Belgium at the 2024 Summer Olympics\">Belgium</a></th><td>3</td><td>1</td><td>6</td><td>10</td></tr><tr><td>26</td><th scope=\"row\" style=\"background-color:inherit;color:inherit;text-align:left\"><span class=\"mw-image-border\" typeof=\"mw:File\"><span><img alt=\"\" class=\"mw-file-element\" data-file-height=\"600\" data-file-width=\"1000\" decoding=\"async\" height=\"13\" src=\"//upload.wikimedia.org/wikipedia/commons/thumb/9/9a/Flag_of_Bulgaria.svg/22px-Flag_of_Bulgaria.svg.png\" srcset=\"//upload.wikimedia.org/wikipedia/commons/thumb/9/9a/Flag_of_Bulgaria.svg/33px-Flag_of_Bulgaria.svg.png 1.5x, //upload.wikimedia.org/wikipedia/commons/thumb/9/9a/Flag_of_Bulgaria.svg/44px-Flag_of_Bulgaria.svg.png 2x\" width=\"22\"/></span></span> <a href=\"/wiki/Bulgaria_at_the_2024_Summer_Olympics\" title=\"Bulgaria at the 2024 Summer Olympics\">Bulgaria</a></th><td>3</td><td>1</td><td>3</td><td>7</td></tr><tr><td>27</td><th scope=\"row\" style=\"background-color:inherit;color:inherit;text-align:left\"><span class=\"mw-image-border\" typeof=\"mw:File\"><span><img alt=\"\" class=\"mw-file-element\" data-file-height=\"900\" data-file-width=\"1350\" decoding=\"async\" height=\"15\" src=\"//upload.wikimedia.org/wikipedia/commons/thumb/f/ff/Flag_of_Serbia.svg/22px-Flag_of_Serbia.svg.png\" srcset=\"//upload.wikimedia.org/wikipedia/commons/thumb/f/ff/Flag_of_Serbia.svg/33px-Flag_of_Serbia.svg.png 1.5x, //upload.wikimedia.org/wikipedia/commons/thumb/f/ff/Flag_of_Serbia.svg/44px-Flag_of_Serbia.svg.png 2x\" width=\"22\"/></span></span> <a href=\"/wiki/Serbia_at_the_2024_Summer_Olympics\" title=\"Serbia at the 2024 Summer Olympics\">Serbia</a></th><td>3</td><td>1</td><td>1</td><td>5</td></tr><tr><td>28</td><th scope=\"row\" style=\"background-color:inherit;color:inherit;text-align:left\"><span class=\"mw-image-border\" typeof=\"mw:File\"><span><img alt=\"\" class=\"mw-file-element\" data-file-height=\"600\" data-file-width=\"900\" decoding=\"async\" height=\"15\" src=\"//upload.wikimedia.org/wikipedia/commons/thumb/c/cb/Flag_of_the_Czech_Republic.svg/22px-Flag_of_the_Czech_Republic.svg.png\" srcset=\"//upload.wikimedia.org/wikipedia/commons/thumb/c/cb/Flag_of_the_Czech_Republic.svg/33px-Flag_of_the_Czech_Republic.svg.png 1.5x, //upload.wikimedia.org/wikipedia/commons/thumb/c/cb/Flag_of_the_Czech_Republic.svg/44px-Flag_of_the_Czech_Republic.svg.png 2x\" width=\"22\"/></span></span> <a href=\"/wiki/Czech_Republic_at_the_2024_Summer_Olympics\" title=\"Czech Republic at the 2024 Summer Olympics\">Czech Republic</a></th><td>3</td><td>0</td><td>2</td><td>5</td></tr><tr><td>29</td><th scope=\"row\" style=\"background-color:inherit;color:inherit;text-align:left\"><span class=\"mw-image-border\" typeof=\"mw:File\"><span><img alt=\"\" class=\"mw-file-element\" data-file-height=\"387\" data-file-width=\"512\" decoding=\"async\" height=\"17\" src=\"//upload.wikimedia.org/wikipedia/commons/thumb/9/9c/Flag_of_Denmark.svg/22px-Flag_of_Denmark.svg.png\" srcset=\"//upload.wikimedia.org/wikipedia/commons/thumb/9/9c/Flag_of_Denmark.svg/33px-Flag_of_Denmark.svg.png 1.5x, //upload.wikimedia.org/wikipedia/commons/thumb/9/9c/Flag_of_Denmark.svg/44px-Flag_of_Denmark.svg.png 2x\" width=\"22\"/></span></span> <a href=\"/wiki/Denmark_at_the_2024_Summer_Olympics\" title=\"Denmark at the 2024 Summer Olympics\">Denmark</a></th><td>2</td><td>2</td><td>5</td><td>9</td></tr><tr><td rowspan=\"2\">30</td><th scope=\"row\" style=\"background-color:inherit;color:inherit;text-align:left\"><span class=\"mw-image-border\" typeof=\"mw:File\"><span><img alt=\"\" class=\"mw-file-element\" data-file-height=\"600\" data-file-width=\"1200\" decoding=\"async\" height=\"11\" src=\"//upload.wikimedia.org/wikipedia/commons/thumb/d/dd/Flag_of_Azerbaijan.svg/22px-Flag_of_Azerbaijan.svg.png\" srcset=\"//upload.wikimedia.org/wikipedia/commons/thumb/d/dd/Flag_of_Azerbaijan.svg/33px-Flag_of_Azerbaijan.svg.png 1.5x, //upload.wikimedia.org/wikipedia/commons/thumb/d/dd/Flag_of_Azerbaijan.svg/44px-Flag_of_Azerbaijan.svg.png 2x\" width=\"22\"/></span></span> <a href=\"/wiki/Azerbaijan_at_the_2024_Summer_Olympics\" title=\"Azerbaijan at the 2024 Summer Olympics\">Azerbaijan</a></th><td>2</td><td>2</td><td>3</td><td>7</td></tr><tr><th scope=\"row\" style=\"background-color:inherit;color:inherit;text-align:left\"><span class=\"mw-image-border\" typeof=\"mw:File\"><span><img alt=\"\" class=\"mw-file-element\" data-file-height=\"600\" data-file-width=\"900\" decoding=\"async\" height=\"15\" src=\"//upload.wikimedia.org/wikipedia/commons/thumb/d/d5/Civil_ensign_of_Croatia.svg/22px-Civil_ensign_of_Croatia.svg.png\" srcset=\"//upload.wikimedia.org/wikipedia/commons/thumb/d/d5/Civil_ensign_of_Croatia.svg/33px-Civil_ensign_of_Croatia.svg.png 1.5x, //upload.wikimedia.org/wikipedia/commons/thumb/d/d5/Civil_ensign_of_Croatia.svg/44px-Civil_ensign_of_Croatia.svg.png 2x\" width=\"22\"/></span></span> <a href=\"/wiki/Croatia_at_the_2024_Summer_Olympics\" title=\"Croatia at the 2024 Summer Olympics\">Croatia</a></th><td>2</td><td>2</td><td>3</td><td>7</td></tr><tr><td>32</td><th scope=\"row\" style=\"background-color:inherit;color:inherit;text-align:left\"><span class=\"mw-image-border\" typeof=\"mw:File\"><span><img alt=\"\" class=\"mw-file-element\" data-file-height=\"600\" data-file-width=\"900\" decoding=\"async\" height=\"15\" src=\"//upload.wikimedia.org/wikipedia/commons/thumb/5/58/Flag_of_Cuba_%283-2%29.svg/22px-Flag_of_Cuba_%283-2%29.svg.png\" srcset=\"//upload.wikimedia.org/wikipedia/commons/thumb/5/58/Flag_of_Cuba_%283-2%29.svg/33px-Flag_of_Cuba_%283-2%29.svg.png 1.5x, //upload.wikimedia.org/wikipedia/commons/thumb/5/58/Flag_of_Cuba_%283-2%29.svg/44px-Flag_of_Cuba_%283-2%29.svg.png 2x\" width=\"22\"/></span></span> <a href=\"/wiki/Cuba_at_the_2024_Summer_Olympics\" title=\"Cuba at the 2024 Summer Olympics\">Cuba</a></th><td>2</td><td>1</td><td>6</td><td>9</td></tr><tr><td>33</td><th scope=\"row\" style=\"background-color:inherit;color:inherit;text-align:left\"><span class=\"mw-image-border\" typeof=\"mw:File\"><span><img alt=\"\" class=\"mw-file-element\" data-file-height=\"600\" data-file-width=\"1000\" decoding=\"async\" height=\"13\" src=\"//upload.wikimedia.org/wikipedia/commons/thumb/2/2c/Flag_of_Bahrain.svg/22px-Flag_of_Bahrain.svg.png\" srcset=\"//upload.wikimedia.org/wikipedia/commons/thumb/2/2c/Flag_of_Bahrain.svg/33px-Flag_of_Bahrain.svg.png 1.5x, //upload.wikimedia.org/wikipedia/commons/thumb/2/2c/Flag_of_Bahrain.svg/44px-Flag_of_Bahrain.svg.png 2x\" width=\"22\"/></span></span> <a href=\"/wiki/Bahrain_at_the_2024_Summer_Olympics\" title=\"Bahrain at the 2024 Summer Olympics\">Bahrain</a></th><td>2</td><td>1</td><td>1</td><td>4</td></tr><tr><td>34</td><th scope=\"row\" style=\"background-color:inherit;color:inherit;text-align:left\"><span class=\"mw-image-border\" typeof=\"mw:File\"><span><img alt=\"\" class=\"mw-file-element\" data-file-height=\"600\" data-file-width=\"900\" decoding=\"async\" height=\"15\" src=\"//upload.wikimedia.org/wikipedia/commons/thumb/d/d1/Civil_Ensign_of_Slovenia.svg/22px-Civil_Ensign_of_Slovenia.svg.png\" srcset=\"//upload.wikimedia.org/wikipedia/commons/thumb/d/d1/Civil_Ensign_of_Slovenia.svg/33px-Civil_Ensign_of_Slovenia.svg.png 1.5x, //upload.wikimedia.org/wikipedia/commons/thumb/d/d1/Civil_Ensign_of_Slovenia.svg/44px-Civil_Ensign_of_Slovenia.svg.png 2x\" width=\"22\"/></span></span> <a href=\"/wiki/Slovenia_at_the_2024_Summer_Olympics\" title=\"Slovenia at the 2024 Summer Olympics\">Slovenia</a></th><td>2</td><td>1</td><td>0</td><td>3</td></tr><tr><td>35</td><th scope=\"row\" style=\"background-color:inherit;color:inherit;text-align:left\"><span class=\"mw-image-border\" typeof=\"mw:File\"><span><img alt=\"\" class=\"mw-file-element\" data-file-height=\"600\" data-file-width=\"900\" decoding=\"async\" height=\"15\" src=\"//upload.wikimedia.org/wikipedia/commons/thumb/1/14/Flag_of_Chinese_Taipei_for_Olympic_games.svg/22px-Flag_of_Chinese_Taipei_for_Olympic_games.svg.png\" srcset=\"//upload.wikimedia.org/wikipedia/commons/thumb/1/14/Flag_of_Chinese_Taipei_for_Olympic_games.svg/33px-Flag_of_Chinese_Taipei_for_Olympic_games.svg.png 1.5x, //upload.wikimedia.org/wikipedia/commons/thumb/1/14/Flag_of_Chinese_Taipei_for_Olympic_games.svg/44px-Flag_of_Chinese_Taipei_for_Olympic_games.svg.png 2x\" width=\"22\"/></span></span> <a href=\"/wiki/Chinese_Taipei_at_the_2024_Summer_Olympics\" title=\"Chinese Taipei at the 2024 Summer Olympics\">Chinese Taipei</a></th><td>2</td><td>0</td><td>5</td><td>7</td></tr><tr><td>36</td><th scope=\"row\" style=\"background-color:inherit;color:inherit;text-align:left\"><span class=\"mw-image-border\" typeof=\"mw:File\"><span><img alt=\"\" class=\"mw-file-element\" data-file-height=\"600\" data-file-width=\"900\" decoding=\"async\" height=\"15\" src=\"//upload.wikimedia.org/wikipedia/commons/thumb/4/41/Flag_of_Austria.svg/22px-Flag_of_Austria.svg.png\" srcset=\"//upload.wikimedia.org/wikipedia/commons/thumb/4/41/Flag_of_Austria.svg/33px-Flag_of_Austria.svg.png 1.5x, //upload.wikimedia.org/wikipedia/commons/thumb/4/41/Flag_of_Austria.svg/44px-Flag_of_Austria.svg.png 2x\" width=\"22\"/></span></span> <a href=\"/wiki/Austria_at_the_2024_Summer_Olympics\" title=\"Austria at the 2024 Summer Olympics\">Austria</a></th><td>2</td><td>0</td><td>3</td><td>5</td></tr><tr><td rowspan=\"2\">37</td><th scope=\"row\" style=\"background-color:inherit;color:inherit;text-align:left\"><span class=\"mw-image-border\" typeof=\"mw:File\"><span><img alt=\"\" class=\"mw-file-element\" data-file-height=\"600\" data-file-width=\"900\" decoding=\"async\" height=\"15\" src=\"//upload.wikimedia.org/wikipedia/commons/thumb/5/5b/Flag_of_Hong_Kong.svg/22px-Flag_of_Hong_Kong.svg.png\" srcset=\"//upload.wikimedia.org/wikipedia/commons/thumb/5/5b/Flag_of_Hong_Kong.svg/33px-Flag_of_Hong_Kong.svg.png 1.5x, //upload.wikimedia.org/wikipedia/commons/thumb/5/5b/Flag_of_Hong_Kong.svg/44px-Flag_of_Hong_Kong.svg.png 2x\" width=\"22\"/></span></span> <a href=\"/wiki/Hong_Kong_at_the_2024_Summer_Olympics\" title=\"Hong Kong at the 2024 Summer Olympics\">Hong Kong</a></th><td>2</td><td>0</td><td>2</td><td>4</td></tr><tr><th scope=\"row\" style=\"background-color:inherit;color:inherit;text-align:left\"><span class=\"mw-image-border\" typeof=\"mw:File\"><span><img alt=\"\" class=\"mw-file-element\" data-file-height=\"600\" data-file-width=\"1200\" decoding=\"async\" height=\"11\" src=\"//upload.wikimedia.org/wikipedia/commons/thumb/9/99/Flag_of_the_Philippines.svg/22px-Flag_of_the_Philippines.svg.png\" srcset=\"//upload.wikimedia.org/wikipedia/commons/thumb/9/99/Flag_of_the_Philippines.svg/33px-Flag_of_the_Philippines.svg.png 1.5x, //upload.wikimedia.org/wikipedia/commons/thumb/9/99/Flag_of_the_Philippines.svg/44px-Flag_of_the_Philippines.svg.png 2x\" width=\"22\"/></span></span> <a href=\"/wiki/Philippines_at_the_2024_Summer_Olympics\" title=\"Philippines at the 2024 Summer Olympics\">Philippines</a></th><td>2</td><td>0</td><td>2</td><td>4</td></tr><tr><td rowspan=\"2\">39</td><th scope=\"row\" style=\"background-color:inherit;color:inherit;text-align:left\"><span class=\"mw-image-border\" typeof=\"mw:File\"><span><img alt=\"\" class=\"mw-file-element\" data-file-height=\"600\" data-file-width=\"900\" decoding=\"async\" height=\"15\" src=\"//upload.wikimedia.org/wikipedia/commons/thumb/7/77/Flag_of_Algeria.svg/22px-Flag_of_Algeria.svg.png\" srcset=\"//upload.wikimedia.org/wikipedia/commons/thumb/7/77/Flag_of_Algeria.svg/33px-Flag_of_Algeria.svg.png 1.5x, //upload.wikimedia.org/wikipedia/commons/thumb/7/77/Flag_of_Algeria.svg/44px-Flag_of_Algeria.svg.png 2x\" width=\"22\"/></span></span> <a href=\"/wiki/Algeria_at_the_2024_Summer_Olympics\" title=\"Algeria at the 2024 Summer Olympics\">Algeria</a></th><td>2</td><td>0</td><td>1</td><td>3</td></tr><tr><th scope=\"row\" style=\"background-color:inherit;color:inherit;text-align:left\"><span class=\"mw-image-border\" typeof=\"mw:File\"><span><img alt=\"\" class=\"mw-file-element\" data-file-height=\"600\" data-file-width=\"900\" decoding=\"async\" height=\"15\" src=\"//upload.wikimedia.org/wikipedia/commons/thumb/9/9f/Flag_of_Indonesia.svg/22px-Flag_of_Indonesia.svg.png\" srcset=\"//upload.wikimedia.org/wikipedia/commons/thumb/9/9f/Flag_of_Indonesia.svg/33px-Flag_of_Indonesia.svg.png 1.5x, //upload.wikimedia.org/wikipedia/commons/thumb/9/9f/Flag_of_Indonesia.svg/44px-Flag_of_Indonesia.svg.png 2x\" width=\"22\"/></span></span> <a href=\"/wiki/Indonesia_at_the_2024_Summer_Olympics\" title=\"Indonesia at the 2024 Summer Olympics\">Indonesia</a></th><td>2</td><td>0</td><td>1</td><td>3</td></tr><tr><td>41</td><th scope=\"row\" style=\"background-color:inherit;color:inherit;text-align:left\"><span class=\"mw-image-border\" typeof=\"mw:File\"><span><img alt=\"\" class=\"mw-file-element\" data-file-height=\"800\" data-file-width=\"1100\" decoding=\"async\" height=\"16\" src=\"//upload.wikimedia.org/wikipedia/commons/thumb/d/d4/Flag_of_Israel.svg/22px-Flag_of_Israel.svg.png\" srcset=\"//upload.wikimedia.org/wikipedia/commons/thumb/d/d4/Flag_of_Israel.svg/33px-Flag_of_Israel.svg.png 1.5x, //upload.wikimedia.org/wikipedia/commons/thumb/d/d4/Flag_of_Israel.svg/44px-Flag_of_Israel.svg.png 2x\" width=\"22\"/></span></span> <a href=\"/wiki/Israel_at_the_2024_Summer_Olympics\" title=\"Israel at the 2024 Summer Olympics\">Israel</a></th><td>1</td><td>5</td><td>1</td><td>7</td></tr><tr><td>42</td><th scope=\"row\" style=\"background-color:inherit;color:inherit;text-align:left\"><span class=\"mw-image-border\" typeof=\"mw:File\"><span><img alt=\"\" class=\"mw-file-element\" data-file-height=\"800\" data-file-width=\"1280\" decoding=\"async\" height=\"14\" src=\"//upload.wikimedia.org/wikipedia/en/thumb/1/12/Flag_of_Poland.svg/22px-Flag_of_Poland.svg.png\" srcset=\"//upload.wikimedia.org/wikipedia/en/thumb/1/12/Flag_of_Poland.svg/33px-Flag_of_Poland.svg.png 1.5x, //upload.wikimedia.org/wikipedia/en/thumb/1/12/Flag_of_Poland.svg/44px-Flag_of_Poland.svg.png 2x\" width=\"22\"/></span></span> <a href=\"/wiki/Poland_at_the_2024_Summer_Olympics\" title=\"Poland at the 2024 Summer Olympics\">Poland</a></th><td>1</td><td>4</td><td>5</td><td>10</td></tr><tr><td>43</td><th scope=\"row\" style=\"background-color:inherit;color:inherit;text-align:left\"><span class=\"mw-image-border\" typeof=\"mw:File\"><span><img alt=\"\" class=\"mw-file-element\" data-file-height=\"500\" data-file-width=\"750\" decoding=\"async\" height=\"15\" src=\"//upload.wikimedia.org/wikipedia/commons/thumb/2/2e/Flag_of_Kazakhstan_%283-2%29.svg/22px-Flag_of_Kazakhstan_%283-2%29.svg.png\" srcset=\"//upload.wikimedia.org/wikipedia/commons/thumb/2/2e/Flag_of_Kazakhstan_%283-2%29.svg/33px-Flag_of_Kazakhstan_%283-2%29.svg.png 1.5x, //upload.wikimedia.org/wikipedia/commons/thumb/2/2e/Flag_of_Kazakhstan_%283-2%29.svg/44px-Flag_of_Kazakhstan_%283-2%29.svg.png 2x\" width=\"22\"/></span></span> <a href=\"/wiki/Kazakhstan_at_the_2024_Summer_Olympics\" title=\"Kazakhstan at the 2024 Summer Olympics\">Kazakhstan</a></th><td>1</td><td>3</td><td>3</td><td>7</td></tr><tr><td rowspan=\"3\">44</td><th scope=\"row\" style=\"background-color:inherit;color:inherit;text-align:left\"><span class=\"mw-image-border\" typeof=\"mw:File\"><span><img alt=\"\" class=\"mw-file-element\" data-file-height=\"600\" data-file-width=\"1200\" decoding=\"async\" height=\"11\" src=\"//upload.wikimedia.org/wikipedia/commons/thumb/0/0a/Flag_of_Jamaica.svg/22px-Flag_of_Jamaica.svg.png\" srcset=\"//upload.wikimedia.org/wikipedia/commons/thumb/0/0a/Flag_of_Jamaica.svg/33px-Flag_of_Jamaica.svg.png 1.5x, //upload.wikimedia.org/wikipedia/commons/thumb/0/0a/Flag_of_Jamaica.svg/44px-Flag_of_Jamaica.svg.png 2x\" width=\"22\"/></span></span> <a href=\"/wiki/Jamaica_at_the_2024_Summer_Olympics\" title=\"Jamaica at the 2024 Summer Olympics\">Jamaica</a></th><td>1</td><td>3</td><td>2</td><td>6</td></tr><tr><th scope=\"row\" style=\"background-color:inherit;color:inherit;text-align:left\"><span class=\"mw-image-border\" typeof=\"mw:File\"><span><img alt=\"\" class=\"mw-file-element\" data-file-height=\"600\" data-file-width=\"900\" decoding=\"async\" height=\"15\" src=\"//upload.wikimedia.org/wikipedia/commons/thumb/a/af/Flag_of_South_Africa.svg/22px-Flag_of_South_Africa.svg.png\" srcset=\"//upload.wikimedia.org/wikipedia/commons/thumb/a/af/Flag_of_South_Africa.svg/33px-Flag_of_South_Africa.svg.png 1.5x, //upload.wikimedia.org/wikipedia/commons/thumb/a/af/Flag_of_South_Africa.svg/44px-Flag_of_South_Africa.svg.png 2x\" width=\"22\"/></span></span> <a href=\"/wiki/South_Africa_at_the_2024_Summer_Olympics\" title=\"South Africa at the 2024 Summer Olympics\">South Africa</a></th><td>1</td><td>3</td><td>2</td><td>6</td></tr><tr><th scope=\"row\" style=\"background-color:inherit;color:inherit;text-align:left\"><span class=\"mw-image-border\" typeof=\"mw:File\"><span><img alt=\"\" class=\"mw-file-element\" data-file-height=\"600\" data-file-width=\"900\" decoding=\"async\" height=\"15\" src=\"//upload.wikimedia.org/wikipedia/commons/thumb/a/a9/Flag_of_Thailand.svg/22px-Flag_of_Thailand.svg.png\" srcset=\"//upload.wikimedia.org/wikipedia/commons/thumb/a/a9/Flag_of_Thailand.svg/33px-Flag_of_Thailand.svg.png 1.5x, //upload.wikimedia.org/wikipedia/commons/thumb/a/a9/Flag_of_Thailand.svg/44px-Flag_of_Thailand.svg.png 2x\" width=\"22\"/></span></span> <a href=\"/wiki/Thailand_at_the_2024_Summer_Olympics\" title=\"Thailand at the 2024 Summer Olympics\">Thailand</a></th><td>1</td><td>3</td><td>2</td><td>6</td></tr><tr><td><span data-sort-value=\"999 !\">–</span></td><th scope=\"row\" style=\"background-color:inherit;color:inherit;text-align:left\"><span class=\"mw-image-border\" typeof=\"mw:File\"><span><img alt=\"\" class=\"mw-file-element\" data-file-height=\"600\" data-file-width=\"900\" decoding=\"async\" height=\"15\" src=\"//upload.wikimedia.org/wikipedia/commons/thumb/0/0c/Flag_of_the_Individual_Neutral_Athletes_at_the_2024_Summer_Olympics.svg/22px-Flag_of_the_Individual_Neutral_Athletes_at_the_2024_Summer_Olympics.svg.png\" srcset=\"//upload.wikimedia.org/wikipedia/commons/thumb/0/0c/Flag_of_the_Individual_Neutral_Athletes_at_the_2024_Summer_Olympics.svg/33px-Flag_of_the_Individual_Neutral_Athletes_at_the_2024_Summer_Olympics.svg.png 1.5x, //upload.wikimedia.org/wikipedia/commons/thumb/0/0c/Flag_of_the_Individual_Neutral_Athletes_at_the_2024_Summer_Olympics.svg/44px-Flag_of_the_Individual_Neutral_Athletes_at_the_2024_Summer_Olympics.svg.png 2x\" width=\"22\"/></span></span> <a href=\"/wiki/Individual_Neutral_Athletes_at_the_2024_Summer_Olympics\" title=\"Individual Neutral Athletes at the 2024 Summer Olympics\">Individual Neutral Athletes</a><sup class=\"reference\" id=\"cite_ref-Who_is_INA_35-1\"><a href=\"#cite_note-Who_is_INA-35\"><span class=\"cite-bracket\">[</span>A<span class=\"cite-bracket\">]</span></a></sup><sup class=\"reference\" id=\"cite_ref-ANI_medal_table_inclusion_37-1\"><a href=\"#cite_note-ANI_medal_table_inclusion-37\"><span class=\"cite-bracket\">[</span>B<span class=\"cite-bracket\">]</span></a></sup></th><td>1</td><td>3</td><td>1</td><td>5</td></tr><tr><td>47</td><th scope=\"row\" style=\"background-color:inherit;color:inherit;text-align:left\"><span class=\"mw-image-border\" typeof=\"mw:File\"><span><img alt=\"\" class=\"mw-file-element\" data-file-height=\"600\" data-file-width=\"1200\" decoding=\"async\" height=\"11\" src=\"//upload.wikimedia.org/wikipedia/commons/thumb/7/71/Flag_of_Ethiopia.svg/22px-Flag_of_Ethiopia.svg.png\" srcset=\"//upload.wikimedia.org/wikipedia/commons/thumb/7/71/Flag_of_Ethiopia.svg/33px-Flag_of_Ethiopia.svg.png 1.5x, //upload.wikimedia.org/wikipedia/commons/thumb/7/71/Flag_of_Ethiopia.svg/44px-Flag_of_Ethiopia.svg.png 2x\" width=\"22\"/></span></span> <a href=\"/wiki/Ethiopia_at_the_2024_Summer_Olympics\" title=\"Ethiopia at the 2024 Summer Olympics\">Ethiopia</a></th><td>1</td><td>3</td><td>0</td><td>4</td></tr><tr><td>48</td><th scope=\"row\" style=\"background-color:inherit;color:inherit;text-align:left\"><span class=\"mw-image-border\" typeof=\"mw:File\"><span><img alt=\"\" class=\"mw-file-element\" data-file-height=\"1000\" data-file-width=\"1500\" decoding=\"async\" height=\"15\" src=\"//upload.wikimedia.org/wikipedia/commons/thumb/9/92/Civil_Ensign_of_Switzerland_%28Pantone%29.svg/22px-Civil_Ensign_of_Switzerland_%28Pantone%29.svg.png\" srcset=\"//upload.wikimedia.org/wikipedia/commons/thumb/9/92/Civil_Ensign_of_Switzerland_%28Pantone%29.svg/33px-Civil_Ensign_of_Switzerland_%28Pantone%29.svg.png 1.5x, //upload.wikimedia.org/wikipedia/commons/thumb/9/92/Civil_Ensign_of_Switzerland_%28Pantone%29.svg/44px-Civil_Ensign_of_Switzerland_%28Pantone%29.svg.png 2x\" width=\"22\"/></span></span> <a href=\"/wiki/Switzerland_at_the_2024_Summer_Olympics\" title=\"Switzerland at the 2024 Summer Olympics\">Switzerland</a></th><td>1</td><td>2</td><td>5</td><td>8</td></tr><tr><td>49</td><th scope=\"row\" style=\"background-color:inherit;color:inherit;text-align:left\"><span class=\"mw-image-border\" typeof=\"mw:File\"><span><img alt=\"\" class=\"mw-file-element\" data-file-height=\"960\" data-file-width=\"1440\" decoding=\"async\" height=\"15\" src=\"//upload.wikimedia.org/wikipedia/commons/thumb/e/e8/Flag_of_Ecuador.svg/22px-Flag_of_Ecuador.svg.png\" srcset=\"//upload.wikimedia.org/wikipedia/commons/thumb/e/e8/Flag_of_Ecuador.svg/33px-Flag_of_Ecuador.svg.png 1.5x, //upload.wikimedia.org/wikipedia/commons/thumb/e/e8/Flag_of_Ecuador.svg/44px-Flag_of_Ecuador.svg.png 2x\" width=\"22\"/></span></span> <a href=\"/wiki/Ecuador_at_the_2024_Summer_Olympics\" title=\"Ecuador at the 2024 Summer Olympics\">Ecuador</a></th><td>1</td><td>2</td><td>2</td><td>5</td></tr><tr><td>50</td><th scope=\"row\" style=\"background-color:inherit;color:inherit;text-align:left\"><span class=\"mw-image-border\" typeof=\"mw:File\"><span><img alt=\"\" class=\"mw-file-element\" data-file-height=\"400\" data-file-width=\"600\" decoding=\"async\" height=\"15\" src=\"//upload.wikimedia.org/wikipedia/commons/thumb/5/5c/Flag_of_Portugal.svg/22px-Flag_of_Portugal.svg.png\" srcset=\"//upload.wikimedia.org/wikipedia/commons/thumb/5/5c/Flag_of_Portugal.svg/33px-Flag_of_Portugal.svg.png 1.5x, //upload.wikimedia.org/wikipedia/commons/thumb/5/5c/Flag_of_Portugal.svg/44px-Flag_of_Portugal.svg.png 2x\" width=\"22\"/></span></span> <a href=\"/wiki/Portugal_at_the_2024_Summer_Olympics\" title=\"Portugal at the 2024 Summer Olympics\">Portugal</a></th><td>1</td><td>2</td><td>1</td><td>4</td></tr><tr><td>51</td><th scope=\"row\" style=\"background-color:inherit;color:inherit;text-align:left\"><span class=\"mw-image-border\" typeof=\"mw:File\"><span><img alt=\"\" class=\"mw-file-element\" data-file-height=\"400\" data-file-width=\"600\" decoding=\"async\" height=\"15\" src=\"//upload.wikimedia.org/wikipedia/commons/thumb/5/5c/Flag_of_Greece.svg/22px-Flag_of_Greece.svg.png\" srcset=\"//upload.wikimedia.org/wikipedia/commons/thumb/5/5c/Flag_of_Greece.svg/33px-Flag_of_Greece.svg.png 1.5x, //upload.wikimedia.org/wikipedia/commons/thumb/5/5c/Flag_of_Greece.svg/44px-Flag_of_Greece.svg.png 2x\" width=\"22\"/></span></span> <a href=\"/wiki/Greece_at_the_2024_Summer_Olympics\" title=\"Greece at the 2024 Summer Olympics\">Greece</a></th><td>1</td><td>1</td><td>6</td><td>8</td></tr><tr><td rowspan=\"3\">52</td><th scope=\"row\" style=\"background-color:inherit;color:inherit;text-align:left\"><span class=\"mw-image-border\" typeof=\"mw:File\"><span><img alt=\"\" class=\"mw-file-element\" data-file-height=\"500\" data-file-width=\"800\" decoding=\"async\" height=\"14\" src=\"//upload.wikimedia.org/wikipedia/commons/thumb/1/1a/Flag_of_Argentina.svg/22px-Flag_of_Argentina.svg.png\" srcset=\"//upload.wikimedia.org/wikipedia/commons/thumb/1/1a/Flag_of_Argentina.svg/33px-Flag_of_Argentina.svg.png 1.5x, //upload.wikimedia.org/wikipedia/commons/thumb/1/1a/Flag_of_Argentina.svg/44px-Flag_of_Argentina.svg.png 2x\" width=\"22\"/></span></span> <a href=\"/wiki/Argentina_at_the_2024_Summer_Olympics\" title=\"Argentina at the 2024 Summer Olympics\">Argentina</a></th><td>1</td><td>1</td><td>1</td><td>3</td></tr><tr><th scope=\"row\" style=\"background-color:inherit;color:inherit;text-align:left\"><span class=\"mw-image-border\" typeof=\"mw:File\"><span><img alt=\"\" class=\"mw-file-element\" data-file-height=\"600\" data-file-width=\"900\" decoding=\"async\" height=\"15\" src=\"//upload.wikimedia.org/wikipedia/commons/thumb/f/fe/Flag_of_Egypt.svg/22px-Flag_of_Egypt.svg.png\" srcset=\"//upload.wikimedia.org/wikipedia/commons/thumb/f/fe/Flag_of_Egypt.svg/33px-Flag_of_Egypt.svg.png 1.5x, //upload.wikimedia.org/wikipedia/commons/thumb/f/fe/Flag_of_Egypt.svg/44px-Flag_of_Egypt.svg.png 2x\" width=\"22\"/></span></span> <a href=\"/wiki/Egypt_at_the_2024_Summer_Olympics\" title=\"Egypt at the 2024 Summer Olympics\">Egypt</a></th><td>1</td><td>1</td><td>1</td><td>3</td></tr><tr><th scope=\"row\" style=\"background-color:inherit;color:inherit;text-align:left\"><span class=\"mw-image-border\" typeof=\"mw:File\"><span><img alt=\"\" class=\"mw-file-element\" data-file-height=\"800\" data-file-width=\"1200\" decoding=\"async\" height=\"15\" src=\"//upload.wikimedia.org/wikipedia/commons/thumb/c/ce/Flag_of_Tunisia.svg/22px-Flag_of_Tunisia.svg.png\" srcset=\"//upload.wikimedia.org/wikipedia/commons/thumb/c/ce/Flag_of_Tunisia.svg/33px-Flag_of_Tunisia.svg.png 1.5x, //upload.wikimedia.org/wikipedia/commons/thumb/c/ce/Flag_of_Tunisia.svg/44px-Flag_of_Tunisia.svg.png 2x\" width=\"22\"/></span></span> <a href=\"/wiki/Tunisia_at_the_2024_Summer_Olympics\" title=\"Tunisia at the 2024 Summer Olympics\">Tunisia</a></th><td>1</td><td>1</td><td>1</td><td>3</td></tr><tr><td rowspan=\"4\">55</td><th scope=\"row\" style=\"background-color:inherit;color:inherit;text-align:left\"><span class=\"mw-image-border\" typeof=\"mw:File\"><span><img alt=\"\" class=\"mw-file-element\" data-file-height=\"800\" data-file-width=\"1200\" decoding=\"async\" height=\"15\" src=\"//upload.wikimedia.org/wikipedia/commons/thumb/f/fa/Flag_of_Botswana.svg/22px-Flag_of_Botswana.svg.png\" srcset=\"//upload.wikimedia.org/wikipedia/commons/thumb/f/fa/Flag_of_Botswana.svg/33px-Flag_of_Botswana.svg.png 1.5x, //upload.wikimedia.org/wikipedia/commons/thumb/f/fa/Flag_of_Botswana.svg/44px-Flag_of_Botswana.svg.png 2x\" width=\"22\"/></span></span> <a href=\"/wiki/Botswana_at_the_2024_Summer_Olympics\" title=\"Botswana at the 2024 Summer Olympics\">Botswana</a></th><td>1</td><td>1</td><td>0</td><td>2</td></tr><tr><th scope=\"row\" style=\"background-color:inherit;color:inherit;text-align:left\"><span class=\"mw-image-border\" typeof=\"mw:File\"><span><img alt=\"\" class=\"mw-file-element\" data-file-height=\"600\" data-file-width=\"900\" decoding=\"async\" height=\"15\" src=\"//upload.wikimedia.org/wikipedia/commons/thumb/7/78/Flag_of_Chile.svg/22px-Flag_of_Chile.svg.png\" srcset=\"//upload.wikimedia.org/wikipedia/commons/thumb/7/78/Flag_of_Chile.svg/33px-Flag_of_Chile.svg.png 1.5x, //upload.wikimedia.org/wikipedia/commons/thumb/7/78/Flag_of_Chile.svg/44px-Flag_of_Chile.svg.png 2x\" width=\"22\"/></span></span> <a href=\"/wiki/Chile_at_the_2024_Summer_Olympics\" title=\"Chile at the 2024 Summer Olympics\">Chile</a></th><td>1</td><td>1</td><td>0</td><td>2</td></tr><tr><th scope=\"row\" style=\"background-color:inherit;color:inherit;text-align:left\"><span class=\"mw-image-border\" typeof=\"mw:File\"><span><img alt=\"\" class=\"mw-file-element\" data-file-height=\"600\" data-file-width=\"1200\" decoding=\"async\" height=\"11\" src=\"//upload.wikimedia.org/wikipedia/commons/thumb/9/9f/Flag_of_Saint_Lucia.svg/22px-Flag_of_Saint_Lucia.svg.png\" srcset=\"//upload.wikimedia.org/wikipedia/commons/thumb/9/9f/Flag_of_Saint_Lucia.svg/33px-Flag_of_Saint_Lucia.svg.png 1.5x, //upload.wikimedia.org/wikipedia/commons/thumb/9/9f/Flag_of_Saint_Lucia.svg/44px-Flag_of_Saint_Lucia.svg.png 2x\" width=\"22\"/></span></span> <a href=\"/wiki/Saint_Lucia_at_the_2024_Summer_Olympics\" title=\"Saint Lucia at the 2024 Summer Olympics\">Saint Lucia</a></th><td>1</td><td>1</td><td>0</td><td>2</td></tr><tr><th scope=\"row\" style=\"background-color:inherit;color:inherit;text-align:left\"><span class=\"mw-image-border\" typeof=\"mw:File\"><span><img alt=\"\" class=\"mw-file-element\" data-file-height=\"600\" data-file-width=\"900\" decoding=\"async\" height=\"15\" src=\"//upload.wikimedia.org/wikipedia/commons/thumb/4/4e/Flag_of_Uganda.svg/22px-Flag_of_Uganda.svg.png\" srcset=\"//upload.wikimedia.org/wikipedia/commons/thumb/4/4e/Flag_of_Uganda.svg/33px-Flag_of_Uganda.svg.png 1.5x, //upload.wikimedia.org/wikipedia/commons/thumb/4/4e/Flag_of_Uganda.svg/44px-Flag_of_Uganda.svg.png 2x\" width=\"22\"/></span></span> <a href=\"/wiki/Uganda_at_the_2024_Summer_Olympics\" title=\"Uganda at the 2024 Summer Olympics\">Uganda</a></th><td>1</td><td>1</td><td>0</td><td>2</td></tr><tr><td>59</td><th scope=\"row\" style=\"background-color:inherit;color:inherit;text-align:left\"><span class=\"mw-image-border\" typeof=\"mw:File\"><span><img alt=\"\" class=\"mw-file-element\" data-file-height=\"600\" data-file-width=\"900\" decoding=\"async\" height=\"15\" src=\"//upload.wikimedia.org/wikipedia/commons/thumb/9/9f/Flag_of_the_Dominican_Republic.svg/22px-Flag_of_the_Dominican_Republic.svg.png\" srcset=\"//upload.wikimedia.org/wikipedia/commons/thumb/9/9f/Flag_of_the_Dominican_Republic.svg/33px-Flag_of_the_Dominican_Republic.svg.png 1.5x, //upload.wikimedia.org/wikipedia/commons/thumb/9/9f/Flag_of_the_Dominican_Republic.svg/44px-Flag_of_the_Dominican_Republic.svg.png 2x\" width=\"22\"/></span></span> <a href=\"/wiki/Dominican_Republic_at_the_2024_Summer_Olympics\" title=\"Dominican Republic at the 2024 Summer Olympics\">Dominican Republic</a></th><td>1</td><td>0</td><td>2</td><td>3</td></tr><tr><td rowspan=\"2\">60</td><th scope=\"row\" style=\"background-color:inherit;color:inherit;text-align:left\"><span class=\"mw-image-border\" typeof=\"mw:File\"><span><img alt=\"\" class=\"mw-file-element\" data-file-height=\"600\" data-file-width=\"960\" decoding=\"async\" height=\"14\" src=\"//upload.wikimedia.org/wikipedia/commons/thumb/e/ec/Flag_of_Guatemala.svg/22px-Flag_of_Guatemala.svg.png\" srcset=\"//upload.wikimedia.org/wikipedia/commons/thumb/e/ec/Flag_of_Guatemala.svg/33px-Flag_of_Guatemala.svg.png 1.5x, //upload.wikimedia.org/wikipedia/commons/thumb/e/ec/Flag_of_Guatemala.svg/44px-Flag_of_Guatemala.svg.png 2x\" width=\"22\"/></span></span> <a href=\"/wiki/Guatemala_at_the_2024_Summer_Olympics\" title=\"Guatemala at the 2024 Summer Olympics\">Guatemala</a></th><td>1</td><td>0</td><td>1</td><td>2</td></tr><tr><th scope=\"row\" style=\"background-color:inherit;color:inherit;text-align:left\"><span class=\"mw-image-border\" typeof=\"mw:File\"><span><img alt=\"\" class=\"mw-file-element\" data-file-height=\"600\" data-file-width=\"900\" decoding=\"async\" height=\"15\" src=\"//upload.wikimedia.org/wikipedia/commons/thumb/2/2c/Flag_of_Morocco.svg/22px-Flag_of_Morocco.svg.png\" srcset=\"//upload.wikimedia.org/wikipedia/commons/thumb/2/2c/Flag_of_Morocco.svg/33px-Flag_of_Morocco.svg.png 1.5x, //upload.wikimedia.org/wikipedia/commons/thumb/2/2c/Flag_of_Morocco.svg/44px-Flag_of_Morocco.svg.png 2x\" width=\"22\"/></span></span> <a href=\"/wiki/Morocco_at_the_2024_Summer_Olympics\" title=\"Morocco at the 2024 Summer Olympics\">Morocco</a></th><td>1</td><td>0</td><td>1</td><td>2</td></tr><tr><td rowspan=\"2\">62</td><th scope=\"row\" style=\"background-color:inherit;color:inherit;text-align:left\"><span class=\"mw-image-border\" typeof=\"mw:File\"><span><img alt=\"\" class=\"mw-file-element\" data-file-height=\"600\" data-file-width=\"1200\" decoding=\"async\" height=\"11\" src=\"//upload.wikimedia.org/wikipedia/commons/thumb/c/c4/Flag_of_Dominica.svg/22px-Flag_of_Dominica.svg.png\" srcset=\"//upload.wikimedia.org/wikipedia/commons/thumb/c/c4/Flag_of_Dominica.svg/33px-Flag_of_Dominica.svg.png 1.5x, //upload.wikimedia.org/wikipedia/commons/thumb/c/c4/Flag_of_Dominica.svg/44px-Flag_of_Dominica.svg.png 2x\" width=\"22\"/></span></span> <a href=\"/wiki/Dominica_at_the_2024_Summer_Olympics\" title=\"Dominica at the 2024 Summer Olympics\">Dominica</a></th><td>1</td><td>0</td><td>0</td><td>1</td></tr><tr><th scope=\"row\" style=\"background-color:inherit;color:inherit;text-align:left\"><span class=\"mw-image-border\" typeof=\"mw:File\"><span><img alt=\"\" class=\"mw-file-element\" data-file-height=\"600\" data-file-width=\"900\" decoding=\"async\" height=\"15\" src=\"//upload.wikimedia.org/wikipedia/commons/thumb/3/32/Flag_of_Pakistan.svg/22px-Flag_of_Pakistan.svg.png\" srcset=\"//upload.wikimedia.org/wikipedia/commons/thumb/3/32/Flag_of_Pakistan.svg/33px-Flag_of_Pakistan.svg.png 1.5x, //upload.wikimedia.org/wikipedia/commons/thumb/3/32/Flag_of_Pakistan.svg/44px-Flag_of_Pakistan.svg.png 2x\" width=\"22\"/></span></span> <a href=\"/wiki/Pakistan_at_the_2024_Summer_Olympics\" title=\"Pakistan at the 2024 Summer Olympics\">Pakistan</a></th><td>1</td><td>0</td><td>0</td><td>1</td></tr><tr><td>64</td><th scope=\"row\" style=\"background-color:inherit;color:inherit;text-align:left\"><span class=\"mw-image-border\" typeof=\"mw:File\"><span><img alt=\"\" class=\"mw-file-element\" data-file-height=\"800\" data-file-width=\"1200\" decoding=\"async\" height=\"15\" src=\"//upload.wikimedia.org/wikipedia/commons/thumb/b/b4/Flag_of_Turkey.svg/22px-Flag_of_Turkey.svg.png\" srcset=\"//upload.wikimedia.org/wikipedia/commons/thumb/b/b4/Flag_of_Turkey.svg/33px-Flag_of_Turkey.svg.png 1.5x, //upload.wikimedia.org/wikipedia/commons/thumb/b/b4/Flag_of_Turkey.svg/44px-Flag_of_Turkey.svg.png 2x\" width=\"22\"/></span></span> <a href=\"/wiki/Turkey_at_the_2024_Summer_Olympics\" title=\"Turkey at the 2024 Summer Olympics\">Turkey</a></th><td>0</td><td>3</td><td>5</td><td>8</td></tr><tr><td>65</td><th scope=\"row\" style=\"background-color:inherit;color:inherit;text-align:left\"><span class=\"mw-image-border\" typeof=\"mw:File\"><span><img alt=\"\" class=\"mw-file-element\" data-file-height=\"560\" data-file-width=\"980\" decoding=\"async\" height=\"13\" src=\"//upload.wikimedia.org/wikipedia/commons/thumb/f/fc/Flag_of_Mexico.svg/22px-Flag_of_Mexico.svg.png\" srcset=\"//upload.wikimedia.org/wikipedia/commons/thumb/f/fc/Flag_of_Mexico.svg/33px-Flag_of_Mexico.svg.png 1.5x, //upload.wikimedia.org/wikipedia/commons/thumb/f/fc/Flag_of_Mexico.svg/44px-Flag_of_Mexico.svg.png 2x\" width=\"22\"/></span></span> <a href=\"/wiki/Mexico_at_the_2024_Summer_Olympics\" title=\"Mexico at the 2024 Summer Olympics\">Mexico</a></th><td>0</td><td>3</td><td>2</td><td>5</td></tr><tr><td rowspan=\"2\">66</td><th scope=\"row\" style=\"background-color:inherit;color:inherit;text-align:left\"><span class=\"mw-image-border\" typeof=\"mw:File\"><span><img alt=\"\" class=\"mw-file-element\" data-file-height=\"600\" data-file-width=\"1200\" decoding=\"async\" height=\"11\" src=\"//upload.wikimedia.org/wikipedia/commons/thumb/2/2f/Flag_of_Armenia.svg/22px-Flag_of_Armenia.svg.png\" srcset=\"//upload.wikimedia.org/wikipedia/commons/thumb/2/2f/Flag_of_Armenia.svg/33px-Flag_of_Armenia.svg.png 1.5x, //upload.wikimedia.org/wikipedia/commons/thumb/2/2f/Flag_of_Armenia.svg/44px-Flag_of_Armenia.svg.png 2x\" width=\"22\"/></span></span> <a href=\"/wiki/Armenia_at_the_2024_Summer_Olympics\" title=\"Armenia at the 2024 Summer Olympics\">Armenia</a></th><td>0</td><td>3</td><td>1</td><td>4</td></tr><tr><th scope=\"row\" style=\"background-color:inherit;color:inherit;text-align:left\"><span class=\"mw-image-border\" typeof=\"mw:File\"><span><img alt=\"\" class=\"mw-file-element\" data-file-height=\"600\" data-file-width=\"900\" decoding=\"async\" height=\"15\" src=\"//upload.wikimedia.org/wikipedia/commons/thumb/2/21/Flag_of_Colombia.svg/22px-Flag_of_Colombia.svg.png\" srcset=\"//upload.wikimedia.org/wikipedia/commons/thumb/2/21/Flag_of_Colombia.svg/33px-Flag_of_Colombia.svg.png 1.5x, //upload.wikimedia.org/wikipedia/commons/thumb/2/21/Flag_of_Colombia.svg/44px-Flag_of_Colombia.svg.png 2x\" width=\"22\"/></span></span> <a href=\"/wiki/Colombia_at_the_2024_Summer_Olympics\" title=\"Colombia at the 2024 Summer Olympics\">Colombia</a></th><td>0</td><td>3</td><td>1</td><td>4</td></tr><tr><td rowspan=\"2\">68</td><th scope=\"row\" style=\"background-color:inherit;color:inherit;text-align:left\"><span class=\"mw-image-border\" typeof=\"mw:File\"><span><img alt=\"\" class=\"mw-file-element\" data-file-height=\"600\" data-file-width=\"1000\" decoding=\"async\" height=\"13\" src=\"//upload.wikimedia.org/wikipedia/commons/thumb/c/c7/Flag_of_Kyrgyzstan.svg/22px-Flag_of_Kyrgyzstan.svg.png\" srcset=\"//upload.wikimedia.org/wikipedia/commons/thumb/c/c7/Flag_of_Kyrgyzstan.svg/33px-Flag_of_Kyrgyzstan.svg.png 1.5x, //upload.wikimedia.org/wikipedia/commons/thumb/c/c7/Flag_of_Kyrgyzstan.svg/44px-Flag_of_Kyrgyzstan.svg.png 2x\" width=\"22\"/></span></span> <a href=\"/wiki/Kyrgyzstan_at_the_2024_Summer_Olympics\" title=\"Kyrgyzstan at the 2024 Summer Olympics\">Kyrgyzstan</a></th><td>0</td><td>2</td><td>4</td><td>6</td></tr><tr><th scope=\"row\" style=\"background-color:inherit;color:inherit;text-align:left\"><span class=\"mw-image-border\" typeof=\"mw:File\"><span><img alt=\"\" class=\"mw-file-element\" data-file-height=\"800\" data-file-width=\"1600\" decoding=\"async\" height=\"11\" src=\"//upload.wikimedia.org/wikipedia/commons/thumb/5/51/Flag_of_North_Korea.svg/22px-Flag_of_North_Korea.svg.png\" srcset=\"//upload.wikimedia.org/wikipedia/commons/thumb/5/51/Flag_of_North_Korea.svg/33px-Flag_of_North_Korea.svg.png 1.5x, //upload.wikimedia.org/wikipedia/commons/thumb/5/51/Flag_of_North_Korea.svg/44px-Flag_of_North_Korea.svg.png 2x\" width=\"22\"/></span></span> <a href=\"/wiki/North_Korea_at_the_2024_Summer_Olympics\" title=\"North Korea at the 2024 Summer Olympics\">North Korea</a></th><td>0</td><td>2</td><td>4</td><td>6</td></tr><tr><td>70</td><th scope=\"row\" style=\"background-color:inherit;color:inherit;text-align:left\"><span class=\"mw-image-border\" typeof=\"mw:File\"><span><img alt=\"\" class=\"mw-file-element\" data-file-height=\"600\" data-file-width=\"1000\" decoding=\"async\" height=\"13\" src=\"//upload.wikimedia.org/wikipedia/commons/thumb/1/11/Flag_of_Lithuania.svg/22px-Flag_of_Lithuania.svg.png\" srcset=\"//upload.wikimedia.org/wikipedia/commons/thumb/1/11/Flag_of_Lithuania.svg/33px-Flag_of_Lithuania.svg.png 1.5x, //upload.wikimedia.org/wikipedia/commons/thumb/1/11/Flag_of_Lithuania.svg/44px-Flag_of_Lithuania.svg.png 2x\" width=\"22\"/></span></span> <a href=\"/wiki/Lithuania_at_the_2024_Summer_Olympics\" title=\"Lithuania at the 2024 Summer Olympics\">Lithuania</a></th><td>0</td><td>2</td><td>2</td><td>4</td></tr><tr><td>71</td><th scope=\"row\" style=\"background-color:inherit;color:inherit;text-align:left\"><span class=\"mw-image-border\" typeof=\"mw:File\"><span><img alt=\"\" class=\"mw-file-element\" data-file-height=\"600\" data-file-width=\"900\" decoding=\"async\" height=\"15\" src=\"//upload.wikimedia.org/wikipedia/en/thumb/4/41/Flag_of_India.svg/22px-Flag_of_India.svg.png\" srcset=\"//upload.wikimedia.org/wikipedia/en/thumb/4/41/Flag_of_India.svg/33px-Flag_of_India.svg.png 1.5x, //upload.wikimedia.org/wikipedia/en/thumb/4/41/Flag_of_India.svg/44px-Flag_of_India.svg.png 2x\" width=\"22\"/></span></span> <a href=\"/wiki/India_at_the_2024_Summer_Olympics\" title=\"India at the 2024 Summer Olympics\">India</a></th><td>0</td><td>1</td><td>5</td><td>6</td></tr><tr><td>72</td><th scope=\"row\" style=\"background-color:inherit;color:inherit;text-align:left\"><span class=\"mw-image-border\" typeof=\"mw:File\"><span><img alt=\"\" class=\"mw-file-element\" data-file-height=\"900\" data-file-width=\"1350\" decoding=\"async\" height=\"15\" src=\"//upload.wikimedia.org/wikipedia/commons/thumb/b/bf/Flag_of_Moldova_%283-2%29.svg/22px-Flag_of_Moldova_%283-2%29.svg.png\" srcset=\"//upload.wikimedia.org/wikipedia/commons/thumb/b/bf/Flag_of_Moldova_%283-2%29.svg/33px-Flag_of_Moldova_%283-2%29.svg.png 1.5x, //upload.wikimedia.org/wikipedia/commons/thumb/b/bf/Flag_of_Moldova_%283-2%29.svg/44px-Flag_of_Moldova_%283-2%29.svg.png 2x\" width=\"22\"/></span></span> <a href=\"/wiki/Moldova_at_the_2024_Summer_Olympics\" title=\"Moldova at the 2024 Summer Olympics\">Moldova</a></th><td>0</td><td>1</td><td>3</td><td>4</td></tr><tr><td>73</td><th scope=\"row\" style=\"background-color:inherit;color:inherit;text-align:left\"><span class=\"mw-image-border\" typeof=\"mw:File\"><span><img alt=\"\" class=\"mw-file-element\" data-file-height=\"600\" data-file-width=\"840\" decoding=\"async\" height=\"16\" src=\"//upload.wikimedia.org/wikipedia/commons/thumb/1/1f/Flag_of_Kosovo.svg/22px-Flag_of_Kosovo.svg.png\" srcset=\"//upload.wikimedia.org/wikipedia/commons/thumb/1/1f/Flag_of_Kosovo.svg/33px-Flag_of_Kosovo.svg.png 1.5x, //upload.wikimedia.org/wikipedia/commons/thumb/1/1f/Flag_of_Kosovo.svg/44px-Flag_of_Kosovo.svg.png 2x\" width=\"22\"/></span></span> <a href=\"/wiki/Kosovo_at_the_2024_Summer_Olympics\" title=\"Kosovo at the 2024 Summer Olympics\">Kosovo</a></th><td>0</td><td>1</td><td>1</td><td>2</td></tr><tr><td rowspan=\"5\">74</td><th scope=\"row\" style=\"background-color:inherit;color:inherit;text-align:left\"><span class=\"mw-image-border\" typeof=\"mw:File\"><span><img alt=\"\" class=\"mw-file-element\" data-file-height=\"800\" data-file-width=\"1200\" decoding=\"async\" height=\"15\" src=\"//upload.wikimedia.org/wikipedia/commons/thumb/d/d4/Flag_of_Cyprus.svg/22px-Flag_of_Cyprus.svg.png\" srcset=\"//upload.wikimedia.org/wikipedia/commons/thumb/d/d4/Flag_of_Cyprus.svg/33px-Flag_of_Cyprus.svg.png 1.5x, //upload.wikimedia.org/wikipedia/commons/thumb/d/d4/Flag_of_Cyprus.svg/44px-Flag_of_Cyprus.svg.png 2x\" width=\"22\"/></span></span> <a href=\"/wiki/Cyprus_at_the_2024_Summer_Olympics\" title=\"Cyprus at the 2024 Summer Olympics\">Cyprus</a></th><td>0</td><td>1</td><td>0</td><td>1</td></tr><tr><th scope=\"row\" style=\"background-color:inherit;color:inherit;text-align:left\"><span class=\"mw-image-border\" typeof=\"mw:File\"><span><img alt=\"\" class=\"mw-file-element\" data-file-height=\"600\" data-file-width=\"1200\" decoding=\"async\" height=\"11\" src=\"//upload.wikimedia.org/wikipedia/commons/thumb/b/ba/Flag_of_Fiji.svg/22px-Flag_of_Fiji.svg.png\" srcset=\"//upload.wikimedia.org/wikipedia/commons/thumb/b/ba/Flag_of_Fiji.svg/33px-Flag_of_Fiji.svg.png 1.5x, //upload.wikimedia.org/wikipedia/commons/thumb/b/ba/Flag_of_Fiji.svg/44px-Flag_of_Fiji.svg.png 2x\" width=\"22\"/></span></span> <a href=\"/wiki/Fiji_at_the_2024_Summer_Olympics\" title=\"Fiji at the 2024 Summer Olympics\">Fiji</a></th><td>0</td><td>1</td><td>0</td><td>1</td></tr><tr><th scope=\"row\" style=\"background-color:inherit;color:inherit;text-align:left\"><span class=\"mw-image-border\" typeof=\"mw:File\"><span><img alt=\"\" class=\"mw-file-element\" data-file-height=\"600\" data-file-width=\"900\" decoding=\"async\" height=\"15\" src=\"//upload.wikimedia.org/wikipedia/commons/thumb/0/05/Flag_of_Jordan_%283-2%29.svg/22px-Flag_of_Jordan_%283-2%29.svg.png\" srcset=\"//upload.wikimedia.org/wikipedia/commons/thumb/0/05/Flag_of_Jordan_%283-2%29.svg/33px-Flag_of_Jordan_%283-2%29.svg.png 1.5x, //upload.wikimedia.org/wikipedia/commons/thumb/0/05/Flag_of_Jordan_%283-2%29.svg/44px-Flag_of_Jordan_%283-2%29.svg.png 2x\" width=\"22\"/></span></span> <a href=\"/wiki/Jordan_at_the_2024_Summer_Olympics\" title=\"Jordan at the 2024 Summer Olympics\">Jordan</a></th><td>0</td><td>1</td><td>0</td><td>1</td></tr><tr><th scope=\"row\" style=\"background-color:inherit;color:inherit;text-align:left\"><span class=\"mw-image-border\" typeof=\"mw:File\"><span><img alt=\"\" class=\"mw-file-element\" data-file-height=\"600\" data-file-width=\"1200\" decoding=\"async\" height=\"11\" src=\"//upload.wikimedia.org/wikipedia/commons/thumb/4/4c/Flag_of_Mongolia.svg/22px-Flag_of_Mongolia.svg.png\" srcset=\"//upload.wikimedia.org/wikipedia/commons/thumb/4/4c/Flag_of_Mongolia.svg/33px-Flag_of_Mongolia.svg.png 1.5x, //upload.wikimedia.org/wikipedia/commons/thumb/4/4c/Flag_of_Mongolia.svg/44px-Flag_of_Mongolia.svg.png 2x\" width=\"22\"/></span></span> <a href=\"/wiki/Mongolia_at_the_2024_Summer_Olympics\" title=\"Mongolia at the 2024 Summer Olympics\">Mongolia</a></th><td>0</td><td>1</td><td>0</td><td>1</td></tr><tr><th scope=\"row\" style=\"background-color:inherit;color:inherit;text-align:left\"><span class=\"mw-image-border\" typeof=\"mw:File\"><span><img alt=\"\" class=\"mw-file-element\" data-file-height=\"600\" data-file-width=\"900\" decoding=\"async\" height=\"15\" src=\"//upload.wikimedia.org/wikipedia/commons/thumb/a/ab/Flag_of_Panama.svg/22px-Flag_of_Panama.svg.png\" srcset=\"//upload.wikimedia.org/wikipedia/commons/thumb/a/ab/Flag_of_Panama.svg/33px-Flag_of_Panama.svg.png 1.5x, //upload.wikimedia.org/wikipedia/commons/thumb/a/ab/Flag_of_Panama.svg/44px-Flag_of_Panama.svg.png 2x\" width=\"22\"/></span></span> <a href=\"/wiki/Panama_at_the_2024_Summer_Olympics\" title=\"Panama at the 2024 Summer Olympics\">Panama</a></th><td>0</td><td>1</td><td>0</td><td>1</td></tr><tr><td>79</td><th scope=\"row\" style=\"background-color:inherit;color:inherit;text-align:left\"><span class=\"mw-image-border\" typeof=\"mw:File\"><span><img alt=\"\" class=\"mw-file-element\" data-file-height=\"600\" data-file-width=\"1200\" decoding=\"async\" height=\"11\" src=\"//upload.wikimedia.org/wikipedia/commons/thumb/d/d0/Flag_of_Tajikistan.svg/22px-Flag_of_Tajikistan.svg.png\" srcset=\"//upload.wikimedia.org/wikipedia/commons/thumb/d/d0/Flag_of_Tajikistan.svg/33px-Flag_of_Tajikistan.svg.png 1.5x, //upload.wikimedia.org/wikipedia/commons/thumb/d/d0/Flag_of_Tajikistan.svg/44px-Flag_of_Tajikistan.svg.png 2x\" width=\"22\"/></span></span> <a href=\"/wiki/Tajikistan_at_the_2024_Summer_Olympics\" title=\"Tajikistan at the 2024 Summer Olympics\">Tajikistan</a></th><td>0</td><td>0</td><td>3</td><td>3</td></tr><tr><td rowspan=\"4\">80</td><th scope=\"row\" style=\"background-color:inherit;color:inherit;text-align:left\"><span class=\"mw-image-border\" typeof=\"mw:File\"><span><img alt=\"\" class=\"mw-file-element\" data-file-height=\"500\" data-file-width=\"700\" decoding=\"async\" height=\"16\" src=\"//upload.wikimedia.org/wikipedia/commons/thumb/3/36/Flag_of_Albania.svg/22px-Flag_of_Albania.svg.png\" srcset=\"//upload.wikimedia.org/wikipedia/commons/thumb/3/36/Flag_of_Albania.svg/33px-Flag_of_Albania.svg.png 1.5x, //upload.wikimedia.org/wikipedia/commons/thumb/3/36/Flag_of_Albania.svg/44px-Flag_of_Albania.svg.png 2x\" width=\"22\"/></span></span> <a href=\"/wiki/Albania_at_the_2024_Summer_Olympics\" title=\"Albania at the 2024 Summer Olympics\">Albania</a></th><td>0</td><td>0</td><td>2</td><td>2</td></tr><tr><th scope=\"row\" style=\"background-color:inherit;color:inherit;text-align:left\"><span class=\"mw-image-border\" typeof=\"mw:File\"><span><img alt=\"\" class=\"mw-file-element\" data-file-height=\"600\" data-file-width=\"1000\" decoding=\"async\" height=\"13\" src=\"//upload.wikimedia.org/wikipedia/commons/thumb/b/bc/Flag_of_Grenada.svg/22px-Flag_of_Grenada.svg.png\" srcset=\"//upload.wikimedia.org/wikipedia/commons/thumb/b/bc/Flag_of_Grenada.svg/33px-Flag_of_Grenada.svg.png 1.5x, //upload.wikimedia.org/wikipedia/commons/thumb/b/bc/Flag_of_Grenada.svg/44px-Flag_of_Grenada.svg.png 2x\" width=\"22\"/></span></span> <a href=\"/wiki/Grenada_at_the_2024_Summer_Olympics\" title=\"Grenada at the 2024 Summer Olympics\">Grenada</a></th><td>0</td><td>0</td><td>2</td><td>2</td></tr><tr><th scope=\"row\" style=\"background-color:inherit;color:inherit;text-align:left\"><span class=\"mw-image-border\" typeof=\"mw:File\"><span><img alt=\"\" class=\"mw-file-element\" data-file-height=\"600\" data-file-width=\"1200\" decoding=\"async\" height=\"11\" src=\"//upload.wikimedia.org/wikipedia/commons/thumb/6/66/Flag_of_Malaysia.svg/22px-Flag_of_Malaysia.svg.png\" srcset=\"//upload.wikimedia.org/wikipedia/commons/thumb/6/66/Flag_of_Malaysia.svg/33px-Flag_of_Malaysia.svg.png 1.5x, //upload.wikimedia.org/wikipedia/commons/thumb/6/66/Flag_of_Malaysia.svg/44px-Flag_of_Malaysia.svg.png 2x\" width=\"22\"/></span></span> <a href=\"/wiki/Malaysia_at_the_2024_Summer_Olympics\" title=\"Malaysia at the 2024 Summer Olympics\">Malaysia</a></th><td>0</td><td>0</td><td>2</td><td>2</td></tr><tr><th scope=\"row\" style=\"background-color:inherit;color:inherit;text-align:left\"><span class=\"mw-image-border\" typeof=\"mw:File\"><span><img alt=\"\" class=\"mw-file-element\" data-file-height=\"600\" data-file-width=\"900\" decoding=\"async\" height=\"15\" src=\"//upload.wikimedia.org/wikipedia/commons/thumb/2/28/Flag_of_Puerto_Rico.svg/22px-Flag_of_Puerto_Rico.svg.png\" srcset=\"//upload.wikimedia.org/wikipedia/commons/thumb/2/28/Flag_of_Puerto_Rico.svg/33px-Flag_of_Puerto_Rico.svg.png 1.5x, //upload.wikimedia.org/wikipedia/commons/thumb/2/28/Flag_of_Puerto_Rico.svg/44px-Flag_of_Puerto_Rico.svg.png 2x\" width=\"22\"/></span></span> <a href=\"/wiki/Puerto_Rico_at_the_2024_Summer_Olympics\" title=\"Puerto Rico at the 2024 Summer Olympics\">Puerto Rico</a></th><td>0</td><td>0</td><td>2</td><td>2</td></tr><tr><td rowspan=\"8\">84</td><th scope=\"row\" style=\"background-color:inherit;color:inherit;text-align:left\"><span class=\"mw-image-border\" typeof=\"mw:File\"><span><img alt=\"\" class=\"mw-file-element\" data-file-height=\"600\" data-file-width=\"1020\" decoding=\"async\" height=\"13\" src=\"//upload.wikimedia.org/wikipedia/commons/thumb/3/38/Flag_of_Cape_Verde.svg/22px-Flag_of_Cape_Verde.svg.png\" srcset=\"//upload.wikimedia.org/wikipedia/commons/thumb/3/38/Flag_of_Cape_Verde.svg/33px-Flag_of_Cape_Verde.svg.png 1.5x, //upload.wikimedia.org/wikipedia/commons/thumb/3/38/Flag_of_Cape_Verde.svg/44px-Flag_of_Cape_Verde.svg.png 2x\" width=\"22\"/></span></span> <a href=\"/wiki/Cape_Verde_at_the_2024_Summer_Olympics\" title=\"Cape Verde at the 2024 Summer Olympics\">Cape Verde</a></th><td>0</td><td>0</td><td>1</td><td>1</td></tr><tr><th scope=\"row\" style=\"background-color:inherit;color:inherit;text-align:left\"><span class=\"mw-image-border\" typeof=\"mw:File\"><span><img alt=\"\" class=\"mw-file-element\" data-file-height=\"600\" data-file-width=\"900\" decoding=\"async\" height=\"15\" src=\"//upload.wikimedia.org/wikipedia/commons/thumb/f/fe/Flag_of_C%C3%B4te_d%27Ivoire.svg/22px-Flag_of_C%C3%B4te_d%27Ivoire.svg.png\" srcset=\"//upload.wikimedia.org/wikipedia/commons/thumb/f/fe/Flag_of_C%C3%B4te_d%27Ivoire.svg/33px-Flag_of_C%C3%B4te_d%27Ivoire.svg.png 1.5x, //upload.wikimedia.org/wikipedia/commons/thumb/f/fe/Flag_of_C%C3%B4te_d%27Ivoire.svg/44px-Flag_of_C%C3%B4te_d%27Ivoire.svg.png 2x\" width=\"22\"/></span></span> <a href=\"/wiki/Ivory_Coast_at_the_2024_Summer_Olympics\" title=\"Ivory Coast at the 2024 Summer Olympics\">Ivory Coast</a></th><td>0</td><td>0</td><td>1</td><td>1</td></tr><tr><th scope=\"row\" style=\"background-color:inherit;color:inherit;text-align:left\"><span class=\"mw-image-border\" typeof=\"mw:File\"><span><img alt=\"\" class=\"mw-file-element\" data-file-height=\"600\" data-file-width=\"900\" decoding=\"async\" height=\"15\" src=\"//upload.wikimedia.org/wikipedia/commons/thumb/c/cf/Flag_of_Peru.svg/22px-Flag_of_Peru.svg.png\" srcset=\"//upload.wikimedia.org/wikipedia/commons/thumb/c/cf/Flag_of_Peru.svg/33px-Flag_of_Peru.svg.png 1.5x, //upload.wikimedia.org/wikipedia/commons/thumb/c/cf/Flag_of_Peru.svg/44px-Flag_of_Peru.svg.png 2x\" width=\"22\"/></span></span> <a href=\"/wiki/Peru_at_the_2024_Summer_Olympics\" title=\"Peru at the 2024 Summer Olympics\">Peru</a></th><td>0</td><td>0</td><td>1</td><td>1</td></tr><tr><th scope=\"row\" style=\"background-color:inherit;color:inherit;text-align:left\"><span class=\"mw-image-border\" typeof=\"mw:File\"><span><img alt=\"\" class=\"mw-file-element\" data-file-height=\"600\" data-file-width=\"900\" decoding=\"async\" height=\"15\" src=\"//upload.wikimedia.org/wikipedia/commons/thumb/3/3e/Flag_of_Qatar_%283-2%29.svg/22px-Flag_of_Qatar_%283-2%29.svg.png\" srcset=\"//upload.wikimedia.org/wikipedia/commons/thumb/3/3e/Flag_of_Qatar_%283-2%29.svg/33px-Flag_of_Qatar_%283-2%29.svg.png 1.5x, //upload.wikimedia.org/wikipedia/commons/thumb/3/3e/Flag_of_Qatar_%283-2%29.svg/44px-Flag_of_Qatar_%283-2%29.svg.png 2x\" width=\"22\"/></span></span> <a href=\"/wiki/Qatar_at_the_2024_Summer_Olympics\" title=\"Qatar at the 2024 Summer Olympics\">Qatar</a></th><td>0</td><td>0</td><td>1</td><td>1</td></tr><tr><th scope=\"row\" style=\"background-color:inherit;color:inherit;text-align:left\"><span class=\"mw-image-border\" typeof=\"mw:File\"><span><img alt=\"\" class=\"mw-file-element\" data-file-height=\"600\" data-file-width=\"900\" decoding=\"async\" height=\"15\" src=\"//upload.wikimedia.org/wikipedia/commons/thumb/a/a7/Olympic_flag.svg/22px-Olympic_flag.svg.png\" srcset=\"//upload.wikimedia.org/wikipedia/commons/thumb/a/a7/Olympic_flag.svg/33px-Olympic_flag.svg.png 1.5x, //upload.wikimedia.org/wikipedia/commons/thumb/a/a7/Olympic_flag.svg/44px-Olympic_flag.svg.png 2x\" width=\"22\"/></span></span> <a href=\"/wiki/Refugee_Olympic_Team_at_the_2024_Summer_Olympics\" title=\"Refugee Olympic Team at the 2024 Summer Olympics\">Refugee Olympic Team</a></th><td>0</td><td>0</td><td>1</td><td>1</td></tr><tr><th scope=\"row\" style=\"background-color:inherit;color:inherit;text-align:left\"><span class=\"mw-image-border\" typeof=\"mw:File\"><span><img alt=\"\" class=\"mw-file-element\" data-file-height=\"600\" data-file-width=\"900\" decoding=\"async\" height=\"15\" src=\"//upload.wikimedia.org/wikipedia/commons/thumb/4/48/Flag_of_Singapore.svg/22px-Flag_of_Singapore.svg.png\" srcset=\"//upload.wikimedia.org/wikipedia/commons/thumb/4/48/Flag_of_Singapore.svg/33px-Flag_of_Singapore.svg.png 1.5x, //upload.wikimedia.org/wikipedia/commons/thumb/4/48/Flag_of_Singapore.svg/44px-Flag_of_Singapore.svg.png 2x\" width=\"22\"/></span></span> <a href=\"/wiki/Singapore_at_the_2024_Summer_Olympics\" title=\"Singapore at the 2024 Summer Olympics\">Singapore</a></th><td>0</td><td>0</td><td>1</td><td>1</td></tr><tr><th scope=\"row\" style=\"background-color:inherit;color:inherit;text-align:left\"><span class=\"mw-image-border\" typeof=\"mw:File\"><span><img alt=\"\" class=\"mw-file-element\" data-file-height=\"600\" data-file-width=\"900\" decoding=\"async\" height=\"15\" src=\"//upload.wikimedia.org/wikipedia/commons/thumb/e/e6/Flag_of_Slovakia.svg/22px-Flag_of_Slovakia.svg.png\" srcset=\"//upload.wikimedia.org/wikipedia/commons/thumb/e/e6/Flag_of_Slovakia.svg/33px-Flag_of_Slovakia.svg.png 1.5x, //upload.wikimedia.org/wikipedia/commons/thumb/e/e6/Flag_of_Slovakia.svg/44px-Flag_of_Slovakia.svg.png 2x\" width=\"22\"/></span></span> <a href=\"/wiki/Slovakia_at_the_2024_Summer_Olympics\" title=\"Slovakia at the 2024 Summer Olympics\">Slovakia</a></th><td>0</td><td>0</td><td>1</td><td>1</td></tr><tr><th scope=\"row\" style=\"background-color:inherit;color:inherit;text-align:left\"><span class=\"mw-image-border\" typeof=\"mw:File\"><span><img alt=\"\" class=\"mw-file-element\" data-file-height=\"600\" data-file-width=\"900\" decoding=\"async\" height=\"15\" src=\"//upload.wikimedia.org/wikipedia/commons/thumb/0/06/Flag_of_Zambia.svg/22px-Flag_of_Zambia.svg.png\" srcset=\"//upload.wikimedia.org/wikipedia/commons/thumb/0/06/Flag_of_Zambia.svg/33px-Flag_of_Zambia.svg.png 1.5x, //upload.wikimedia.org/wikipedia/commons/thumb/0/06/Flag_of_Zambia.svg/44px-Flag_of_Zambia.svg.png 2x\" width=\"22\"/></span></span> <a href=\"/wiki/Zambia_at_the_2024_Summer_Olympics\" title=\"Zambia at the 2024 Summer Olympics\">Zambia</a></th><td>0</td><td>0</td><td>1</td><td>1</td></tr><tr class=\"sortbottom\"><th colspan=\"2\" scope=\"row\" style=\"font-weight:bold\">Totals (91 entries)</th><th style=\"font-weight:bold\">329</th><th style=\"font-weight:bold\">330</th><th style=\"font-weight:bold\">385</th><th style=\"font-weight:bold\">1,044</th></tr></tbody></table>\n"
     ]
    }
   ],
   "source": [
    "print(table)"
   ]
  },
  {
   "cell_type": "code",
   "execution_count": null,
   "id": "407aaaed-0755-43b7-b8dd-14ec33467b3e",
   "metadata": {},
   "outputs": [],
   "source": [
    "#Creating header for columns"
   ]
  },
  {
   "cell_type": "code",
   "execution_count": 6,
   "id": "9e1c791c-3d0a-4e89-8bda-b0bc8523ada8",
   "metadata": {},
   "outputs": [],
   "source": [
    "columns = table.find_all('th', {'scope': 'col'})"
   ]
  },
  {
   "cell_type": "code",
   "execution_count": 7,
   "id": "d6386db5-499f-4bf6-81b1-3da1add4f16e",
   "metadata": {},
   "outputs": [
    {
     "data": {
      "text/plain": [
       "[<th scope=\"col\" style=\"color:inherit\">Rank</th>,\n",
       " <th scope=\"col\"><abbr title=\"National Olympic Committee\">NOC</abbr></th>,\n",
       " <th class=\"headerSort\" scope=\"col\" style=\"width:4em;background-color:gold;color:#333\">Gold</th>,\n",
       " <th class=\"headerSort\" scope=\"col\" style=\"width:4em;background-color:silver;color:#333\">Silver</th>,\n",
       " <th class=\"headerSort\" scope=\"col\" style=\"width:4em;background-color:#c96;color:#333\">Bronze</th>,\n",
       " <th scope=\"col\" style=\"width:4em\">Total</th>]"
      ]
     },
     "execution_count": 7,
     "metadata": {},
     "output_type": "execute_result"
    }
   ],
   "source": [
    "columns"
   ]
  },
  {
   "cell_type": "code",
   "execution_count": 9,
   "id": "27c65e0d-08a5-4626-acf7-2c86295bded3",
   "metadata": {},
   "outputs": [
    {
     "name": "stdout",
     "output_type": "stream",
     "text": [
      "['Rank', 'NOC', 'Gold', 'Silver', 'Bronze', 'Total']\n"
     ]
    }
   ],
   "source": [
    "columns_title = [title.text.strip() for title in columns]\n",
    "print(columns_title)"
   ]
  },
  {
   "cell_type": "code",
   "execution_count": 11,
   "id": "5a80434d-c71d-410c-9375-093fc3440942",
   "metadata": {},
   "outputs": [],
   "source": [
    "columns_title.remove('Rank')"
   ]
  },
  {
   "cell_type": "code",
   "execution_count": 12,
   "id": "e9cc9835-a8f9-4658-ae8d-539c85f94a46",
   "metadata": {},
   "outputs": [],
   "source": [
    "import pandas as pd"
   ]
  },
  {
   "cell_type": "code",
   "execution_count": 13,
   "id": "8e6350a2-f70b-466a-b8c0-3de65e9ef72f",
   "metadata": {},
   "outputs": [
    {
     "data": {
      "text/html": [
       "<div>\n",
       "<style scoped>\n",
       "    .dataframe tbody tr th:only-of-type {\n",
       "        vertical-align: middle;\n",
       "    }\n",
       "\n",
       "    .dataframe tbody tr th {\n",
       "        vertical-align: top;\n",
       "    }\n",
       "\n",
       "    .dataframe thead th {\n",
       "        text-align: right;\n",
       "    }\n",
       "</style>\n",
       "<table border=\"1\" class=\"dataframe\">\n",
       "  <thead>\n",
       "    <tr style=\"text-align: right;\">\n",
       "      <th></th>\n",
       "      <th>NOC</th>\n",
       "      <th>Gold</th>\n",
       "      <th>Silver</th>\n",
       "      <th>Bronze</th>\n",
       "      <th>Total</th>\n",
       "    </tr>\n",
       "  </thead>\n",
       "  <tbody>\n",
       "  </tbody>\n",
       "</table>\n",
       "</div>"
      ],
      "text/plain": [
       "Empty DataFrame\n",
       "Columns: [NOC, Gold, Silver, Bronze, Total]\n",
       "Index: []"
      ]
     },
     "execution_count": 13,
     "metadata": {},
     "output_type": "execute_result"
    }
   ],
   "source": [
    "pd.DataFrame(columns = columns_title)"
   ]
  },
  {
   "cell_type": "code",
   "execution_count": null,
   "id": "488fca36-4e0d-4623-9f12-1dc202a89696",
   "metadata": {},
   "outputs": [],
   "source": [
    "#Preparing the dataset for each columns"
   ]
  },
  {
   "cell_type": "code",
   "execution_count": 53,
   "id": "01430fe4-c009-4001-a2b6-9d7ff72f863d",
   "metadata": {},
   "outputs": [],
   "source": [
    "row_data = table.find_all('tr')"
   ]
  },
  {
   "cell_type": "code",
   "execution_count": 31,
   "id": "2e03966a-e238-43ba-82a9-b1638b1f7ead",
   "metadata": {
    "scrolled": true,
    "tags": []
   },
   "outputs": [
    {
     "name": "stdout",
     "output_type": "stream",
     "text": [
      "[<tr><th scope=\"col\" style=\"color:inherit\">Rank</th><th scope=\"col\"><abbr title=\"National Olympic Committee\">NOC</abbr></th><th class=\"headerSort\" scope=\"col\" style=\"width:4em;background-color:gold;color:#333\">Gold</th><th class=\"headerSort\" scope=\"col\" style=\"width:4em;background-color:silver;color:#333\">Silver</th><th class=\"headerSort\" scope=\"col\" style=\"width:4em;background-color:#c96;color:#333\">Bronze</th><th scope=\"col\" style=\"width:4em\">Total</th></tr>, <tr><td>1</td><th scope=\"row\" style=\"background-color:inherit;color:inherit;text-align:left\"><span class=\"mw-image-border\" typeof=\"mw:File\"><span><img alt=\"\" class=\"mw-file-element\" data-file-height=\"650\" data-file-width=\"1235\" decoding=\"async\" height=\"12\" src=\"//upload.wikimedia.org/wikipedia/en/thumb/a/a4/Flag_of_the_United_States.svg/22px-Flag_of_the_United_States.svg.png\" srcset=\"//upload.wikimedia.org/wikipedia/en/thumb/a/a4/Flag_of_the_United_States.svg/33px-Flag_of_the_United_States.svg.png 1.5x, //upload.wikimedia.org/wikipedia/en/thumb/a/a4/Flag_of_the_United_States.svg/44px-Flag_of_the_United_States.svg.png 2x\" width=\"22\"/></span></span> <a href=\"/wiki/United_States_at_the_2024_Summer_Olympics\" title=\"United States at the 2024 Summer Olympics\">United States</a>‡</th><td>40</td><td>44</td><td>42</td><td>126</td></tr>, <tr><td>2</td><th scope=\"row\" style=\"background-color:inherit;color:inherit;text-align:left\"><span class=\"mw-image-border\" typeof=\"mw:File\"><span><img alt=\"\" class=\"mw-file-element\" data-file-height=\"600\" data-file-width=\"900\" decoding=\"async\" height=\"15\" src=\"//upload.wikimedia.org/wikipedia/commons/thumb/f/fa/Flag_of_the_People%27s_Republic_of_China.svg/22px-Flag_of_the_People%27s_Republic_of_China.svg.png\" srcset=\"//upload.wikimedia.org/wikipedia/commons/thumb/f/fa/Flag_of_the_People%27s_Republic_of_China.svg/33px-Flag_of_the_People%27s_Republic_of_China.svg.png 1.5x, //upload.wikimedia.org/wikipedia/commons/thumb/f/fa/Flag_of_the_People%27s_Republic_of_China.svg/44px-Flag_of_the_People%27s_Republic_of_China.svg.png 2x\" width=\"22\"/></span></span> <a href=\"/wiki/China_at_the_2024_Summer_Olympics\" title=\"China at the 2024 Summer Olympics\">China</a></th><td>40</td><td>27</td><td>24</td><td>91</td></tr>, <tr><td>3</td><th scope=\"row\" style=\"background-color:inherit;color:inherit;text-align:left\"><span class=\"mw-image-border\" typeof=\"mw:File\"><span><img alt=\"\" class=\"mw-file-element\" data-file-height=\"600\" data-file-width=\"900\" decoding=\"async\" height=\"15\" src=\"//upload.wikimedia.org/wikipedia/en/thumb/9/9e/Flag_of_Japan.svg/22px-Flag_of_Japan.svg.png\" srcset=\"//upload.wikimedia.org/wikipedia/en/thumb/9/9e/Flag_of_Japan.svg/33px-Flag_of_Japan.svg.png 1.5x, //upload.wikimedia.org/wikipedia/en/thumb/9/9e/Flag_of_Japan.svg/44px-Flag_of_Japan.svg.png 2x\" width=\"22\"/></span></span> <a href=\"/wiki/Japan_at_the_2024_Summer_Olympics\" title=\"Japan at the 2024 Summer Olympics\">Japan</a></th><td>20</td><td>12</td><td>13</td><td>45</td></tr>, <tr><td>4</td><th scope=\"row\" style=\"background-color:inherit;color:inherit;text-align:left\"><span class=\"mw-image-border\" typeof=\"mw:File\"><span><img alt=\"\" class=\"mw-file-element\" data-file-height=\"640\" data-file-width=\"1280\" decoding=\"async\" height=\"11\" src=\"//upload.wikimedia.org/wikipedia/en/thumb/b/b9/Flag_of_Australia.svg/22px-Flag_of_Australia.svg.png\" srcset=\"//upload.wikimedia.org/wikipedia/en/thumb/b/b9/Flag_of_Australia.svg/33px-Flag_of_Australia.svg.png 1.5x, //upload.wikimedia.org/wikipedia/en/thumb/b/b9/Flag_of_Australia.svg/44px-Flag_of_Australia.svg.png 2x\" width=\"22\"/></span></span> <a href=\"/wiki/Australia_at_the_2024_Summer_Olympics\" title=\"Australia at the 2024 Summer Olympics\">Australia</a></th><td>18</td><td>19</td><td>16</td><td>53</td></tr>, <tr><td>5</td><th scope=\"row\" style=\"background-color:#ccccff;color:inherit;text-align:left\"><span class=\"mw-image-border\" typeof=\"mw:File\"><span><img alt=\"\" class=\"mw-file-element\" data-file-height=\"600\" data-file-width=\"900\" decoding=\"async\" height=\"15\" src=\"//upload.wikimedia.org/wikipedia/en/thumb/c/c3/Flag_of_France.svg/22px-Flag_of_France.svg.png\" srcset=\"//upload.wikimedia.org/wikipedia/en/thumb/c/c3/Flag_of_France.svg/33px-Flag_of_France.svg.png 1.5x, //upload.wikimedia.org/wikipedia/en/thumb/c/c3/Flag_of_France.svg/44px-Flag_of_France.svg.png 2x\" width=\"22\"/></span></span> <a href=\"/wiki/France_at_the_2024_Summer_Olympics\" title=\"France at the 2024 Summer Olympics\">France</a>*</th><td>16</td><td>26</td><td>22</td><td>64</td></tr>, <tr><td>6</td><th scope=\"row\" style=\"background-color:inherit;color:inherit;text-align:left\"><span class=\"mw-image-border\" typeof=\"mw:File\"><span><img alt=\"\" class=\"mw-file-element\" data-file-height=\"600\" data-file-width=\"900\" decoding=\"async\" height=\"15\" src=\"//upload.wikimedia.org/wikipedia/commons/thumb/2/20/Flag_of_the_Netherlands.svg/22px-Flag_of_the_Netherlands.svg.png\" srcset=\"//upload.wikimedia.org/wikipedia/commons/thumb/2/20/Flag_of_the_Netherlands.svg/33px-Flag_of_the_Netherlands.svg.png 1.5x, //upload.wikimedia.org/wikipedia/commons/thumb/2/20/Flag_of_the_Netherlands.svg/44px-Flag_of_the_Netherlands.svg.png 2x\" width=\"22\"/></span></span> <a href=\"/wiki/Netherlands_at_the_2024_Summer_Olympics\" title=\"Netherlands at the 2024 Summer Olympics\">Netherlands</a></th><td>15</td><td>7</td><td>12</td><td>34</td></tr>, <tr><td>7</td><th scope=\"row\" style=\"background-color:inherit;color:inherit;text-align:left\"><span class=\"mw-image-border\" typeof=\"mw:File\"><span><img alt=\"\" class=\"mw-file-element\" data-file-height=\"600\" data-file-width=\"900\" decoding=\"async\" height=\"15\" src=\"//upload.wikimedia.org/wikipedia/commons/thumb/2/2e/Flag_of_the_United_Kingdom_%283-2%29.svg/22px-Flag_of_the_United_Kingdom_%283-2%29.svg.png\" srcset=\"//upload.wikimedia.org/wikipedia/commons/thumb/2/2e/Flag_of_the_United_Kingdom_%283-2%29.svg/33px-Flag_of_the_United_Kingdom_%283-2%29.svg.png 1.5x, //upload.wikimedia.org/wikipedia/commons/thumb/2/2e/Flag_of_the_United_Kingdom_%283-2%29.svg/44px-Flag_of_the_United_Kingdom_%283-2%29.svg.png 2x\" width=\"22\"/></span></span> <a href=\"/wiki/Great_Britain_at_the_2024_Summer_Olympics\" title=\"Great Britain at the 2024 Summer Olympics\">Great Britain</a></th><td>14</td><td>22</td><td>29</td><td>65</td></tr>, <tr><td>8</td><th scope=\"row\" style=\"background-color:inherit;color:inherit;text-align:left\"><span class=\"mw-image-border\" typeof=\"mw:File\"><span><img alt=\"\" class=\"mw-file-element\" data-file-height=\"600\" data-file-width=\"900\" decoding=\"async\" height=\"15\" src=\"//upload.wikimedia.org/wikipedia/commons/thumb/0/09/Flag_of_South_Korea.svg/22px-Flag_of_South_Korea.svg.png\" srcset=\"//upload.wikimedia.org/wikipedia/commons/thumb/0/09/Flag_of_South_Korea.svg/33px-Flag_of_South_Korea.svg.png 1.5x, //upload.wikimedia.org/wikipedia/commons/thumb/0/09/Flag_of_South_Korea.svg/44px-Flag_of_South_Korea.svg.png 2x\" width=\"22\"/></span></span> <a href=\"/wiki/South_Korea_at_the_2024_Summer_Olympics\" title=\"South Korea at the 2024 Summer Olympics\">South Korea</a></th><td>13</td><td>9</td><td>10</td><td>32</td></tr>, <tr><td>9</td><th scope=\"row\" style=\"background-color:inherit;color:inherit;text-align:left\"><span class=\"mw-image-border\" typeof=\"mw:File\"><span><img alt=\"\" class=\"mw-file-element\" data-file-height=\"1000\" data-file-width=\"1500\" decoding=\"async\" height=\"15\" src=\"//upload.wikimedia.org/wikipedia/en/thumb/0/03/Flag_of_Italy.svg/22px-Flag_of_Italy.svg.png\" srcset=\"//upload.wikimedia.org/wikipedia/en/thumb/0/03/Flag_of_Italy.svg/33px-Flag_of_Italy.svg.png 1.5x, //upload.wikimedia.org/wikipedia/en/thumb/0/03/Flag_of_Italy.svg/44px-Flag_of_Italy.svg.png 2x\" width=\"22\"/></span></span> <a href=\"/wiki/Italy_at_the_2024_Summer_Olympics\" title=\"Italy at the 2024 Summer Olympics\">Italy</a></th><td>12</td><td>13</td><td>15</td><td>40</td></tr>, <tr><td>10</td><th scope=\"row\" style=\"background-color:inherit;color:inherit;text-align:left\"><span class=\"mw-image-border\" typeof=\"mw:File\"><span><img alt=\"\" class=\"mw-file-element\" data-file-height=\"600\" data-file-width=\"1000\" decoding=\"async\" height=\"13\" src=\"//upload.wikimedia.org/wikipedia/en/thumb/b/ba/Flag_of_Germany.svg/22px-Flag_of_Germany.svg.png\" srcset=\"//upload.wikimedia.org/wikipedia/en/thumb/b/ba/Flag_of_Germany.svg/33px-Flag_of_Germany.svg.png 1.5x, //upload.wikimedia.org/wikipedia/en/thumb/b/ba/Flag_of_Germany.svg/44px-Flag_of_Germany.svg.png 2x\" width=\"22\"/></span></span> <a href=\"/wiki/Germany_at_the_2024_Summer_Olympics\" title=\"Germany at the 2024 Summer Olympics\">Germany</a></th><td>12</td><td>13</td><td>8</td><td>33</td></tr>, <tr><td>11</td><th scope=\"row\" style=\"background-color:inherit;color:inherit;text-align:left\"><span class=\"mw-image-border\" typeof=\"mw:File\"><span><img alt=\"\" class=\"mw-file-element\" data-file-height=\"600\" data-file-width=\"1200\" decoding=\"async\" height=\"11\" src=\"//upload.wikimedia.org/wikipedia/commons/thumb/3/3e/Flag_of_New_Zealand.svg/22px-Flag_of_New_Zealand.svg.png\" srcset=\"//upload.wikimedia.org/wikipedia/commons/thumb/3/3e/Flag_of_New_Zealand.svg/33px-Flag_of_New_Zealand.svg.png 1.5x, //upload.wikimedia.org/wikipedia/commons/thumb/3/3e/Flag_of_New_Zealand.svg/44px-Flag_of_New_Zealand.svg.png 2x\" width=\"22\"/></span></span> <a href=\"/wiki/New_Zealand_at_the_2024_Summer_Olympics\" title=\"New Zealand at the 2024 Summer Olympics\">New Zealand</a></th><td>10</td><td>7</td><td>3</td><td>20</td></tr>, <tr><td>12</td><th scope=\"row\" style=\"background-color:inherit;color:inherit;text-align:left\"><span class=\"mw-image-border\" typeof=\"mw:File\"><span><img alt=\"\" class=\"mw-file-element\" data-file-height=\"600\" data-file-width=\"1200\" decoding=\"async\" height=\"11\" src=\"//upload.wikimedia.org/wikipedia/commons/thumb/d/d9/Flag_of_Canada_%28Pantone%29.svg/22px-Flag_of_Canada_%28Pantone%29.svg.png\" srcset=\"//upload.wikimedia.org/wikipedia/commons/thumb/d/d9/Flag_of_Canada_%28Pantone%29.svg/33px-Flag_of_Canada_%28Pantone%29.svg.png 1.5x, //upload.wikimedia.org/wikipedia/commons/thumb/d/d9/Flag_of_Canada_%28Pantone%29.svg/44px-Flag_of_Canada_%28Pantone%29.svg.png 2x\" width=\"22\"/></span></span> <a href=\"/wiki/Canada_at_the_2024_Summer_Olympics\" title=\"Canada at the 2024 Summer Olympics\">Canada</a></th><td>9</td><td>7</td><td>11</td><td>27</td></tr>, <tr><td>13</td><th scope=\"row\" style=\"background-color:inherit;color:inherit;text-align:left\"><span class=\"mw-image-border\" typeof=\"mw:File\"><span><img alt=\"\" class=\"mw-file-element\" data-file-height=\"500\" data-file-width=\"750\" decoding=\"async\" height=\"15\" src=\"//upload.wikimedia.org/wikipedia/commons/thumb/0/00/Flag_of_Uzbekistan_%283-2%29.svg/22px-Flag_of_Uzbekistan_%283-2%29.svg.png\" srcset=\"//upload.wikimedia.org/wikipedia/commons/thumb/0/00/Flag_of_Uzbekistan_%283-2%29.svg/33px-Flag_of_Uzbekistan_%283-2%29.svg.png 1.5x, //upload.wikimedia.org/wikipedia/commons/thumb/0/00/Flag_of_Uzbekistan_%283-2%29.svg/44px-Flag_of_Uzbekistan_%283-2%29.svg.png 2x\" width=\"22\"/></span></span> <a href=\"/wiki/Uzbekistan_at_the_2024_Summer_Olympics\" title=\"Uzbekistan at the 2024 Summer Olympics\">Uzbekistan</a></th><td>8</td><td>2</td><td>3</td><td>13</td></tr>, <tr><td>14</td><th scope=\"row\" style=\"background-color:inherit;color:inherit;text-align:left\"><span class=\"mw-image-border\" typeof=\"mw:File\"><span><img alt=\"\" class=\"mw-file-element\" data-file-height=\"600\" data-file-width=\"1200\" decoding=\"async\" height=\"11\" src=\"//upload.wikimedia.org/wikipedia/commons/thumb/c/c1/Flag_of_Hungary.svg/22px-Flag_of_Hungary.svg.png\" srcset=\"//upload.wikimedia.org/wikipedia/commons/thumb/c/c1/Flag_of_Hungary.svg/33px-Flag_of_Hungary.svg.png 1.5x, //upload.wikimedia.org/wikipedia/commons/thumb/c/c1/Flag_of_Hungary.svg/44px-Flag_of_Hungary.svg.png 2x\" width=\"22\"/></span></span> <a href=\"/wiki/Hungary_at_the_2024_Summer_Olympics\" title=\"Hungary at the 2024 Summer Olympics\">Hungary</a></th><td>6</td><td>7</td><td>6</td><td>19</td></tr>, <tr><td>15</td><th scope=\"row\" style=\"background-color:inherit;color:inherit;text-align:left\"><span class=\"mw-image-border\" typeof=\"mw:File\"><span><img alt=\"\" class=\"mw-file-element\" data-file-height=\"500\" data-file-width=\"750\" decoding=\"async\" height=\"15\" src=\"//upload.wikimedia.org/wikipedia/en/thumb/9/9a/Flag_of_Spain.svg/22px-Flag_of_Spain.svg.png\" srcset=\"//upload.wikimedia.org/wikipedia/en/thumb/9/9a/Flag_of_Spain.svg/33px-Flag_of_Spain.svg.png 1.5x, //upload.wikimedia.org/wikipedia/en/thumb/9/9a/Flag_of_Spain.svg/44px-Flag_of_Spain.svg.png 2x\" width=\"22\"/></span></span> <a href=\"/wiki/Spain_at_the_2024_Summer_Olympics\" title=\"Spain at the 2024 Summer Olympics\">Spain</a></th><td>5</td><td>4</td><td>9</td><td>18</td></tr>, <tr><td>16</td><th scope=\"row\" style=\"background-color:inherit;color:inherit;text-align:left\"><span class=\"mw-image-border\" typeof=\"mw:File\"><span><img alt=\"\" class=\"mw-file-element\" data-file-height=\"1000\" data-file-width=\"1600\" decoding=\"async\" height=\"14\" src=\"//upload.wikimedia.org/wikipedia/en/thumb/4/4c/Flag_of_Sweden.svg/22px-Flag_of_Sweden.svg.png\" srcset=\"//upload.wikimedia.org/wikipedia/en/thumb/4/4c/Flag_of_Sweden.svg/33px-Flag_of_Sweden.svg.png 1.5x, //upload.wikimedia.org/wikipedia/en/thumb/4/4c/Flag_of_Sweden.svg/44px-Flag_of_Sweden.svg.png 2x\" width=\"22\"/></span></span> <a href=\"/wiki/Sweden_at_the_2024_Summer_Olympics\" title=\"Sweden at the 2024 Summer Olympics\">Sweden</a></th><td>4</td><td>4</td><td>3</td><td>11</td></tr>, <tr><td>17</td><th scope=\"row\" style=\"background-color:inherit;color:inherit;text-align:left\"><span class=\"mw-image-border\" typeof=\"mw:File\"><span><img alt=\"\" class=\"mw-file-element\" data-file-height=\"600\" data-file-width=\"900\" decoding=\"async\" height=\"15\" src=\"//upload.wikimedia.org/wikipedia/commons/thumb/4/49/Flag_of_Kenya.svg/22px-Flag_of_Kenya.svg.png\" srcset=\"//upload.wikimedia.org/wikipedia/commons/thumb/4/49/Flag_of_Kenya.svg/33px-Flag_of_Kenya.svg.png 1.5x, //upload.wikimedia.org/wikipedia/commons/thumb/4/49/Flag_of_Kenya.svg/44px-Flag_of_Kenya.svg.png 2x\" width=\"22\"/></span></span> <a href=\"/wiki/Kenya_at_the_2024_Summer_Olympics\" title=\"Kenya at the 2024 Summer Olympics\">Kenya</a></th><td>4</td><td>2</td><td>5</td><td>11</td></tr>, <tr><td>18</td><th scope=\"row\" style=\"background-color:inherit;color:inherit;text-align:left\"><span class=\"mw-image-border\" typeof=\"mw:File\"><span><img alt=\"\" class=\"mw-file-element\" data-file-height=\"372\" data-file-width=\"512\" decoding=\"async\" height=\"16\" src=\"//upload.wikimedia.org/wikipedia/commons/thumb/d/d9/Flag_of_Norway.svg/22px-Flag_of_Norway.svg.png\" srcset=\"//upload.wikimedia.org/wikipedia/commons/thumb/d/d9/Flag_of_Norway.svg/33px-Flag_of_Norway.svg.png 1.5x, //upload.wikimedia.org/wikipedia/commons/thumb/d/d9/Flag_of_Norway.svg/44px-Flag_of_Norway.svg.png 2x\" width=\"22\"/></span></span> <a href=\"/wiki/Norway_at_the_2024_Summer_Olympics\" title=\"Norway at the 2024 Summer Olympics\">Norway</a></th><td>4</td><td>1</td><td>3</td><td>8</td></tr>, <tr><td>19</td><th scope=\"row\" style=\"background-color:inherit;color:inherit;text-align:left\"><span class=\"mw-image-border\" typeof=\"mw:File\"><span><img alt=\"\" class=\"mw-file-element\" data-file-height=\"600\" data-file-width=\"900\" decoding=\"async\" height=\"15\" src=\"//upload.wikimedia.org/wikipedia/commons/thumb/c/c4/Flag_of_Ireland_%283-2%29.svg/22px-Flag_of_Ireland_%283-2%29.svg.png\" srcset=\"//upload.wikimedia.org/wikipedia/commons/thumb/c/c4/Flag_of_Ireland_%283-2%29.svg/33px-Flag_of_Ireland_%283-2%29.svg.png 1.5x, //upload.wikimedia.org/wikipedia/commons/thumb/c/c4/Flag_of_Ireland_%283-2%29.svg/44px-Flag_of_Ireland_%283-2%29.svg.png 2x\" width=\"22\"/></span></span> <a href=\"/wiki/Ireland_at_the_2024_Summer_Olympics\" title=\"Ireland at the 2024 Summer Olympics\">Ireland</a></th><td>4</td><td>0</td><td>3</td><td>7</td></tr>, <tr><td>20</td><th scope=\"row\" style=\"background-color:inherit;color:inherit;text-align:left\"><span class=\"mw-image-border\" typeof=\"mw:File\"><span><img alt=\"\" class=\"mw-file-element\" data-file-height=\"504\" data-file-width=\"720\" decoding=\"async\" height=\"15\" src=\"//upload.wikimedia.org/wikipedia/en/thumb/0/05/Flag_of_Brazil.svg/22px-Flag_of_Brazil.svg.png\" srcset=\"//upload.wikimedia.org/wikipedia/en/thumb/0/05/Flag_of_Brazil.svg/33px-Flag_of_Brazil.svg.png 1.5x, //upload.wikimedia.org/wikipedia/en/thumb/0/05/Flag_of_Brazil.svg/44px-Flag_of_Brazil.svg.png 2x\" width=\"22\"/></span></span> <a href=\"/wiki/Brazil_at_the_2024_Summer_Olympics\" title=\"Brazil at the 2024 Summer Olympics\">Brazil</a></th><td>3</td><td>7</td><td>10</td><td>20</td></tr>, <tr><td>21</td><th scope=\"row\" style=\"background-color:inherit;color:inherit;text-align:left\"><span class=\"mw-image-border\" typeof=\"mw:File\"><span><img alt=\"\" class=\"mw-file-element\" data-file-height=\"360\" data-file-width=\"630\" decoding=\"async\" height=\"13\" src=\"//upload.wikimedia.org/wikipedia/commons/thumb/c/ca/Flag_of_Iran.svg/22px-Flag_of_Iran.svg.png\" srcset=\"//upload.wikimedia.org/wikipedia/commons/thumb/c/ca/Flag_of_Iran.svg/33px-Flag_of_Iran.svg.png 1.5x, //upload.wikimedia.org/wikipedia/commons/thumb/c/ca/Flag_of_Iran.svg/44px-Flag_of_Iran.svg.png 2x\" width=\"22\"/></span></span> <a href=\"/wiki/Iran_at_the_2024_Summer_Olympics\" title=\"Iran at the 2024 Summer Olympics\">Iran</a></th><td>3</td><td>6</td><td>3</td><td>12</td></tr>, <tr><td>22</td><th scope=\"row\" style=\"background-color:inherit;color:inherit;text-align:left\"><span class=\"mw-image-border\" typeof=\"mw:File\"><span><img alt=\"\" class=\"mw-file-element\" data-file-height=\"800\" data-file-width=\"1200\" decoding=\"async\" height=\"15\" src=\"//upload.wikimedia.org/wikipedia/commons/thumb/4/49/Flag_of_Ukraine.svg/22px-Flag_of_Ukraine.svg.png\" srcset=\"//upload.wikimedia.org/wikipedia/commons/thumb/4/49/Flag_of_Ukraine.svg/33px-Flag_of_Ukraine.svg.png 1.5x, //upload.wikimedia.org/wikipedia/commons/thumb/4/49/Flag_of_Ukraine.svg/44px-Flag_of_Ukraine.svg.png 2x\" width=\"22\"/></span></span> <a href=\"/wiki/Ukraine_at_the_2024_Summer_Olympics\" title=\"Ukraine at the 2024 Summer Olympics\">Ukraine</a></th><td>3</td><td>5</td><td>4</td><td>12</td></tr>, <tr><td>23</td><th scope=\"row\" style=\"background-color:inherit;color:inherit;text-align:left\"><span class=\"mw-image-border\" typeof=\"mw:File\"><span><img alt=\"\" class=\"mw-file-element\" data-file-height=\"400\" data-file-width=\"600\" decoding=\"async\" height=\"15\" src=\"//upload.wikimedia.org/wikipedia/commons/thumb/7/73/Flag_of_Romania.svg/22px-Flag_of_Romania.svg.png\" srcset=\"//upload.wikimedia.org/wikipedia/commons/thumb/7/73/Flag_of_Romania.svg/33px-Flag_of_Romania.svg.png 1.5x, //upload.wikimedia.org/wikipedia/commons/thumb/7/73/Flag_of_Romania.svg/44px-Flag_of_Romania.svg.png 2x\" width=\"22\"/></span></span> <a href=\"/wiki/Romania_at_the_2024_Summer_Olympics\" title=\"Romania at the 2024 Summer Olympics\">Romania</a>‡</th><td>3</td><td>4</td><td>2</td><td>9</td></tr>, <tr><td>24</td><th scope=\"row\" style=\"background-color:inherit;color:inherit;text-align:left\"><span class=\"mw-image-border\" typeof=\"mw:File\"><span><img alt=\"\" class=\"mw-file-element\" data-file-height=\"600\" data-file-width=\"900\" decoding=\"async\" height=\"15\" src=\"//upload.wikimedia.org/wikipedia/commons/thumb/0/0f/Flag_of_Georgia.svg/22px-Flag_of_Georgia.svg.png\" srcset=\"//upload.wikimedia.org/wikipedia/commons/thumb/0/0f/Flag_of_Georgia.svg/33px-Flag_of_Georgia.svg.png 1.5x, //upload.wikimedia.org/wikipedia/commons/thumb/0/0f/Flag_of_Georgia.svg/44px-Flag_of_Georgia.svg.png 2x\" width=\"22\"/></span></span> <a href=\"/wiki/Georgia_at_the_2024_Summer_Olympics\" title=\"Georgia at the 2024 Summer Olympics\">Georgia</a></th><td>3</td><td>3</td><td>1</td><td>7</td></tr>, <tr><td>25</td><th scope=\"row\" style=\"background-color:inherit;color:inherit;text-align:left\"><span class=\"mw-image-border\" typeof=\"mw:File\"><span><img alt=\"\" class=\"mw-file-element\" data-file-height=\"600\" data-file-width=\"900\" decoding=\"async\" height=\"15\" src=\"//upload.wikimedia.org/wikipedia/commons/thumb/9/92/Flag_of_Belgium_%28civil%29.svg/22px-Flag_of_Belgium_%28civil%29.svg.png\" srcset=\"//upload.wikimedia.org/wikipedia/commons/thumb/9/92/Flag_of_Belgium_%28civil%29.svg/33px-Flag_of_Belgium_%28civil%29.svg.png 1.5x, //upload.wikimedia.org/wikipedia/commons/thumb/9/92/Flag_of_Belgium_%28civil%29.svg/44px-Flag_of_Belgium_%28civil%29.svg.png 2x\" width=\"22\"/></span></span> <a href=\"/wiki/Belgium_at_the_2024_Summer_Olympics\" title=\"Belgium at the 2024 Summer Olympics\">Belgium</a></th><td>3</td><td>1</td><td>6</td><td>10</td></tr>, <tr><td>26</td><th scope=\"row\" style=\"background-color:inherit;color:inherit;text-align:left\"><span class=\"mw-image-border\" typeof=\"mw:File\"><span><img alt=\"\" class=\"mw-file-element\" data-file-height=\"600\" data-file-width=\"1000\" decoding=\"async\" height=\"13\" src=\"//upload.wikimedia.org/wikipedia/commons/thumb/9/9a/Flag_of_Bulgaria.svg/22px-Flag_of_Bulgaria.svg.png\" srcset=\"//upload.wikimedia.org/wikipedia/commons/thumb/9/9a/Flag_of_Bulgaria.svg/33px-Flag_of_Bulgaria.svg.png 1.5x, //upload.wikimedia.org/wikipedia/commons/thumb/9/9a/Flag_of_Bulgaria.svg/44px-Flag_of_Bulgaria.svg.png 2x\" width=\"22\"/></span></span> <a href=\"/wiki/Bulgaria_at_the_2024_Summer_Olympics\" title=\"Bulgaria at the 2024 Summer Olympics\">Bulgaria</a></th><td>3</td><td>1</td><td>3</td><td>7</td></tr>, <tr><td>27</td><th scope=\"row\" style=\"background-color:inherit;color:inherit;text-align:left\"><span class=\"mw-image-border\" typeof=\"mw:File\"><span><img alt=\"\" class=\"mw-file-element\" data-file-height=\"900\" data-file-width=\"1350\" decoding=\"async\" height=\"15\" src=\"//upload.wikimedia.org/wikipedia/commons/thumb/f/ff/Flag_of_Serbia.svg/22px-Flag_of_Serbia.svg.png\" srcset=\"//upload.wikimedia.org/wikipedia/commons/thumb/f/ff/Flag_of_Serbia.svg/33px-Flag_of_Serbia.svg.png 1.5x, //upload.wikimedia.org/wikipedia/commons/thumb/f/ff/Flag_of_Serbia.svg/44px-Flag_of_Serbia.svg.png 2x\" width=\"22\"/></span></span> <a href=\"/wiki/Serbia_at_the_2024_Summer_Olympics\" title=\"Serbia at the 2024 Summer Olympics\">Serbia</a></th><td>3</td><td>1</td><td>1</td><td>5</td></tr>, <tr><td>28</td><th scope=\"row\" style=\"background-color:inherit;color:inherit;text-align:left\"><span class=\"mw-image-border\" typeof=\"mw:File\"><span><img alt=\"\" class=\"mw-file-element\" data-file-height=\"600\" data-file-width=\"900\" decoding=\"async\" height=\"15\" src=\"//upload.wikimedia.org/wikipedia/commons/thumb/c/cb/Flag_of_the_Czech_Republic.svg/22px-Flag_of_the_Czech_Republic.svg.png\" srcset=\"//upload.wikimedia.org/wikipedia/commons/thumb/c/cb/Flag_of_the_Czech_Republic.svg/33px-Flag_of_the_Czech_Republic.svg.png 1.5x, //upload.wikimedia.org/wikipedia/commons/thumb/c/cb/Flag_of_the_Czech_Republic.svg/44px-Flag_of_the_Czech_Republic.svg.png 2x\" width=\"22\"/></span></span> <a href=\"/wiki/Czech_Republic_at_the_2024_Summer_Olympics\" title=\"Czech Republic at the 2024 Summer Olympics\">Czech Republic</a></th><td>3</td><td>0</td><td>2</td><td>5</td></tr>, <tr><td>29</td><th scope=\"row\" style=\"background-color:inherit;color:inherit;text-align:left\"><span class=\"mw-image-border\" typeof=\"mw:File\"><span><img alt=\"\" class=\"mw-file-element\" data-file-height=\"387\" data-file-width=\"512\" decoding=\"async\" height=\"17\" src=\"//upload.wikimedia.org/wikipedia/commons/thumb/9/9c/Flag_of_Denmark.svg/22px-Flag_of_Denmark.svg.png\" srcset=\"//upload.wikimedia.org/wikipedia/commons/thumb/9/9c/Flag_of_Denmark.svg/33px-Flag_of_Denmark.svg.png 1.5x, //upload.wikimedia.org/wikipedia/commons/thumb/9/9c/Flag_of_Denmark.svg/44px-Flag_of_Denmark.svg.png 2x\" width=\"22\"/></span></span> <a href=\"/wiki/Denmark_at_the_2024_Summer_Olympics\" title=\"Denmark at the 2024 Summer Olympics\">Denmark</a></th><td>2</td><td>2</td><td>5</td><td>9</td></tr>, <tr><td rowspan=\"2\">30</td><th scope=\"row\" style=\"background-color:inherit;color:inherit;text-align:left\"><span class=\"mw-image-border\" typeof=\"mw:File\"><span><img alt=\"\" class=\"mw-file-element\" data-file-height=\"600\" data-file-width=\"1200\" decoding=\"async\" height=\"11\" src=\"//upload.wikimedia.org/wikipedia/commons/thumb/d/dd/Flag_of_Azerbaijan.svg/22px-Flag_of_Azerbaijan.svg.png\" srcset=\"//upload.wikimedia.org/wikipedia/commons/thumb/d/dd/Flag_of_Azerbaijan.svg/33px-Flag_of_Azerbaijan.svg.png 1.5x, //upload.wikimedia.org/wikipedia/commons/thumb/d/dd/Flag_of_Azerbaijan.svg/44px-Flag_of_Azerbaijan.svg.png 2x\" width=\"22\"/></span></span> <a href=\"/wiki/Azerbaijan_at_the_2024_Summer_Olympics\" title=\"Azerbaijan at the 2024 Summer Olympics\">Azerbaijan</a></th><td>2</td><td>2</td><td>3</td><td>7</td></tr>, <tr><th scope=\"row\" style=\"background-color:inherit;color:inherit;text-align:left\"><span class=\"mw-image-border\" typeof=\"mw:File\"><span><img alt=\"\" class=\"mw-file-element\" data-file-height=\"600\" data-file-width=\"900\" decoding=\"async\" height=\"15\" src=\"//upload.wikimedia.org/wikipedia/commons/thumb/d/d5/Civil_ensign_of_Croatia.svg/22px-Civil_ensign_of_Croatia.svg.png\" srcset=\"//upload.wikimedia.org/wikipedia/commons/thumb/d/d5/Civil_ensign_of_Croatia.svg/33px-Civil_ensign_of_Croatia.svg.png 1.5x, //upload.wikimedia.org/wikipedia/commons/thumb/d/d5/Civil_ensign_of_Croatia.svg/44px-Civil_ensign_of_Croatia.svg.png 2x\" width=\"22\"/></span></span> <a href=\"/wiki/Croatia_at_the_2024_Summer_Olympics\" title=\"Croatia at the 2024 Summer Olympics\">Croatia</a></th><td>2</td><td>2</td><td>3</td><td>7</td></tr>, <tr><td>32</td><th scope=\"row\" style=\"background-color:inherit;color:inherit;text-align:left\"><span class=\"mw-image-border\" typeof=\"mw:File\"><span><img alt=\"\" class=\"mw-file-element\" data-file-height=\"600\" data-file-width=\"900\" decoding=\"async\" height=\"15\" src=\"//upload.wikimedia.org/wikipedia/commons/thumb/5/58/Flag_of_Cuba_%283-2%29.svg/22px-Flag_of_Cuba_%283-2%29.svg.png\" srcset=\"//upload.wikimedia.org/wikipedia/commons/thumb/5/58/Flag_of_Cuba_%283-2%29.svg/33px-Flag_of_Cuba_%283-2%29.svg.png 1.5x, //upload.wikimedia.org/wikipedia/commons/thumb/5/58/Flag_of_Cuba_%283-2%29.svg/44px-Flag_of_Cuba_%283-2%29.svg.png 2x\" width=\"22\"/></span></span> <a href=\"/wiki/Cuba_at_the_2024_Summer_Olympics\" title=\"Cuba at the 2024 Summer Olympics\">Cuba</a></th><td>2</td><td>1</td><td>6</td><td>9</td></tr>, <tr><td>33</td><th scope=\"row\" style=\"background-color:inherit;color:inherit;text-align:left\"><span class=\"mw-image-border\" typeof=\"mw:File\"><span><img alt=\"\" class=\"mw-file-element\" data-file-height=\"600\" data-file-width=\"1000\" decoding=\"async\" height=\"13\" src=\"//upload.wikimedia.org/wikipedia/commons/thumb/2/2c/Flag_of_Bahrain.svg/22px-Flag_of_Bahrain.svg.png\" srcset=\"//upload.wikimedia.org/wikipedia/commons/thumb/2/2c/Flag_of_Bahrain.svg/33px-Flag_of_Bahrain.svg.png 1.5x, //upload.wikimedia.org/wikipedia/commons/thumb/2/2c/Flag_of_Bahrain.svg/44px-Flag_of_Bahrain.svg.png 2x\" width=\"22\"/></span></span> <a href=\"/wiki/Bahrain_at_the_2024_Summer_Olympics\" title=\"Bahrain at the 2024 Summer Olympics\">Bahrain</a></th><td>2</td><td>1</td><td>1</td><td>4</td></tr>, <tr><td>34</td><th scope=\"row\" style=\"background-color:inherit;color:inherit;text-align:left\"><span class=\"mw-image-border\" typeof=\"mw:File\"><span><img alt=\"\" class=\"mw-file-element\" data-file-height=\"600\" data-file-width=\"900\" decoding=\"async\" height=\"15\" src=\"//upload.wikimedia.org/wikipedia/commons/thumb/d/d1/Civil_Ensign_of_Slovenia.svg/22px-Civil_Ensign_of_Slovenia.svg.png\" srcset=\"//upload.wikimedia.org/wikipedia/commons/thumb/d/d1/Civil_Ensign_of_Slovenia.svg/33px-Civil_Ensign_of_Slovenia.svg.png 1.5x, //upload.wikimedia.org/wikipedia/commons/thumb/d/d1/Civil_Ensign_of_Slovenia.svg/44px-Civil_Ensign_of_Slovenia.svg.png 2x\" width=\"22\"/></span></span> <a href=\"/wiki/Slovenia_at_the_2024_Summer_Olympics\" title=\"Slovenia at the 2024 Summer Olympics\">Slovenia</a></th><td>2</td><td>1</td><td>0</td><td>3</td></tr>, <tr><td>35</td><th scope=\"row\" style=\"background-color:inherit;color:inherit;text-align:left\"><span class=\"mw-image-border\" typeof=\"mw:File\"><span><img alt=\"\" class=\"mw-file-element\" data-file-height=\"600\" data-file-width=\"900\" decoding=\"async\" height=\"15\" src=\"//upload.wikimedia.org/wikipedia/commons/thumb/1/14/Flag_of_Chinese_Taipei_for_Olympic_games.svg/22px-Flag_of_Chinese_Taipei_for_Olympic_games.svg.png\" srcset=\"//upload.wikimedia.org/wikipedia/commons/thumb/1/14/Flag_of_Chinese_Taipei_for_Olympic_games.svg/33px-Flag_of_Chinese_Taipei_for_Olympic_games.svg.png 1.5x, //upload.wikimedia.org/wikipedia/commons/thumb/1/14/Flag_of_Chinese_Taipei_for_Olympic_games.svg/44px-Flag_of_Chinese_Taipei_for_Olympic_games.svg.png 2x\" width=\"22\"/></span></span> <a href=\"/wiki/Chinese_Taipei_at_the_2024_Summer_Olympics\" title=\"Chinese Taipei at the 2024 Summer Olympics\">Chinese Taipei</a></th><td>2</td><td>0</td><td>5</td><td>7</td></tr>, <tr><td>36</td><th scope=\"row\" style=\"background-color:inherit;color:inherit;text-align:left\"><span class=\"mw-image-border\" typeof=\"mw:File\"><span><img alt=\"\" class=\"mw-file-element\" data-file-height=\"600\" data-file-width=\"900\" decoding=\"async\" height=\"15\" src=\"//upload.wikimedia.org/wikipedia/commons/thumb/4/41/Flag_of_Austria.svg/22px-Flag_of_Austria.svg.png\" srcset=\"//upload.wikimedia.org/wikipedia/commons/thumb/4/41/Flag_of_Austria.svg/33px-Flag_of_Austria.svg.png 1.5x, //upload.wikimedia.org/wikipedia/commons/thumb/4/41/Flag_of_Austria.svg/44px-Flag_of_Austria.svg.png 2x\" width=\"22\"/></span></span> <a href=\"/wiki/Austria_at_the_2024_Summer_Olympics\" title=\"Austria at the 2024 Summer Olympics\">Austria</a></th><td>2</td><td>0</td><td>3</td><td>5</td></tr>, <tr><td rowspan=\"2\">37</td><th scope=\"row\" style=\"background-color:inherit;color:inherit;text-align:left\"><span class=\"mw-image-border\" typeof=\"mw:File\"><span><img alt=\"\" class=\"mw-file-element\" data-file-height=\"600\" data-file-width=\"900\" decoding=\"async\" height=\"15\" src=\"//upload.wikimedia.org/wikipedia/commons/thumb/5/5b/Flag_of_Hong_Kong.svg/22px-Flag_of_Hong_Kong.svg.png\" srcset=\"//upload.wikimedia.org/wikipedia/commons/thumb/5/5b/Flag_of_Hong_Kong.svg/33px-Flag_of_Hong_Kong.svg.png 1.5x, //upload.wikimedia.org/wikipedia/commons/thumb/5/5b/Flag_of_Hong_Kong.svg/44px-Flag_of_Hong_Kong.svg.png 2x\" width=\"22\"/></span></span> <a href=\"/wiki/Hong_Kong_at_the_2024_Summer_Olympics\" title=\"Hong Kong at the 2024 Summer Olympics\">Hong Kong</a></th><td>2</td><td>0</td><td>2</td><td>4</td></tr>, <tr><th scope=\"row\" style=\"background-color:inherit;color:inherit;text-align:left\"><span class=\"mw-image-border\" typeof=\"mw:File\"><span><img alt=\"\" class=\"mw-file-element\" data-file-height=\"600\" data-file-width=\"1200\" decoding=\"async\" height=\"11\" src=\"//upload.wikimedia.org/wikipedia/commons/thumb/9/99/Flag_of_the_Philippines.svg/22px-Flag_of_the_Philippines.svg.png\" srcset=\"//upload.wikimedia.org/wikipedia/commons/thumb/9/99/Flag_of_the_Philippines.svg/33px-Flag_of_the_Philippines.svg.png 1.5x, //upload.wikimedia.org/wikipedia/commons/thumb/9/99/Flag_of_the_Philippines.svg/44px-Flag_of_the_Philippines.svg.png 2x\" width=\"22\"/></span></span> <a href=\"/wiki/Philippines_at_the_2024_Summer_Olympics\" title=\"Philippines at the 2024 Summer Olympics\">Philippines</a></th><td>2</td><td>0</td><td>2</td><td>4</td></tr>, <tr><td rowspan=\"2\">39</td><th scope=\"row\" style=\"background-color:inherit;color:inherit;text-align:left\"><span class=\"mw-image-border\" typeof=\"mw:File\"><span><img alt=\"\" class=\"mw-file-element\" data-file-height=\"600\" data-file-width=\"900\" decoding=\"async\" height=\"15\" src=\"//upload.wikimedia.org/wikipedia/commons/thumb/7/77/Flag_of_Algeria.svg/22px-Flag_of_Algeria.svg.png\" srcset=\"//upload.wikimedia.org/wikipedia/commons/thumb/7/77/Flag_of_Algeria.svg/33px-Flag_of_Algeria.svg.png 1.5x, //upload.wikimedia.org/wikipedia/commons/thumb/7/77/Flag_of_Algeria.svg/44px-Flag_of_Algeria.svg.png 2x\" width=\"22\"/></span></span> <a href=\"/wiki/Algeria_at_the_2024_Summer_Olympics\" title=\"Algeria at the 2024 Summer Olympics\">Algeria</a></th><td>2</td><td>0</td><td>1</td><td>3</td></tr>, <tr><th scope=\"row\" style=\"background-color:inherit;color:inherit;text-align:left\"><span class=\"mw-image-border\" typeof=\"mw:File\"><span><img alt=\"\" class=\"mw-file-element\" data-file-height=\"600\" data-file-width=\"900\" decoding=\"async\" height=\"15\" src=\"//upload.wikimedia.org/wikipedia/commons/thumb/9/9f/Flag_of_Indonesia.svg/22px-Flag_of_Indonesia.svg.png\" srcset=\"//upload.wikimedia.org/wikipedia/commons/thumb/9/9f/Flag_of_Indonesia.svg/33px-Flag_of_Indonesia.svg.png 1.5x, //upload.wikimedia.org/wikipedia/commons/thumb/9/9f/Flag_of_Indonesia.svg/44px-Flag_of_Indonesia.svg.png 2x\" width=\"22\"/></span></span> <a href=\"/wiki/Indonesia_at_the_2024_Summer_Olympics\" title=\"Indonesia at the 2024 Summer Olympics\">Indonesia</a></th><td>2</td><td>0</td><td>1</td><td>3</td></tr>, <tr><td>41</td><th scope=\"row\" style=\"background-color:inherit;color:inherit;text-align:left\"><span class=\"mw-image-border\" typeof=\"mw:File\"><span><img alt=\"\" class=\"mw-file-element\" data-file-height=\"800\" data-file-width=\"1100\" decoding=\"async\" height=\"16\" src=\"//upload.wikimedia.org/wikipedia/commons/thumb/d/d4/Flag_of_Israel.svg/22px-Flag_of_Israel.svg.png\" srcset=\"//upload.wikimedia.org/wikipedia/commons/thumb/d/d4/Flag_of_Israel.svg/33px-Flag_of_Israel.svg.png 1.5x, //upload.wikimedia.org/wikipedia/commons/thumb/d/d4/Flag_of_Israel.svg/44px-Flag_of_Israel.svg.png 2x\" width=\"22\"/></span></span> <a href=\"/wiki/Israel_at_the_2024_Summer_Olympics\" title=\"Israel at the 2024 Summer Olympics\">Israel</a></th><td>1</td><td>5</td><td>1</td><td>7</td></tr>, <tr><td>42</td><th scope=\"row\" style=\"background-color:inherit;color:inherit;text-align:left\"><span class=\"mw-image-border\" typeof=\"mw:File\"><span><img alt=\"\" class=\"mw-file-element\" data-file-height=\"800\" data-file-width=\"1280\" decoding=\"async\" height=\"14\" src=\"//upload.wikimedia.org/wikipedia/en/thumb/1/12/Flag_of_Poland.svg/22px-Flag_of_Poland.svg.png\" srcset=\"//upload.wikimedia.org/wikipedia/en/thumb/1/12/Flag_of_Poland.svg/33px-Flag_of_Poland.svg.png 1.5x, //upload.wikimedia.org/wikipedia/en/thumb/1/12/Flag_of_Poland.svg/44px-Flag_of_Poland.svg.png 2x\" width=\"22\"/></span></span> <a href=\"/wiki/Poland_at_the_2024_Summer_Olympics\" title=\"Poland at the 2024 Summer Olympics\">Poland</a></th><td>1</td><td>4</td><td>5</td><td>10</td></tr>, <tr><td>43</td><th scope=\"row\" style=\"background-color:inherit;color:inherit;text-align:left\"><span class=\"mw-image-border\" typeof=\"mw:File\"><span><img alt=\"\" class=\"mw-file-element\" data-file-height=\"500\" data-file-width=\"750\" decoding=\"async\" height=\"15\" src=\"//upload.wikimedia.org/wikipedia/commons/thumb/2/2e/Flag_of_Kazakhstan_%283-2%29.svg/22px-Flag_of_Kazakhstan_%283-2%29.svg.png\" srcset=\"//upload.wikimedia.org/wikipedia/commons/thumb/2/2e/Flag_of_Kazakhstan_%283-2%29.svg/33px-Flag_of_Kazakhstan_%283-2%29.svg.png 1.5x, //upload.wikimedia.org/wikipedia/commons/thumb/2/2e/Flag_of_Kazakhstan_%283-2%29.svg/44px-Flag_of_Kazakhstan_%283-2%29.svg.png 2x\" width=\"22\"/></span></span> <a href=\"/wiki/Kazakhstan_at_the_2024_Summer_Olympics\" title=\"Kazakhstan at the 2024 Summer Olympics\">Kazakhstan</a></th><td>1</td><td>3</td><td>3</td><td>7</td></tr>, <tr><td rowspan=\"3\">44</td><th scope=\"row\" style=\"background-color:inherit;color:inherit;text-align:left\"><span class=\"mw-image-border\" typeof=\"mw:File\"><span><img alt=\"\" class=\"mw-file-element\" data-file-height=\"600\" data-file-width=\"1200\" decoding=\"async\" height=\"11\" src=\"//upload.wikimedia.org/wikipedia/commons/thumb/0/0a/Flag_of_Jamaica.svg/22px-Flag_of_Jamaica.svg.png\" srcset=\"//upload.wikimedia.org/wikipedia/commons/thumb/0/0a/Flag_of_Jamaica.svg/33px-Flag_of_Jamaica.svg.png 1.5x, //upload.wikimedia.org/wikipedia/commons/thumb/0/0a/Flag_of_Jamaica.svg/44px-Flag_of_Jamaica.svg.png 2x\" width=\"22\"/></span></span> <a href=\"/wiki/Jamaica_at_the_2024_Summer_Olympics\" title=\"Jamaica at the 2024 Summer Olympics\">Jamaica</a></th><td>1</td><td>3</td><td>2</td><td>6</td></tr>, <tr><th scope=\"row\" style=\"background-color:inherit;color:inherit;text-align:left\"><span class=\"mw-image-border\" typeof=\"mw:File\"><span><img alt=\"\" class=\"mw-file-element\" data-file-height=\"600\" data-file-width=\"900\" decoding=\"async\" height=\"15\" src=\"//upload.wikimedia.org/wikipedia/commons/thumb/a/af/Flag_of_South_Africa.svg/22px-Flag_of_South_Africa.svg.png\" srcset=\"//upload.wikimedia.org/wikipedia/commons/thumb/a/af/Flag_of_South_Africa.svg/33px-Flag_of_South_Africa.svg.png 1.5x, //upload.wikimedia.org/wikipedia/commons/thumb/a/af/Flag_of_South_Africa.svg/44px-Flag_of_South_Africa.svg.png 2x\" width=\"22\"/></span></span> <a href=\"/wiki/South_Africa_at_the_2024_Summer_Olympics\" title=\"South Africa at the 2024 Summer Olympics\">South Africa</a></th><td>1</td><td>3</td><td>2</td><td>6</td></tr>, <tr><th scope=\"row\" style=\"background-color:inherit;color:inherit;text-align:left\"><span class=\"mw-image-border\" typeof=\"mw:File\"><span><img alt=\"\" class=\"mw-file-element\" data-file-height=\"600\" data-file-width=\"900\" decoding=\"async\" height=\"15\" src=\"//upload.wikimedia.org/wikipedia/commons/thumb/a/a9/Flag_of_Thailand.svg/22px-Flag_of_Thailand.svg.png\" srcset=\"//upload.wikimedia.org/wikipedia/commons/thumb/a/a9/Flag_of_Thailand.svg/33px-Flag_of_Thailand.svg.png 1.5x, //upload.wikimedia.org/wikipedia/commons/thumb/a/a9/Flag_of_Thailand.svg/44px-Flag_of_Thailand.svg.png 2x\" width=\"22\"/></span></span> <a href=\"/wiki/Thailand_at_the_2024_Summer_Olympics\" title=\"Thailand at the 2024 Summer Olympics\">Thailand</a></th><td>1</td><td>3</td><td>2</td><td>6</td></tr>, <tr><td><span data-sort-value=\"999 !\">–</span></td><th scope=\"row\" style=\"background-color:inherit;color:inherit;text-align:left\"><span class=\"mw-image-border\" typeof=\"mw:File\"><span><img alt=\"\" class=\"mw-file-element\" data-file-height=\"600\" data-file-width=\"900\" decoding=\"async\" height=\"15\" src=\"//upload.wikimedia.org/wikipedia/commons/thumb/0/0c/Flag_of_the_Individual_Neutral_Athletes_at_the_2024_Summer_Olympics.svg/22px-Flag_of_the_Individual_Neutral_Athletes_at_the_2024_Summer_Olympics.svg.png\" srcset=\"//upload.wikimedia.org/wikipedia/commons/thumb/0/0c/Flag_of_the_Individual_Neutral_Athletes_at_the_2024_Summer_Olympics.svg/33px-Flag_of_the_Individual_Neutral_Athletes_at_the_2024_Summer_Olympics.svg.png 1.5x, //upload.wikimedia.org/wikipedia/commons/thumb/0/0c/Flag_of_the_Individual_Neutral_Athletes_at_the_2024_Summer_Olympics.svg/44px-Flag_of_the_Individual_Neutral_Athletes_at_the_2024_Summer_Olympics.svg.png 2x\" width=\"22\"/></span></span> <a href=\"/wiki/Individual_Neutral_Athletes_at_the_2024_Summer_Olympics\" title=\"Individual Neutral Athletes at the 2024 Summer Olympics\">Individual Neutral Athletes</a><sup class=\"reference\" id=\"cite_ref-Who_is_INA_35-1\"><a href=\"#cite_note-Who_is_INA-35\"><span class=\"cite-bracket\">[</span>A<span class=\"cite-bracket\">]</span></a></sup><sup class=\"reference\" id=\"cite_ref-ANI_medal_table_inclusion_37-1\"><a href=\"#cite_note-ANI_medal_table_inclusion-37\"><span class=\"cite-bracket\">[</span>B<span class=\"cite-bracket\">]</span></a></sup></th><td>1</td><td>3</td><td>1</td><td>5</td></tr>, <tr><td>47</td><th scope=\"row\" style=\"background-color:inherit;color:inherit;text-align:left\"><span class=\"mw-image-border\" typeof=\"mw:File\"><span><img alt=\"\" class=\"mw-file-element\" data-file-height=\"600\" data-file-width=\"1200\" decoding=\"async\" height=\"11\" src=\"//upload.wikimedia.org/wikipedia/commons/thumb/7/71/Flag_of_Ethiopia.svg/22px-Flag_of_Ethiopia.svg.png\" srcset=\"//upload.wikimedia.org/wikipedia/commons/thumb/7/71/Flag_of_Ethiopia.svg/33px-Flag_of_Ethiopia.svg.png 1.5x, //upload.wikimedia.org/wikipedia/commons/thumb/7/71/Flag_of_Ethiopia.svg/44px-Flag_of_Ethiopia.svg.png 2x\" width=\"22\"/></span></span> <a href=\"/wiki/Ethiopia_at_the_2024_Summer_Olympics\" title=\"Ethiopia at the 2024 Summer Olympics\">Ethiopia</a></th><td>1</td><td>3</td><td>0</td><td>4</td></tr>, <tr><td>48</td><th scope=\"row\" style=\"background-color:inherit;color:inherit;text-align:left\"><span class=\"mw-image-border\" typeof=\"mw:File\"><span><img alt=\"\" class=\"mw-file-element\" data-file-height=\"1000\" data-file-width=\"1500\" decoding=\"async\" height=\"15\" src=\"//upload.wikimedia.org/wikipedia/commons/thumb/9/92/Civil_Ensign_of_Switzerland_%28Pantone%29.svg/22px-Civil_Ensign_of_Switzerland_%28Pantone%29.svg.png\" srcset=\"//upload.wikimedia.org/wikipedia/commons/thumb/9/92/Civil_Ensign_of_Switzerland_%28Pantone%29.svg/33px-Civil_Ensign_of_Switzerland_%28Pantone%29.svg.png 1.5x, //upload.wikimedia.org/wikipedia/commons/thumb/9/92/Civil_Ensign_of_Switzerland_%28Pantone%29.svg/44px-Civil_Ensign_of_Switzerland_%28Pantone%29.svg.png 2x\" width=\"22\"/></span></span> <a href=\"/wiki/Switzerland_at_the_2024_Summer_Olympics\" title=\"Switzerland at the 2024 Summer Olympics\">Switzerland</a></th><td>1</td><td>2</td><td>5</td><td>8</td></tr>, <tr><td>49</td><th scope=\"row\" style=\"background-color:inherit;color:inherit;text-align:left\"><span class=\"mw-image-border\" typeof=\"mw:File\"><span><img alt=\"\" class=\"mw-file-element\" data-file-height=\"960\" data-file-width=\"1440\" decoding=\"async\" height=\"15\" src=\"//upload.wikimedia.org/wikipedia/commons/thumb/e/e8/Flag_of_Ecuador.svg/22px-Flag_of_Ecuador.svg.png\" srcset=\"//upload.wikimedia.org/wikipedia/commons/thumb/e/e8/Flag_of_Ecuador.svg/33px-Flag_of_Ecuador.svg.png 1.5x, //upload.wikimedia.org/wikipedia/commons/thumb/e/e8/Flag_of_Ecuador.svg/44px-Flag_of_Ecuador.svg.png 2x\" width=\"22\"/></span></span> <a href=\"/wiki/Ecuador_at_the_2024_Summer_Olympics\" title=\"Ecuador at the 2024 Summer Olympics\">Ecuador</a></th><td>1</td><td>2</td><td>2</td><td>5</td></tr>, <tr><td>50</td><th scope=\"row\" style=\"background-color:inherit;color:inherit;text-align:left\"><span class=\"mw-image-border\" typeof=\"mw:File\"><span><img alt=\"\" class=\"mw-file-element\" data-file-height=\"400\" data-file-width=\"600\" decoding=\"async\" height=\"15\" src=\"//upload.wikimedia.org/wikipedia/commons/thumb/5/5c/Flag_of_Portugal.svg/22px-Flag_of_Portugal.svg.png\" srcset=\"//upload.wikimedia.org/wikipedia/commons/thumb/5/5c/Flag_of_Portugal.svg/33px-Flag_of_Portugal.svg.png 1.5x, //upload.wikimedia.org/wikipedia/commons/thumb/5/5c/Flag_of_Portugal.svg/44px-Flag_of_Portugal.svg.png 2x\" width=\"22\"/></span></span> <a href=\"/wiki/Portugal_at_the_2024_Summer_Olympics\" title=\"Portugal at the 2024 Summer Olympics\">Portugal</a></th><td>1</td><td>2</td><td>1</td><td>4</td></tr>, <tr><td>51</td><th scope=\"row\" style=\"background-color:inherit;color:inherit;text-align:left\"><span class=\"mw-image-border\" typeof=\"mw:File\"><span><img alt=\"\" class=\"mw-file-element\" data-file-height=\"400\" data-file-width=\"600\" decoding=\"async\" height=\"15\" src=\"//upload.wikimedia.org/wikipedia/commons/thumb/5/5c/Flag_of_Greece.svg/22px-Flag_of_Greece.svg.png\" srcset=\"//upload.wikimedia.org/wikipedia/commons/thumb/5/5c/Flag_of_Greece.svg/33px-Flag_of_Greece.svg.png 1.5x, //upload.wikimedia.org/wikipedia/commons/thumb/5/5c/Flag_of_Greece.svg/44px-Flag_of_Greece.svg.png 2x\" width=\"22\"/></span></span> <a href=\"/wiki/Greece_at_the_2024_Summer_Olympics\" title=\"Greece at the 2024 Summer Olympics\">Greece</a></th><td>1</td><td>1</td><td>6</td><td>8</td></tr>, <tr><td rowspan=\"3\">52</td><th scope=\"row\" style=\"background-color:inherit;color:inherit;text-align:left\"><span class=\"mw-image-border\" typeof=\"mw:File\"><span><img alt=\"\" class=\"mw-file-element\" data-file-height=\"500\" data-file-width=\"800\" decoding=\"async\" height=\"14\" src=\"//upload.wikimedia.org/wikipedia/commons/thumb/1/1a/Flag_of_Argentina.svg/22px-Flag_of_Argentina.svg.png\" srcset=\"//upload.wikimedia.org/wikipedia/commons/thumb/1/1a/Flag_of_Argentina.svg/33px-Flag_of_Argentina.svg.png 1.5x, //upload.wikimedia.org/wikipedia/commons/thumb/1/1a/Flag_of_Argentina.svg/44px-Flag_of_Argentina.svg.png 2x\" width=\"22\"/></span></span> <a href=\"/wiki/Argentina_at_the_2024_Summer_Olympics\" title=\"Argentina at the 2024 Summer Olympics\">Argentina</a></th><td>1</td><td>1</td><td>1</td><td>3</td></tr>, <tr><th scope=\"row\" style=\"background-color:inherit;color:inherit;text-align:left\"><span class=\"mw-image-border\" typeof=\"mw:File\"><span><img alt=\"\" class=\"mw-file-element\" data-file-height=\"600\" data-file-width=\"900\" decoding=\"async\" height=\"15\" src=\"//upload.wikimedia.org/wikipedia/commons/thumb/f/fe/Flag_of_Egypt.svg/22px-Flag_of_Egypt.svg.png\" srcset=\"//upload.wikimedia.org/wikipedia/commons/thumb/f/fe/Flag_of_Egypt.svg/33px-Flag_of_Egypt.svg.png 1.5x, //upload.wikimedia.org/wikipedia/commons/thumb/f/fe/Flag_of_Egypt.svg/44px-Flag_of_Egypt.svg.png 2x\" width=\"22\"/></span></span> <a href=\"/wiki/Egypt_at_the_2024_Summer_Olympics\" title=\"Egypt at the 2024 Summer Olympics\">Egypt</a></th><td>1</td><td>1</td><td>1</td><td>3</td></tr>, <tr><th scope=\"row\" style=\"background-color:inherit;color:inherit;text-align:left\"><span class=\"mw-image-border\" typeof=\"mw:File\"><span><img alt=\"\" class=\"mw-file-element\" data-file-height=\"800\" data-file-width=\"1200\" decoding=\"async\" height=\"15\" src=\"//upload.wikimedia.org/wikipedia/commons/thumb/c/ce/Flag_of_Tunisia.svg/22px-Flag_of_Tunisia.svg.png\" srcset=\"//upload.wikimedia.org/wikipedia/commons/thumb/c/ce/Flag_of_Tunisia.svg/33px-Flag_of_Tunisia.svg.png 1.5x, //upload.wikimedia.org/wikipedia/commons/thumb/c/ce/Flag_of_Tunisia.svg/44px-Flag_of_Tunisia.svg.png 2x\" width=\"22\"/></span></span> <a href=\"/wiki/Tunisia_at_the_2024_Summer_Olympics\" title=\"Tunisia at the 2024 Summer Olympics\">Tunisia</a></th><td>1</td><td>1</td><td>1</td><td>3</td></tr>, <tr><td rowspan=\"4\">55</td><th scope=\"row\" style=\"background-color:inherit;color:inherit;text-align:left\"><span class=\"mw-image-border\" typeof=\"mw:File\"><span><img alt=\"\" class=\"mw-file-element\" data-file-height=\"800\" data-file-width=\"1200\" decoding=\"async\" height=\"15\" src=\"//upload.wikimedia.org/wikipedia/commons/thumb/f/fa/Flag_of_Botswana.svg/22px-Flag_of_Botswana.svg.png\" srcset=\"//upload.wikimedia.org/wikipedia/commons/thumb/f/fa/Flag_of_Botswana.svg/33px-Flag_of_Botswana.svg.png 1.5x, //upload.wikimedia.org/wikipedia/commons/thumb/f/fa/Flag_of_Botswana.svg/44px-Flag_of_Botswana.svg.png 2x\" width=\"22\"/></span></span> <a href=\"/wiki/Botswana_at_the_2024_Summer_Olympics\" title=\"Botswana at the 2024 Summer Olympics\">Botswana</a></th><td>1</td><td>1</td><td>0</td><td>2</td></tr>, <tr><th scope=\"row\" style=\"background-color:inherit;color:inherit;text-align:left\"><span class=\"mw-image-border\" typeof=\"mw:File\"><span><img alt=\"\" class=\"mw-file-element\" data-file-height=\"600\" data-file-width=\"900\" decoding=\"async\" height=\"15\" src=\"//upload.wikimedia.org/wikipedia/commons/thumb/7/78/Flag_of_Chile.svg/22px-Flag_of_Chile.svg.png\" srcset=\"//upload.wikimedia.org/wikipedia/commons/thumb/7/78/Flag_of_Chile.svg/33px-Flag_of_Chile.svg.png 1.5x, //upload.wikimedia.org/wikipedia/commons/thumb/7/78/Flag_of_Chile.svg/44px-Flag_of_Chile.svg.png 2x\" width=\"22\"/></span></span> <a href=\"/wiki/Chile_at_the_2024_Summer_Olympics\" title=\"Chile at the 2024 Summer Olympics\">Chile</a></th><td>1</td><td>1</td><td>0</td><td>2</td></tr>, <tr><th scope=\"row\" style=\"background-color:inherit;color:inherit;text-align:left\"><span class=\"mw-image-border\" typeof=\"mw:File\"><span><img alt=\"\" class=\"mw-file-element\" data-file-height=\"600\" data-file-width=\"1200\" decoding=\"async\" height=\"11\" src=\"//upload.wikimedia.org/wikipedia/commons/thumb/9/9f/Flag_of_Saint_Lucia.svg/22px-Flag_of_Saint_Lucia.svg.png\" srcset=\"//upload.wikimedia.org/wikipedia/commons/thumb/9/9f/Flag_of_Saint_Lucia.svg/33px-Flag_of_Saint_Lucia.svg.png 1.5x, //upload.wikimedia.org/wikipedia/commons/thumb/9/9f/Flag_of_Saint_Lucia.svg/44px-Flag_of_Saint_Lucia.svg.png 2x\" width=\"22\"/></span></span> <a href=\"/wiki/Saint_Lucia_at_the_2024_Summer_Olympics\" title=\"Saint Lucia at the 2024 Summer Olympics\">Saint Lucia</a></th><td>1</td><td>1</td><td>0</td><td>2</td></tr>, <tr><th scope=\"row\" style=\"background-color:inherit;color:inherit;text-align:left\"><span class=\"mw-image-border\" typeof=\"mw:File\"><span><img alt=\"\" class=\"mw-file-element\" data-file-height=\"600\" data-file-width=\"900\" decoding=\"async\" height=\"15\" src=\"//upload.wikimedia.org/wikipedia/commons/thumb/4/4e/Flag_of_Uganda.svg/22px-Flag_of_Uganda.svg.png\" srcset=\"//upload.wikimedia.org/wikipedia/commons/thumb/4/4e/Flag_of_Uganda.svg/33px-Flag_of_Uganda.svg.png 1.5x, //upload.wikimedia.org/wikipedia/commons/thumb/4/4e/Flag_of_Uganda.svg/44px-Flag_of_Uganda.svg.png 2x\" width=\"22\"/></span></span> <a href=\"/wiki/Uganda_at_the_2024_Summer_Olympics\" title=\"Uganda at the 2024 Summer Olympics\">Uganda</a></th><td>1</td><td>1</td><td>0</td><td>2</td></tr>, <tr><td>59</td><th scope=\"row\" style=\"background-color:inherit;color:inherit;text-align:left\"><span class=\"mw-image-border\" typeof=\"mw:File\"><span><img alt=\"\" class=\"mw-file-element\" data-file-height=\"600\" data-file-width=\"900\" decoding=\"async\" height=\"15\" src=\"//upload.wikimedia.org/wikipedia/commons/thumb/9/9f/Flag_of_the_Dominican_Republic.svg/22px-Flag_of_the_Dominican_Republic.svg.png\" srcset=\"//upload.wikimedia.org/wikipedia/commons/thumb/9/9f/Flag_of_the_Dominican_Republic.svg/33px-Flag_of_the_Dominican_Republic.svg.png 1.5x, //upload.wikimedia.org/wikipedia/commons/thumb/9/9f/Flag_of_the_Dominican_Republic.svg/44px-Flag_of_the_Dominican_Republic.svg.png 2x\" width=\"22\"/></span></span> <a href=\"/wiki/Dominican_Republic_at_the_2024_Summer_Olympics\" title=\"Dominican Republic at the 2024 Summer Olympics\">Dominican Republic</a></th><td>1</td><td>0</td><td>2</td><td>3</td></tr>, <tr><td rowspan=\"2\">60</td><th scope=\"row\" style=\"background-color:inherit;color:inherit;text-align:left\"><span class=\"mw-image-border\" typeof=\"mw:File\"><span><img alt=\"\" class=\"mw-file-element\" data-file-height=\"600\" data-file-width=\"960\" decoding=\"async\" height=\"14\" src=\"//upload.wikimedia.org/wikipedia/commons/thumb/e/ec/Flag_of_Guatemala.svg/22px-Flag_of_Guatemala.svg.png\" srcset=\"//upload.wikimedia.org/wikipedia/commons/thumb/e/ec/Flag_of_Guatemala.svg/33px-Flag_of_Guatemala.svg.png 1.5x, //upload.wikimedia.org/wikipedia/commons/thumb/e/ec/Flag_of_Guatemala.svg/44px-Flag_of_Guatemala.svg.png 2x\" width=\"22\"/></span></span> <a href=\"/wiki/Guatemala_at_the_2024_Summer_Olympics\" title=\"Guatemala at the 2024 Summer Olympics\">Guatemala</a></th><td>1</td><td>0</td><td>1</td><td>2</td></tr>, <tr><th scope=\"row\" style=\"background-color:inherit;color:inherit;text-align:left\"><span class=\"mw-image-border\" typeof=\"mw:File\"><span><img alt=\"\" class=\"mw-file-element\" data-file-height=\"600\" data-file-width=\"900\" decoding=\"async\" height=\"15\" src=\"//upload.wikimedia.org/wikipedia/commons/thumb/2/2c/Flag_of_Morocco.svg/22px-Flag_of_Morocco.svg.png\" srcset=\"//upload.wikimedia.org/wikipedia/commons/thumb/2/2c/Flag_of_Morocco.svg/33px-Flag_of_Morocco.svg.png 1.5x, //upload.wikimedia.org/wikipedia/commons/thumb/2/2c/Flag_of_Morocco.svg/44px-Flag_of_Morocco.svg.png 2x\" width=\"22\"/></span></span> <a href=\"/wiki/Morocco_at_the_2024_Summer_Olympics\" title=\"Morocco at the 2024 Summer Olympics\">Morocco</a></th><td>1</td><td>0</td><td>1</td><td>2</td></tr>, <tr><td rowspan=\"2\">62</td><th scope=\"row\" style=\"background-color:inherit;color:inherit;text-align:left\"><span class=\"mw-image-border\" typeof=\"mw:File\"><span><img alt=\"\" class=\"mw-file-element\" data-file-height=\"600\" data-file-width=\"1200\" decoding=\"async\" height=\"11\" src=\"//upload.wikimedia.org/wikipedia/commons/thumb/c/c4/Flag_of_Dominica.svg/22px-Flag_of_Dominica.svg.png\" srcset=\"//upload.wikimedia.org/wikipedia/commons/thumb/c/c4/Flag_of_Dominica.svg/33px-Flag_of_Dominica.svg.png 1.5x, //upload.wikimedia.org/wikipedia/commons/thumb/c/c4/Flag_of_Dominica.svg/44px-Flag_of_Dominica.svg.png 2x\" width=\"22\"/></span></span> <a href=\"/wiki/Dominica_at_the_2024_Summer_Olympics\" title=\"Dominica at the 2024 Summer Olympics\">Dominica</a></th><td>1</td><td>0</td><td>0</td><td>1</td></tr>, <tr><th scope=\"row\" style=\"background-color:inherit;color:inherit;text-align:left\"><span class=\"mw-image-border\" typeof=\"mw:File\"><span><img alt=\"\" class=\"mw-file-element\" data-file-height=\"600\" data-file-width=\"900\" decoding=\"async\" height=\"15\" src=\"//upload.wikimedia.org/wikipedia/commons/thumb/3/32/Flag_of_Pakistan.svg/22px-Flag_of_Pakistan.svg.png\" srcset=\"//upload.wikimedia.org/wikipedia/commons/thumb/3/32/Flag_of_Pakistan.svg/33px-Flag_of_Pakistan.svg.png 1.5x, //upload.wikimedia.org/wikipedia/commons/thumb/3/32/Flag_of_Pakistan.svg/44px-Flag_of_Pakistan.svg.png 2x\" width=\"22\"/></span></span> <a href=\"/wiki/Pakistan_at_the_2024_Summer_Olympics\" title=\"Pakistan at the 2024 Summer Olympics\">Pakistan</a></th><td>1</td><td>0</td><td>0</td><td>1</td></tr>, <tr><td>64</td><th scope=\"row\" style=\"background-color:inherit;color:inherit;text-align:left\"><span class=\"mw-image-border\" typeof=\"mw:File\"><span><img alt=\"\" class=\"mw-file-element\" data-file-height=\"800\" data-file-width=\"1200\" decoding=\"async\" height=\"15\" src=\"//upload.wikimedia.org/wikipedia/commons/thumb/b/b4/Flag_of_Turkey.svg/22px-Flag_of_Turkey.svg.png\" srcset=\"//upload.wikimedia.org/wikipedia/commons/thumb/b/b4/Flag_of_Turkey.svg/33px-Flag_of_Turkey.svg.png 1.5x, //upload.wikimedia.org/wikipedia/commons/thumb/b/b4/Flag_of_Turkey.svg/44px-Flag_of_Turkey.svg.png 2x\" width=\"22\"/></span></span> <a href=\"/wiki/Turkey_at_the_2024_Summer_Olympics\" title=\"Turkey at the 2024 Summer Olympics\">Turkey</a></th><td>0</td><td>3</td><td>5</td><td>8</td></tr>, <tr><td>65</td><th scope=\"row\" style=\"background-color:inherit;color:inherit;text-align:left\"><span class=\"mw-image-border\" typeof=\"mw:File\"><span><img alt=\"\" class=\"mw-file-element\" data-file-height=\"560\" data-file-width=\"980\" decoding=\"async\" height=\"13\" src=\"//upload.wikimedia.org/wikipedia/commons/thumb/f/fc/Flag_of_Mexico.svg/22px-Flag_of_Mexico.svg.png\" srcset=\"//upload.wikimedia.org/wikipedia/commons/thumb/f/fc/Flag_of_Mexico.svg/33px-Flag_of_Mexico.svg.png 1.5x, //upload.wikimedia.org/wikipedia/commons/thumb/f/fc/Flag_of_Mexico.svg/44px-Flag_of_Mexico.svg.png 2x\" width=\"22\"/></span></span> <a href=\"/wiki/Mexico_at_the_2024_Summer_Olympics\" title=\"Mexico at the 2024 Summer Olympics\">Mexico</a></th><td>0</td><td>3</td><td>2</td><td>5</td></tr>, <tr><td rowspan=\"2\">66</td><th scope=\"row\" style=\"background-color:inherit;color:inherit;text-align:left\"><span class=\"mw-image-border\" typeof=\"mw:File\"><span><img alt=\"\" class=\"mw-file-element\" data-file-height=\"600\" data-file-width=\"1200\" decoding=\"async\" height=\"11\" src=\"//upload.wikimedia.org/wikipedia/commons/thumb/2/2f/Flag_of_Armenia.svg/22px-Flag_of_Armenia.svg.png\" srcset=\"//upload.wikimedia.org/wikipedia/commons/thumb/2/2f/Flag_of_Armenia.svg/33px-Flag_of_Armenia.svg.png 1.5x, //upload.wikimedia.org/wikipedia/commons/thumb/2/2f/Flag_of_Armenia.svg/44px-Flag_of_Armenia.svg.png 2x\" width=\"22\"/></span></span> <a href=\"/wiki/Armenia_at_the_2024_Summer_Olympics\" title=\"Armenia at the 2024 Summer Olympics\">Armenia</a></th><td>0</td><td>3</td><td>1</td><td>4</td></tr>, <tr><th scope=\"row\" style=\"background-color:inherit;color:inherit;text-align:left\"><span class=\"mw-image-border\" typeof=\"mw:File\"><span><img alt=\"\" class=\"mw-file-element\" data-file-height=\"600\" data-file-width=\"900\" decoding=\"async\" height=\"15\" src=\"//upload.wikimedia.org/wikipedia/commons/thumb/2/21/Flag_of_Colombia.svg/22px-Flag_of_Colombia.svg.png\" srcset=\"//upload.wikimedia.org/wikipedia/commons/thumb/2/21/Flag_of_Colombia.svg/33px-Flag_of_Colombia.svg.png 1.5x, //upload.wikimedia.org/wikipedia/commons/thumb/2/21/Flag_of_Colombia.svg/44px-Flag_of_Colombia.svg.png 2x\" width=\"22\"/></span></span> <a href=\"/wiki/Colombia_at_the_2024_Summer_Olympics\" title=\"Colombia at the 2024 Summer Olympics\">Colombia</a></th><td>0</td><td>3</td><td>1</td><td>4</td></tr>, <tr><td rowspan=\"2\">68</td><th scope=\"row\" style=\"background-color:inherit;color:inherit;text-align:left\"><span class=\"mw-image-border\" typeof=\"mw:File\"><span><img alt=\"\" class=\"mw-file-element\" data-file-height=\"600\" data-file-width=\"1000\" decoding=\"async\" height=\"13\" src=\"//upload.wikimedia.org/wikipedia/commons/thumb/c/c7/Flag_of_Kyrgyzstan.svg/22px-Flag_of_Kyrgyzstan.svg.png\" srcset=\"//upload.wikimedia.org/wikipedia/commons/thumb/c/c7/Flag_of_Kyrgyzstan.svg/33px-Flag_of_Kyrgyzstan.svg.png 1.5x, //upload.wikimedia.org/wikipedia/commons/thumb/c/c7/Flag_of_Kyrgyzstan.svg/44px-Flag_of_Kyrgyzstan.svg.png 2x\" width=\"22\"/></span></span> <a href=\"/wiki/Kyrgyzstan_at_the_2024_Summer_Olympics\" title=\"Kyrgyzstan at the 2024 Summer Olympics\">Kyrgyzstan</a></th><td>0</td><td>2</td><td>4</td><td>6</td></tr>, <tr><th scope=\"row\" style=\"background-color:inherit;color:inherit;text-align:left\"><span class=\"mw-image-border\" typeof=\"mw:File\"><span><img alt=\"\" class=\"mw-file-element\" data-file-height=\"800\" data-file-width=\"1600\" decoding=\"async\" height=\"11\" src=\"//upload.wikimedia.org/wikipedia/commons/thumb/5/51/Flag_of_North_Korea.svg/22px-Flag_of_North_Korea.svg.png\" srcset=\"//upload.wikimedia.org/wikipedia/commons/thumb/5/51/Flag_of_North_Korea.svg/33px-Flag_of_North_Korea.svg.png 1.5x, //upload.wikimedia.org/wikipedia/commons/thumb/5/51/Flag_of_North_Korea.svg/44px-Flag_of_North_Korea.svg.png 2x\" width=\"22\"/></span></span> <a href=\"/wiki/North_Korea_at_the_2024_Summer_Olympics\" title=\"North Korea at the 2024 Summer Olympics\">North Korea</a></th><td>0</td><td>2</td><td>4</td><td>6</td></tr>, <tr><td>70</td><th scope=\"row\" style=\"background-color:inherit;color:inherit;text-align:left\"><span class=\"mw-image-border\" typeof=\"mw:File\"><span><img alt=\"\" class=\"mw-file-element\" data-file-height=\"600\" data-file-width=\"1000\" decoding=\"async\" height=\"13\" src=\"//upload.wikimedia.org/wikipedia/commons/thumb/1/11/Flag_of_Lithuania.svg/22px-Flag_of_Lithuania.svg.png\" srcset=\"//upload.wikimedia.org/wikipedia/commons/thumb/1/11/Flag_of_Lithuania.svg/33px-Flag_of_Lithuania.svg.png 1.5x, //upload.wikimedia.org/wikipedia/commons/thumb/1/11/Flag_of_Lithuania.svg/44px-Flag_of_Lithuania.svg.png 2x\" width=\"22\"/></span></span> <a href=\"/wiki/Lithuania_at_the_2024_Summer_Olympics\" title=\"Lithuania at the 2024 Summer Olympics\">Lithuania</a></th><td>0</td><td>2</td><td>2</td><td>4</td></tr>, <tr><td>71</td><th scope=\"row\" style=\"background-color:inherit;color:inherit;text-align:left\"><span class=\"mw-image-border\" typeof=\"mw:File\"><span><img alt=\"\" class=\"mw-file-element\" data-file-height=\"600\" data-file-width=\"900\" decoding=\"async\" height=\"15\" src=\"//upload.wikimedia.org/wikipedia/en/thumb/4/41/Flag_of_India.svg/22px-Flag_of_India.svg.png\" srcset=\"//upload.wikimedia.org/wikipedia/en/thumb/4/41/Flag_of_India.svg/33px-Flag_of_India.svg.png 1.5x, //upload.wikimedia.org/wikipedia/en/thumb/4/41/Flag_of_India.svg/44px-Flag_of_India.svg.png 2x\" width=\"22\"/></span></span> <a href=\"/wiki/India_at_the_2024_Summer_Olympics\" title=\"India at the 2024 Summer Olympics\">India</a></th><td>0</td><td>1</td><td>5</td><td>6</td></tr>, <tr><td>72</td><th scope=\"row\" style=\"background-color:inherit;color:inherit;text-align:left\"><span class=\"mw-image-border\" typeof=\"mw:File\"><span><img alt=\"\" class=\"mw-file-element\" data-file-height=\"900\" data-file-width=\"1350\" decoding=\"async\" height=\"15\" src=\"//upload.wikimedia.org/wikipedia/commons/thumb/b/bf/Flag_of_Moldova_%283-2%29.svg/22px-Flag_of_Moldova_%283-2%29.svg.png\" srcset=\"//upload.wikimedia.org/wikipedia/commons/thumb/b/bf/Flag_of_Moldova_%283-2%29.svg/33px-Flag_of_Moldova_%283-2%29.svg.png 1.5x, //upload.wikimedia.org/wikipedia/commons/thumb/b/bf/Flag_of_Moldova_%283-2%29.svg/44px-Flag_of_Moldova_%283-2%29.svg.png 2x\" width=\"22\"/></span></span> <a href=\"/wiki/Moldova_at_the_2024_Summer_Olympics\" title=\"Moldova at the 2024 Summer Olympics\">Moldova</a></th><td>0</td><td>1</td><td>3</td><td>4</td></tr>, <tr><td>73</td><th scope=\"row\" style=\"background-color:inherit;color:inherit;text-align:left\"><span class=\"mw-image-border\" typeof=\"mw:File\"><span><img alt=\"\" class=\"mw-file-element\" data-file-height=\"600\" data-file-width=\"840\" decoding=\"async\" height=\"16\" src=\"//upload.wikimedia.org/wikipedia/commons/thumb/1/1f/Flag_of_Kosovo.svg/22px-Flag_of_Kosovo.svg.png\" srcset=\"//upload.wikimedia.org/wikipedia/commons/thumb/1/1f/Flag_of_Kosovo.svg/33px-Flag_of_Kosovo.svg.png 1.5x, //upload.wikimedia.org/wikipedia/commons/thumb/1/1f/Flag_of_Kosovo.svg/44px-Flag_of_Kosovo.svg.png 2x\" width=\"22\"/></span></span> <a href=\"/wiki/Kosovo_at_the_2024_Summer_Olympics\" title=\"Kosovo at the 2024 Summer Olympics\">Kosovo</a></th><td>0</td><td>1</td><td>1</td><td>2</td></tr>, <tr><td rowspan=\"5\">74</td><th scope=\"row\" style=\"background-color:inherit;color:inherit;text-align:left\"><span class=\"mw-image-border\" typeof=\"mw:File\"><span><img alt=\"\" class=\"mw-file-element\" data-file-height=\"800\" data-file-width=\"1200\" decoding=\"async\" height=\"15\" src=\"//upload.wikimedia.org/wikipedia/commons/thumb/d/d4/Flag_of_Cyprus.svg/22px-Flag_of_Cyprus.svg.png\" srcset=\"//upload.wikimedia.org/wikipedia/commons/thumb/d/d4/Flag_of_Cyprus.svg/33px-Flag_of_Cyprus.svg.png 1.5x, //upload.wikimedia.org/wikipedia/commons/thumb/d/d4/Flag_of_Cyprus.svg/44px-Flag_of_Cyprus.svg.png 2x\" width=\"22\"/></span></span> <a href=\"/wiki/Cyprus_at_the_2024_Summer_Olympics\" title=\"Cyprus at the 2024 Summer Olympics\">Cyprus</a></th><td>0</td><td>1</td><td>0</td><td>1</td></tr>, <tr><th scope=\"row\" style=\"background-color:inherit;color:inherit;text-align:left\"><span class=\"mw-image-border\" typeof=\"mw:File\"><span><img alt=\"\" class=\"mw-file-element\" data-file-height=\"600\" data-file-width=\"1200\" decoding=\"async\" height=\"11\" src=\"//upload.wikimedia.org/wikipedia/commons/thumb/b/ba/Flag_of_Fiji.svg/22px-Flag_of_Fiji.svg.png\" srcset=\"//upload.wikimedia.org/wikipedia/commons/thumb/b/ba/Flag_of_Fiji.svg/33px-Flag_of_Fiji.svg.png 1.5x, //upload.wikimedia.org/wikipedia/commons/thumb/b/ba/Flag_of_Fiji.svg/44px-Flag_of_Fiji.svg.png 2x\" width=\"22\"/></span></span> <a href=\"/wiki/Fiji_at_the_2024_Summer_Olympics\" title=\"Fiji at the 2024 Summer Olympics\">Fiji</a></th><td>0</td><td>1</td><td>0</td><td>1</td></tr>, <tr><th scope=\"row\" style=\"background-color:inherit;color:inherit;text-align:left\"><span class=\"mw-image-border\" typeof=\"mw:File\"><span><img alt=\"\" class=\"mw-file-element\" data-file-height=\"600\" data-file-width=\"900\" decoding=\"async\" height=\"15\" src=\"//upload.wikimedia.org/wikipedia/commons/thumb/0/05/Flag_of_Jordan_%283-2%29.svg/22px-Flag_of_Jordan_%283-2%29.svg.png\" srcset=\"//upload.wikimedia.org/wikipedia/commons/thumb/0/05/Flag_of_Jordan_%283-2%29.svg/33px-Flag_of_Jordan_%283-2%29.svg.png 1.5x, //upload.wikimedia.org/wikipedia/commons/thumb/0/05/Flag_of_Jordan_%283-2%29.svg/44px-Flag_of_Jordan_%283-2%29.svg.png 2x\" width=\"22\"/></span></span> <a href=\"/wiki/Jordan_at_the_2024_Summer_Olympics\" title=\"Jordan at the 2024 Summer Olympics\">Jordan</a></th><td>0</td><td>1</td><td>0</td><td>1</td></tr>, <tr><th scope=\"row\" style=\"background-color:inherit;color:inherit;text-align:left\"><span class=\"mw-image-border\" typeof=\"mw:File\"><span><img alt=\"\" class=\"mw-file-element\" data-file-height=\"600\" data-file-width=\"1200\" decoding=\"async\" height=\"11\" src=\"//upload.wikimedia.org/wikipedia/commons/thumb/4/4c/Flag_of_Mongolia.svg/22px-Flag_of_Mongolia.svg.png\" srcset=\"//upload.wikimedia.org/wikipedia/commons/thumb/4/4c/Flag_of_Mongolia.svg/33px-Flag_of_Mongolia.svg.png 1.5x, //upload.wikimedia.org/wikipedia/commons/thumb/4/4c/Flag_of_Mongolia.svg/44px-Flag_of_Mongolia.svg.png 2x\" width=\"22\"/></span></span> <a href=\"/wiki/Mongolia_at_the_2024_Summer_Olympics\" title=\"Mongolia at the 2024 Summer Olympics\">Mongolia</a></th><td>0</td><td>1</td><td>0</td><td>1</td></tr>, <tr><th scope=\"row\" style=\"background-color:inherit;color:inherit;text-align:left\"><span class=\"mw-image-border\" typeof=\"mw:File\"><span><img alt=\"\" class=\"mw-file-element\" data-file-height=\"600\" data-file-width=\"900\" decoding=\"async\" height=\"15\" src=\"//upload.wikimedia.org/wikipedia/commons/thumb/a/ab/Flag_of_Panama.svg/22px-Flag_of_Panama.svg.png\" srcset=\"//upload.wikimedia.org/wikipedia/commons/thumb/a/ab/Flag_of_Panama.svg/33px-Flag_of_Panama.svg.png 1.5x, //upload.wikimedia.org/wikipedia/commons/thumb/a/ab/Flag_of_Panama.svg/44px-Flag_of_Panama.svg.png 2x\" width=\"22\"/></span></span> <a href=\"/wiki/Panama_at_the_2024_Summer_Olympics\" title=\"Panama at the 2024 Summer Olympics\">Panama</a></th><td>0</td><td>1</td><td>0</td><td>1</td></tr>, <tr><td>79</td><th scope=\"row\" style=\"background-color:inherit;color:inherit;text-align:left\"><span class=\"mw-image-border\" typeof=\"mw:File\"><span><img alt=\"\" class=\"mw-file-element\" data-file-height=\"600\" data-file-width=\"1200\" decoding=\"async\" height=\"11\" src=\"//upload.wikimedia.org/wikipedia/commons/thumb/d/d0/Flag_of_Tajikistan.svg/22px-Flag_of_Tajikistan.svg.png\" srcset=\"//upload.wikimedia.org/wikipedia/commons/thumb/d/d0/Flag_of_Tajikistan.svg/33px-Flag_of_Tajikistan.svg.png 1.5x, //upload.wikimedia.org/wikipedia/commons/thumb/d/d0/Flag_of_Tajikistan.svg/44px-Flag_of_Tajikistan.svg.png 2x\" width=\"22\"/></span></span> <a href=\"/wiki/Tajikistan_at_the_2024_Summer_Olympics\" title=\"Tajikistan at the 2024 Summer Olympics\">Tajikistan</a></th><td>0</td><td>0</td><td>3</td><td>3</td></tr>, <tr><td rowspan=\"4\">80</td><th scope=\"row\" style=\"background-color:inherit;color:inherit;text-align:left\"><span class=\"mw-image-border\" typeof=\"mw:File\"><span><img alt=\"\" class=\"mw-file-element\" data-file-height=\"500\" data-file-width=\"700\" decoding=\"async\" height=\"16\" src=\"//upload.wikimedia.org/wikipedia/commons/thumb/3/36/Flag_of_Albania.svg/22px-Flag_of_Albania.svg.png\" srcset=\"//upload.wikimedia.org/wikipedia/commons/thumb/3/36/Flag_of_Albania.svg/33px-Flag_of_Albania.svg.png 1.5x, //upload.wikimedia.org/wikipedia/commons/thumb/3/36/Flag_of_Albania.svg/44px-Flag_of_Albania.svg.png 2x\" width=\"22\"/></span></span> <a href=\"/wiki/Albania_at_the_2024_Summer_Olympics\" title=\"Albania at the 2024 Summer Olympics\">Albania</a></th><td>0</td><td>0</td><td>2</td><td>2</td></tr>, <tr><th scope=\"row\" style=\"background-color:inherit;color:inherit;text-align:left\"><span class=\"mw-image-border\" typeof=\"mw:File\"><span><img alt=\"\" class=\"mw-file-element\" data-file-height=\"600\" data-file-width=\"1000\" decoding=\"async\" height=\"13\" src=\"//upload.wikimedia.org/wikipedia/commons/thumb/b/bc/Flag_of_Grenada.svg/22px-Flag_of_Grenada.svg.png\" srcset=\"//upload.wikimedia.org/wikipedia/commons/thumb/b/bc/Flag_of_Grenada.svg/33px-Flag_of_Grenada.svg.png 1.5x, //upload.wikimedia.org/wikipedia/commons/thumb/b/bc/Flag_of_Grenada.svg/44px-Flag_of_Grenada.svg.png 2x\" width=\"22\"/></span></span> <a href=\"/wiki/Grenada_at_the_2024_Summer_Olympics\" title=\"Grenada at the 2024 Summer Olympics\">Grenada</a></th><td>0</td><td>0</td><td>2</td><td>2</td></tr>, <tr><th scope=\"row\" style=\"background-color:inherit;color:inherit;text-align:left\"><span class=\"mw-image-border\" typeof=\"mw:File\"><span><img alt=\"\" class=\"mw-file-element\" data-file-height=\"600\" data-file-width=\"1200\" decoding=\"async\" height=\"11\" src=\"//upload.wikimedia.org/wikipedia/commons/thumb/6/66/Flag_of_Malaysia.svg/22px-Flag_of_Malaysia.svg.png\" srcset=\"//upload.wikimedia.org/wikipedia/commons/thumb/6/66/Flag_of_Malaysia.svg/33px-Flag_of_Malaysia.svg.png 1.5x, //upload.wikimedia.org/wikipedia/commons/thumb/6/66/Flag_of_Malaysia.svg/44px-Flag_of_Malaysia.svg.png 2x\" width=\"22\"/></span></span> <a href=\"/wiki/Malaysia_at_the_2024_Summer_Olympics\" title=\"Malaysia at the 2024 Summer Olympics\">Malaysia</a></th><td>0</td><td>0</td><td>2</td><td>2</td></tr>, <tr><th scope=\"row\" style=\"background-color:inherit;color:inherit;text-align:left\"><span class=\"mw-image-border\" typeof=\"mw:File\"><span><img alt=\"\" class=\"mw-file-element\" data-file-height=\"600\" data-file-width=\"900\" decoding=\"async\" height=\"15\" src=\"//upload.wikimedia.org/wikipedia/commons/thumb/2/28/Flag_of_Puerto_Rico.svg/22px-Flag_of_Puerto_Rico.svg.png\" srcset=\"//upload.wikimedia.org/wikipedia/commons/thumb/2/28/Flag_of_Puerto_Rico.svg/33px-Flag_of_Puerto_Rico.svg.png 1.5x, //upload.wikimedia.org/wikipedia/commons/thumb/2/28/Flag_of_Puerto_Rico.svg/44px-Flag_of_Puerto_Rico.svg.png 2x\" width=\"22\"/></span></span> <a href=\"/wiki/Puerto_Rico_at_the_2024_Summer_Olympics\" title=\"Puerto Rico at the 2024 Summer Olympics\">Puerto Rico</a></th><td>0</td><td>0</td><td>2</td><td>2</td></tr>, <tr><td rowspan=\"8\">84</td><th scope=\"row\" style=\"background-color:inherit;color:inherit;text-align:left\"><span class=\"mw-image-border\" typeof=\"mw:File\"><span><img alt=\"\" class=\"mw-file-element\" data-file-height=\"600\" data-file-width=\"1020\" decoding=\"async\" height=\"13\" src=\"//upload.wikimedia.org/wikipedia/commons/thumb/3/38/Flag_of_Cape_Verde.svg/22px-Flag_of_Cape_Verde.svg.png\" srcset=\"//upload.wikimedia.org/wikipedia/commons/thumb/3/38/Flag_of_Cape_Verde.svg/33px-Flag_of_Cape_Verde.svg.png 1.5x, //upload.wikimedia.org/wikipedia/commons/thumb/3/38/Flag_of_Cape_Verde.svg/44px-Flag_of_Cape_Verde.svg.png 2x\" width=\"22\"/></span></span> <a href=\"/wiki/Cape_Verde_at_the_2024_Summer_Olympics\" title=\"Cape Verde at the 2024 Summer Olympics\">Cape Verde</a></th><td>0</td><td>0</td><td>1</td><td>1</td></tr>, <tr><th scope=\"row\" style=\"background-color:inherit;color:inherit;text-align:left\"><span class=\"mw-image-border\" typeof=\"mw:File\"><span><img alt=\"\" class=\"mw-file-element\" data-file-height=\"600\" data-file-width=\"900\" decoding=\"async\" height=\"15\" src=\"//upload.wikimedia.org/wikipedia/commons/thumb/f/fe/Flag_of_C%C3%B4te_d%27Ivoire.svg/22px-Flag_of_C%C3%B4te_d%27Ivoire.svg.png\" srcset=\"//upload.wikimedia.org/wikipedia/commons/thumb/f/fe/Flag_of_C%C3%B4te_d%27Ivoire.svg/33px-Flag_of_C%C3%B4te_d%27Ivoire.svg.png 1.5x, //upload.wikimedia.org/wikipedia/commons/thumb/f/fe/Flag_of_C%C3%B4te_d%27Ivoire.svg/44px-Flag_of_C%C3%B4te_d%27Ivoire.svg.png 2x\" width=\"22\"/></span></span> <a href=\"/wiki/Ivory_Coast_at_the_2024_Summer_Olympics\" title=\"Ivory Coast at the 2024 Summer Olympics\">Ivory Coast</a></th><td>0</td><td>0</td><td>1</td><td>1</td></tr>, <tr><th scope=\"row\" style=\"background-color:inherit;color:inherit;text-align:left\"><span class=\"mw-image-border\" typeof=\"mw:File\"><span><img alt=\"\" class=\"mw-file-element\" data-file-height=\"600\" data-file-width=\"900\" decoding=\"async\" height=\"15\" src=\"//upload.wikimedia.org/wikipedia/commons/thumb/c/cf/Flag_of_Peru.svg/22px-Flag_of_Peru.svg.png\" srcset=\"//upload.wikimedia.org/wikipedia/commons/thumb/c/cf/Flag_of_Peru.svg/33px-Flag_of_Peru.svg.png 1.5x, //upload.wikimedia.org/wikipedia/commons/thumb/c/cf/Flag_of_Peru.svg/44px-Flag_of_Peru.svg.png 2x\" width=\"22\"/></span></span> <a href=\"/wiki/Peru_at_the_2024_Summer_Olympics\" title=\"Peru at the 2024 Summer Olympics\">Peru</a></th><td>0</td><td>0</td><td>1</td><td>1</td></tr>, <tr><th scope=\"row\" style=\"background-color:inherit;color:inherit;text-align:left\"><span class=\"mw-image-border\" typeof=\"mw:File\"><span><img alt=\"\" class=\"mw-file-element\" data-file-height=\"600\" data-file-width=\"900\" decoding=\"async\" height=\"15\" src=\"//upload.wikimedia.org/wikipedia/commons/thumb/3/3e/Flag_of_Qatar_%283-2%29.svg/22px-Flag_of_Qatar_%283-2%29.svg.png\" srcset=\"//upload.wikimedia.org/wikipedia/commons/thumb/3/3e/Flag_of_Qatar_%283-2%29.svg/33px-Flag_of_Qatar_%283-2%29.svg.png 1.5x, //upload.wikimedia.org/wikipedia/commons/thumb/3/3e/Flag_of_Qatar_%283-2%29.svg/44px-Flag_of_Qatar_%283-2%29.svg.png 2x\" width=\"22\"/></span></span> <a href=\"/wiki/Qatar_at_the_2024_Summer_Olympics\" title=\"Qatar at the 2024 Summer Olympics\">Qatar</a></th><td>0</td><td>0</td><td>1</td><td>1</td></tr>, <tr><th scope=\"row\" style=\"background-color:inherit;color:inherit;text-align:left\"><span class=\"mw-image-border\" typeof=\"mw:File\"><span><img alt=\"\" class=\"mw-file-element\" data-file-height=\"600\" data-file-width=\"900\" decoding=\"async\" height=\"15\" src=\"//upload.wikimedia.org/wikipedia/commons/thumb/a/a7/Olympic_flag.svg/22px-Olympic_flag.svg.png\" srcset=\"//upload.wikimedia.org/wikipedia/commons/thumb/a/a7/Olympic_flag.svg/33px-Olympic_flag.svg.png 1.5x, //upload.wikimedia.org/wikipedia/commons/thumb/a/a7/Olympic_flag.svg/44px-Olympic_flag.svg.png 2x\" width=\"22\"/></span></span> <a href=\"/wiki/Refugee_Olympic_Team_at_the_2024_Summer_Olympics\" title=\"Refugee Olympic Team at the 2024 Summer Olympics\">Refugee Olympic Team</a></th><td>0</td><td>0</td><td>1</td><td>1</td></tr>, <tr><th scope=\"row\" style=\"background-color:inherit;color:inherit;text-align:left\"><span class=\"mw-image-border\" typeof=\"mw:File\"><span><img alt=\"\" class=\"mw-file-element\" data-file-height=\"600\" data-file-width=\"900\" decoding=\"async\" height=\"15\" src=\"//upload.wikimedia.org/wikipedia/commons/thumb/4/48/Flag_of_Singapore.svg/22px-Flag_of_Singapore.svg.png\" srcset=\"//upload.wikimedia.org/wikipedia/commons/thumb/4/48/Flag_of_Singapore.svg/33px-Flag_of_Singapore.svg.png 1.5x, //upload.wikimedia.org/wikipedia/commons/thumb/4/48/Flag_of_Singapore.svg/44px-Flag_of_Singapore.svg.png 2x\" width=\"22\"/></span></span> <a href=\"/wiki/Singapore_at_the_2024_Summer_Olympics\" title=\"Singapore at the 2024 Summer Olympics\">Singapore</a></th><td>0</td><td>0</td><td>1</td><td>1</td></tr>, <tr><th scope=\"row\" style=\"background-color:inherit;color:inherit;text-align:left\"><span class=\"mw-image-border\" typeof=\"mw:File\"><span><img alt=\"\" class=\"mw-file-element\" data-file-height=\"600\" data-file-width=\"900\" decoding=\"async\" height=\"15\" src=\"//upload.wikimedia.org/wikipedia/commons/thumb/e/e6/Flag_of_Slovakia.svg/22px-Flag_of_Slovakia.svg.png\" srcset=\"//upload.wikimedia.org/wikipedia/commons/thumb/e/e6/Flag_of_Slovakia.svg/33px-Flag_of_Slovakia.svg.png 1.5x, //upload.wikimedia.org/wikipedia/commons/thumb/e/e6/Flag_of_Slovakia.svg/44px-Flag_of_Slovakia.svg.png 2x\" width=\"22\"/></span></span> <a href=\"/wiki/Slovakia_at_the_2024_Summer_Olympics\" title=\"Slovakia at the 2024 Summer Olympics\">Slovakia</a></th><td>0</td><td>0</td><td>1</td><td>1</td></tr>, <tr><th scope=\"row\" style=\"background-color:inherit;color:inherit;text-align:left\"><span class=\"mw-image-border\" typeof=\"mw:File\"><span><img alt=\"\" class=\"mw-file-element\" data-file-height=\"600\" data-file-width=\"900\" decoding=\"async\" height=\"15\" src=\"//upload.wikimedia.org/wikipedia/commons/thumb/0/06/Flag_of_Zambia.svg/22px-Flag_of_Zambia.svg.png\" srcset=\"//upload.wikimedia.org/wikipedia/commons/thumb/0/06/Flag_of_Zambia.svg/33px-Flag_of_Zambia.svg.png 1.5x, //upload.wikimedia.org/wikipedia/commons/thumb/0/06/Flag_of_Zambia.svg/44px-Flag_of_Zambia.svg.png 2x\" width=\"22\"/></span></span> <a href=\"/wiki/Zambia_at_the_2024_Summer_Olympics\" title=\"Zambia at the 2024 Summer Olympics\">Zambia</a></th><td>0</td><td>0</td><td>1</td><td>1</td></tr>, <tr class=\"sortbottom\"><th colspan=\"2\" scope=\"row\" style=\"font-weight:bold\">Totals (91 entries)</th><th style=\"font-weight:bold\">329</th><th style=\"font-weight:bold\">330</th><th style=\"font-weight:bold\">385</th><th style=\"font-weight:bold\">1,044</th></tr>]\n"
     ]
    }
   ],
   "source": [
    "print(row_data)"
   ]
  },
  {
   "cell_type": "code",
   "execution_count": null,
   "id": "6f5f9a5d-3d49-484c-98b8-52e868c1ec39",
   "metadata": {},
   "outputs": [],
   "source": [
    "#Country names"
   ]
  },
  {
   "cell_type": "code",
   "execution_count": 32,
   "id": "526d43ce-1c9d-4ced-b1d6-8be059f2f206",
   "metadata": {},
   "outputs": [],
   "source": [
    "noc_values = []\n",
    "for row in row_data:\n",
    "    th_row = row.find('th', {'scope': 'row'})\n",
    "    if th_row:\n",
    "        noc_text = th_row.get_text().replace('\\xa0','')\n",
    "        noc_values.append(noc_text)"
   ]
  },
  {
   "cell_type": "code",
   "execution_count": 34,
   "id": "3940c37a-d6de-4d73-8dde-5d8193334e44",
   "metadata": {},
   "outputs": [
    {
     "name": "stdout",
     "output_type": "stream",
     "text": [
      "['United States‡', 'China', 'Japan', 'Australia', 'France*', 'Netherlands', 'Great Britain', 'South Korea', 'Italy', 'Germany', 'New Zealand', 'Canada', 'Uzbekistan', 'Hungary', 'Spain', 'Sweden', 'Kenya', 'Norway', 'Ireland', 'Brazil', 'Iran', 'Ukraine', 'Romania‡', 'Georgia', 'Belgium', 'Bulgaria', 'Serbia', 'Czech Republic', 'Denmark', 'Azerbaijan', 'Croatia', 'Cuba', 'Bahrain', 'Slovenia', 'Chinese Taipei', 'Austria', 'Hong Kong', 'Philippines', 'Algeria', 'Indonesia', 'Israel', 'Poland', 'Kazakhstan', 'Jamaica', 'South Africa', 'Thailand', 'Individual Neutral Athletes[A][B]', 'Ethiopia', 'Switzerland', 'Ecuador', 'Portugal', 'Greece', 'Argentina', 'Egypt', 'Tunisia', 'Botswana', 'Chile', 'Saint Lucia', 'Uganda', 'Dominican Republic', 'Guatemala', 'Morocco', 'Dominica', 'Pakistan', 'Turkey', 'Mexico', 'Armenia', 'Colombia', 'Kyrgyzstan', 'North Korea', 'Lithuania', 'India', 'Moldova', 'Kosovo', 'Cyprus', 'Fiji', 'Jordan', 'Mongolia', 'Panama', 'Tajikistan', 'Albania', 'Grenada', 'Malaysia', 'Puerto Rico', 'Cape Verde', 'Ivory Coast', 'Peru', 'Qatar', 'Refugee Olympic Team', 'Singapore', 'Slovakia', 'Zambia']\n"
     ]
    }
   ],
   "source": [
    "print(noc_values)"
   ]
  },
  {
   "cell_type": "code",
   "execution_count": 33,
   "id": "b6058a3b-3b4f-4fc6-9b5a-f27efee9da7b",
   "metadata": {},
   "outputs": [],
   "source": [
    "del noc_values[-1]"
   ]
  },
  {
   "cell_type": "code",
   "execution_count": null,
   "id": "a1b3df85-e2ee-4028-8884-f25f46a1ea89",
   "metadata": {},
   "outputs": [],
   "source": [
    "#No of Medals"
   ]
  },
  {
   "cell_type": "code",
   "execution_count": 54,
   "id": "c558a765-374e-46f5-9d82-4bd814459839",
   "metadata": {},
   "outputs": [],
   "source": [
    "numeric_values = []\n",
    "for row in row_data:\n",
    "    num_elements = [td.get_text() for td in row.find_all('td')]\n",
    "    if num_elements:\n",
    "        numeric_values.append(num_elements)"
   ]
  },
  {
   "cell_type": "code",
   "execution_count": 55,
   "id": "c0633383-81d3-4e73-a9d9-280d1eecd71f",
   "metadata": {},
   "outputs": [
    {
     "name": "stdout",
     "output_type": "stream",
     "text": [
      "[['1', '40', '44', '42', '126'], ['2', '40', '27', '24', '91'], ['3', '20', '12', '13', '45'], ['4', '18', '19', '16', '53'], ['5', '16', '26', '22', '64'], ['6', '15', '7', '12', '34'], ['7', '14', '22', '29', '65'], ['8', '13', '9', '10', '32'], ['9', '12', '13', '15', '40'], ['10', '12', '13', '8', '33'], ['11', '10', '7', '3', '20'], ['12', '9', '7', '11', '27'], ['13', '8', '2', '3', '13'], ['14', '6', '7', '6', '19'], ['15', '5', '4', '9', '18'], ['16', '4', '4', '3', '11'], ['17', '4', '2', '5', '11'], ['18', '4', '1', '3', '8'], ['19', '4', '0', '3', '7'], ['20', '3', '7', '10', '20'], ['21', '3', '6', '3', '12'], ['22', '3', '5', '4', '12'], ['23', '3', '4', '2', '9'], ['24', '3', '3', '1', '7'], ['25', '3', '1', '6', '10'], ['26', '3', '1', '3', '7'], ['27', '3', '1', '1', '5'], ['28', '3', '0', '2', '5'], ['29', '2', '2', '5', '9'], ['30', '2', '2', '3', '7'], ['2', '2', '3', '7'], ['32', '2', '1', '6', '9'], ['33', '2', '1', '1', '4'], ['34', '2', '1', '0', '3'], ['35', '2', '0', '5', '7'], ['36', '2', '0', '3', '5'], ['37', '2', '0', '2', '4'], ['2', '0', '2', '4'], ['39', '2', '0', '1', '3'], ['2', '0', '1', '3'], ['41', '1', '5', '1', '7'], ['42', '1', '4', '5', '10'], ['43', '1', '3', '3', '7'], ['44', '1', '3', '2', '6'], ['1', '3', '2', '6'], ['1', '3', '2', '6'], ['–', '1', '3', '1', '5'], ['47', '1', '3', '0', '4'], ['48', '1', '2', '5', '8'], ['49', '1', '2', '2', '5'], ['50', '1', '2', '1', '4'], ['51', '1', '1', '6', '8'], ['52', '1', '1', '1', '3'], ['1', '1', '1', '3'], ['1', '1', '1', '3'], ['55', '1', '1', '0', '2'], ['1', '1', '0', '2'], ['1', '1', '0', '2'], ['1', '1', '0', '2'], ['59', '1', '0', '2', '3'], ['60', '1', '0', '1', '2'], ['1', '0', '1', '2'], ['62', '1', '0', '0', '1'], ['1', '0', '0', '1'], ['64', '0', '3', '5', '8'], ['65', '0', '3', '2', '5'], ['66', '0', '3', '1', '4'], ['0', '3', '1', '4'], ['68', '0', '2', '4', '6'], ['0', '2', '4', '6'], ['70', '0', '2', '2', '4'], ['71', '0', '1', '5', '6'], ['72', '0', '1', '3', '4'], ['73', '0', '1', '1', '2'], ['74', '0', '1', '0', '1'], ['0', '1', '0', '1'], ['0', '1', '0', '1'], ['0', '1', '0', '1'], ['0', '1', '0', '1'], ['79', '0', '0', '3', '3'], ['80', '0', '0', '2', '2'], ['0', '0', '2', '2'], ['0', '0', '2', '2'], ['0', '0', '2', '2'], ['84', '0', '0', '1', '1'], ['0', '0', '1', '1'], ['0', '0', '1', '1'], ['0', '0', '1', '1'], ['0', '0', '1', '1'], ['0', '0', '1', '1'], ['0', '0', '1', '1'], ['0', '0', '1', '1']]\n"
     ]
    }
   ],
   "source": [
    "print(numeric_values)"
   ]
  },
  {
   "cell_type": "code",
   "execution_count": 56,
   "id": "0e48eefb-7760-4228-8608-9d2be36c93d3",
   "metadata": {},
   "outputs": [],
   "source": [
    "adjusted_list = [sublist[-4:] for sublist in numeric_values]"
   ]
  },
  {
   "cell_type": "code",
   "execution_count": 57,
   "id": "c23f2b3e-28f7-42e9-86cf-3d0d092df61d",
   "metadata": {},
   "outputs": [
    {
     "name": "stdout",
     "output_type": "stream",
     "text": [
      "[['40', '44', '42', '126'], ['40', '27', '24', '91'], ['20', '12', '13', '45'], ['18', '19', '16', '53'], ['16', '26', '22', '64'], ['15', '7', '12', '34'], ['14', '22', '29', '65'], ['13', '9', '10', '32'], ['12', '13', '15', '40'], ['12', '13', '8', '33'], ['10', '7', '3', '20'], ['9', '7', '11', '27'], ['8', '2', '3', '13'], ['6', '7', '6', '19'], ['5', '4', '9', '18'], ['4', '4', '3', '11'], ['4', '2', '5', '11'], ['4', '1', '3', '8'], ['4', '0', '3', '7'], ['3', '7', '10', '20'], ['3', '6', '3', '12'], ['3', '5', '4', '12'], ['3', '4', '2', '9'], ['3', '3', '1', '7'], ['3', '1', '6', '10'], ['3', '1', '3', '7'], ['3', '1', '1', '5'], ['3', '0', '2', '5'], ['2', '2', '5', '9'], ['2', '2', '3', '7'], ['2', '2', '3', '7'], ['2', '1', '6', '9'], ['2', '1', '1', '4'], ['2', '1', '0', '3'], ['2', '0', '5', '7'], ['2', '0', '3', '5'], ['2', '0', '2', '4'], ['2', '0', '2', '4'], ['2', '0', '1', '3'], ['2', '0', '1', '3'], ['1', '5', '1', '7'], ['1', '4', '5', '10'], ['1', '3', '3', '7'], ['1', '3', '2', '6'], ['1', '3', '2', '6'], ['1', '3', '2', '6'], ['1', '3', '1', '5'], ['1', '3', '0', '4'], ['1', '2', '5', '8'], ['1', '2', '2', '5'], ['1', '2', '1', '4'], ['1', '1', '6', '8'], ['1', '1', '1', '3'], ['1', '1', '1', '3'], ['1', '1', '1', '3'], ['1', '1', '0', '2'], ['1', '1', '0', '2'], ['1', '1', '0', '2'], ['1', '1', '0', '2'], ['1', '0', '2', '3'], ['1', '0', '1', '2'], ['1', '0', '1', '2'], ['1', '0', '0', '1'], ['1', '0', '0', '1'], ['0', '3', '5', '8'], ['0', '3', '2', '5'], ['0', '3', '1', '4'], ['0', '3', '1', '4'], ['0', '2', '4', '6'], ['0', '2', '4', '6'], ['0', '2', '2', '4'], ['0', '1', '5', '6'], ['0', '1', '3', '4'], ['0', '1', '1', '2'], ['0', '1', '0', '1'], ['0', '1', '0', '1'], ['0', '1', '0', '1'], ['0', '1', '0', '1'], ['0', '1', '0', '1'], ['0', '0', '3', '3'], ['0', '0', '2', '2'], ['0', '0', '2', '2'], ['0', '0', '2', '2'], ['0', '0', '2', '2'], ['0', '0', '1', '1'], ['0', '0', '1', '1'], ['0', '0', '1', '1'], ['0', '0', '1', '1'], ['0', '0', '1', '1'], ['0', '0', '1', '1'], ['0', '0', '1', '1'], ['0', '0', '1', '1']]\n"
     ]
    }
   ],
   "source": [
    "print(adjusted_list)"
   ]
  },
  {
   "cell_type": "code",
   "execution_count": null,
   "id": "bc767bb4-039a-4ec1-9110-a034ec70a533",
   "metadata": {},
   "outputs": [],
   "source": [
    "#Consolidate country data with medals data"
   ]
  },
  {
   "cell_type": "code",
   "execution_count": 58,
   "id": "f9a8bfc9-23b8-47de-b85c-c9192de45661",
   "metadata": {},
   "outputs": [],
   "source": [
    "olympics = []\n",
    "\n",
    "for i in range(len(noc_values)):\n",
    "    row_data = adjusted_list[i]\n",
    "    row_data.insert(0,noc_values[i])\n",
    "    olympics.append(row_data)"
   ]
  },
  {
   "cell_type": "code",
   "execution_count": 59,
   "id": "c405e526-c4a8-4808-a962-b8c4699f904e",
   "metadata": {},
   "outputs": [
    {
     "name": "stdout",
     "output_type": "stream",
     "text": [
      "[['United States‡', '40', '44', '42', '126'], ['China', '40', '27', '24', '91'], ['Japan', '20', '12', '13', '45'], ['Australia', '18', '19', '16', '53'], ['France*', '16', '26', '22', '64'], ['Netherlands', '15', '7', '12', '34'], ['Great Britain', '14', '22', '29', '65'], ['South Korea', '13', '9', '10', '32'], ['Italy', '12', '13', '15', '40'], ['Germany', '12', '13', '8', '33'], ['New Zealand', '10', '7', '3', '20'], ['Canada', '9', '7', '11', '27'], ['Uzbekistan', '8', '2', '3', '13'], ['Hungary', '6', '7', '6', '19'], ['Spain', '5', '4', '9', '18'], ['Sweden', '4', '4', '3', '11'], ['Kenya', '4', '2', '5', '11'], ['Norway', '4', '1', '3', '8'], ['Ireland', '4', '0', '3', '7'], ['Brazil', '3', '7', '10', '20'], ['Iran', '3', '6', '3', '12'], ['Ukraine', '3', '5', '4', '12'], ['Romania‡', '3', '4', '2', '9'], ['Georgia', '3', '3', '1', '7'], ['Belgium', '3', '1', '6', '10'], ['Bulgaria', '3', '1', '3', '7'], ['Serbia', '3', '1', '1', '5'], ['Czech Republic', '3', '0', '2', '5'], ['Denmark', '2', '2', '5', '9'], ['Azerbaijan', '2', '2', '3', '7'], ['Croatia', '2', '2', '3', '7'], ['Cuba', '2', '1', '6', '9'], ['Bahrain', '2', '1', '1', '4'], ['Slovenia', '2', '1', '0', '3'], ['Chinese Taipei', '2', '0', '5', '7'], ['Austria', '2', '0', '3', '5'], ['Hong Kong', '2', '0', '2', '4'], ['Philippines', '2', '0', '2', '4'], ['Algeria', '2', '0', '1', '3'], ['Indonesia', '2', '0', '1', '3'], ['Israel', '1', '5', '1', '7'], ['Poland', '1', '4', '5', '10'], ['Kazakhstan', '1', '3', '3', '7'], ['Jamaica', '1', '3', '2', '6'], ['South Africa', '1', '3', '2', '6'], ['Thailand', '1', '3', '2', '6'], ['Individual Neutral Athletes[A][B]', '1', '3', '1', '5'], ['Ethiopia', '1', '3', '0', '4'], ['Switzerland', '1', '2', '5', '8'], ['Ecuador', '1', '2', '2', '5'], ['Portugal', '1', '2', '1', '4'], ['Greece', '1', '1', '6', '8'], ['Argentina', '1', '1', '1', '3'], ['Egypt', '1', '1', '1', '3'], ['Tunisia', '1', '1', '1', '3'], ['Botswana', '1', '1', '0', '2'], ['Chile', '1', '1', '0', '2'], ['Saint Lucia', '1', '1', '0', '2'], ['Uganda', '1', '1', '0', '2'], ['Dominican Republic', '1', '0', '2', '3'], ['Guatemala', '1', '0', '1', '2'], ['Morocco', '1', '0', '1', '2'], ['Dominica', '1', '0', '0', '1'], ['Pakistan', '1', '0', '0', '1'], ['Turkey', '0', '3', '5', '8'], ['Mexico', '0', '3', '2', '5'], ['Armenia', '0', '3', '1', '4'], ['Colombia', '0', '3', '1', '4'], ['Kyrgyzstan', '0', '2', '4', '6'], ['North Korea', '0', '2', '4', '6'], ['Lithuania', '0', '2', '2', '4'], ['India', '0', '1', '5', '6'], ['Moldova', '0', '1', '3', '4'], ['Kosovo', '0', '1', '1', '2'], ['Cyprus', '0', '1', '0', '1'], ['Fiji', '0', '1', '0', '1'], ['Jordan', '0', '1', '0', '1'], ['Mongolia', '0', '1', '0', '1'], ['Panama', '0', '1', '0', '1'], ['Tajikistan', '0', '0', '3', '3'], ['Albania', '0', '0', '2', '2'], ['Grenada', '0', '0', '2', '2'], ['Malaysia', '0', '0', '2', '2'], ['Puerto Rico', '0', '0', '2', '2'], ['Cape Verde', '0', '0', '1', '1'], ['Ivory Coast', '0', '0', '1', '1'], ['Peru', '0', '0', '1', '1'], ['Qatar', '0', '0', '1', '1'], ['Refugee Olympic Team', '0', '0', '1', '1'], ['Singapore', '0', '0', '1', '1'], ['Slovakia', '0', '0', '1', '1'], ['Zambia', '0', '0', '1', '1']]\n"
     ]
    }
   ],
   "source": [
    "print(olympics)"
   ]
  },
  {
   "cell_type": "code",
   "execution_count": null,
   "id": "c58609b7-9404-4d8d-b855-d373c86eba3e",
   "metadata": {},
   "outputs": [],
   "source": [
    "#Creating olympics dataset"
   ]
  },
  {
   "cell_type": "code",
   "execution_count": 60,
   "id": "8c511982-969d-4bdc-8768-7baaf78cac49",
   "metadata": {},
   "outputs": [],
   "source": [
    "df = pd.DataFrame(olympics, columns = columns_title)"
   ]
  },
  {
   "cell_type": "code",
   "execution_count": 61,
   "id": "9bf463f6-af88-4207-8847-7050a1c1e7af",
   "metadata": {},
   "outputs": [
    {
     "name": "stdout",
     "output_type": "stream",
     "text": [
      "                     NOC Gold Silver Bronze Total\n",
      "0         United States‡   40     44     42   126\n",
      "1                  China   40     27     24    91\n",
      "2                  Japan   20     12     13    45\n",
      "3              Australia   18     19     16    53\n",
      "4                France*   16     26     22    64\n",
      "..                   ...  ...    ...    ...   ...\n",
      "87                 Qatar    0      0      1     1\n",
      "88  Refugee Olympic Team    0      0      1     1\n",
      "89             Singapore    0      0      1     1\n",
      "90              Slovakia    0      0      1     1\n",
      "91                Zambia    0      0      1     1\n",
      "\n",
      "[92 rows x 5 columns]\n"
     ]
    }
   ],
   "source": [
    "print(df)"
   ]
  },
  {
   "cell_type": "code",
   "execution_count": 73,
   "id": "ba9ac6d6-f709-4a37-9f07-c68c1318b308",
   "metadata": {},
   "outputs": [],
   "source": [
    "df = df[df['NOC'] != 'Individual Neutral Athletes[A][B]']"
   ]
  },
  {
   "cell_type": "code",
   "execution_count": 80,
   "id": "100a4084-b548-4a00-8fd0-a0797739352f",
   "metadata": {},
   "outputs": [
    {
     "name": "stdout",
     "output_type": "stream",
     "text": [
      "0           United States‡\n",
      "1                    China\n",
      "2                    Japan\n",
      "3                Australia\n",
      "4                  France*\n",
      "5              Netherlands\n",
      "6            Great Britain\n",
      "7              South Korea\n",
      "8                    Italy\n",
      "9                  Germany\n",
      "10             New Zealand\n",
      "11                  Canada\n",
      "12              Uzbekistan\n",
      "13                 Hungary\n",
      "14                   Spain\n",
      "15                  Sweden\n",
      "16                   Kenya\n",
      "17                  Norway\n",
      "18                 Ireland\n",
      "19                  Brazil\n",
      "20                    Iran\n",
      "21                 Ukraine\n",
      "22                Romania‡\n",
      "23                 Georgia\n",
      "24                 Belgium\n",
      "25                Bulgaria\n",
      "26                  Serbia\n",
      "27          Czech Republic\n",
      "28                 Denmark\n",
      "29              Azerbaijan\n",
      "30                 Croatia\n",
      "31                    Cuba\n",
      "32                 Bahrain\n",
      "33                Slovenia\n",
      "34          Chinese Taipei\n",
      "35                 Austria\n",
      "36               Hong Kong\n",
      "37             Philippines\n",
      "38                 Algeria\n",
      "39               Indonesia\n",
      "40                  Israel\n",
      "41                  Poland\n",
      "42              Kazakhstan\n",
      "43                 Jamaica\n",
      "44            South Africa\n",
      "45                Thailand\n",
      "47                Ethiopia\n",
      "48             Switzerland\n",
      "49                 Ecuador\n",
      "50                Portugal\n",
      "51                  Greece\n",
      "52               Argentina\n",
      "53                   Egypt\n",
      "54                 Tunisia\n",
      "55                Botswana\n",
      "56                   Chile\n",
      "57             Saint Lucia\n",
      "58                  Uganda\n",
      "59      Dominican Republic\n",
      "60               Guatemala\n",
      "61                 Morocco\n",
      "62                Dominica\n",
      "63                Pakistan\n",
      "64                  Turkey\n",
      "65                  Mexico\n",
      "66                 Armenia\n",
      "67                Colombia\n",
      "68              Kyrgyzstan\n",
      "69             North Korea\n",
      "70               Lithuania\n",
      "71                   India\n",
      "72                 Moldova\n",
      "73                  Kosovo\n",
      "74                  Cyprus\n",
      "75                    Fiji\n",
      "76                  Jordan\n",
      "77                Mongolia\n",
      "78                  Panama\n",
      "79              Tajikistan\n",
      "80                 Albania\n",
      "81                 Grenada\n",
      "82                Malaysia\n",
      "83             Puerto Rico\n",
      "84              Cape Verde\n",
      "85             Ivory Coast\n",
      "86                    Peru\n",
      "87                   Qatar\n",
      "88    Refugee Olympic Team\n",
      "89               Singapore\n",
      "90                Slovakia\n",
      "91                  Zambia\n",
      "Name: NOC, dtype: object\n"
     ]
    }
   ],
   "source": [
    "print(df['NOC'])"
   ]
  },
  {
   "cell_type": "code",
   "execution_count": 89,
   "id": "c948058f-a874-46b3-bdbe-82d80eba0784",
   "metadata": {},
   "outputs": [],
   "source": [
    "df = df.reset_index(drop=True)"
   ]
  },
  {
   "cell_type": "code",
   "execution_count": 90,
   "id": "5f346362-6767-458d-946d-b8cf5bbf49ee",
   "metadata": {},
   "outputs": [
    {
     "name": "stdout",
     "output_type": "stream",
     "text": [
      "                     NOC  Gold  Silver  Bronze Total  Rank\n",
      "0         United States‡    40      44      42   126     1\n",
      "1                  China    40      27      24    91     2\n",
      "2                  Japan    20      12      13    45     3\n",
      "3              Australia    18      19      16    53     4\n",
      "4                France*    16      26      22    64     5\n",
      "5            Netherlands    15       7      12    34     6\n",
      "6          Great Britain    14      22      29    65     7\n",
      "7            South Korea    13       9      10    32     8\n",
      "8                  Italy    12      13      15    40     9\n",
      "9                Germany    12      13       8    33    10\n",
      "10           New Zealand    10       7       3    20    11\n",
      "11                Canada     9       7      11    27    12\n",
      "12            Uzbekistan     8       2       3    13    13\n",
      "13               Hungary     6       7       6    19    14\n",
      "14                 Spain     5       4       9    18    15\n",
      "15                Sweden     4       4       3    11    16\n",
      "16                 Kenya     4       2       5    11    17\n",
      "17                Norway     4       1       3     8    18\n",
      "18               Ireland     4       0       3     7    19\n",
      "19                Brazil     3       7      10    20    20\n",
      "20                  Iran     3       6       3    12    21\n",
      "21               Ukraine     3       5       4    12    22\n",
      "22              Romania‡     3       4       2     9    23\n",
      "23               Georgia     3       3       1     7    24\n",
      "24               Belgium     3       1       6    10    25\n",
      "25              Bulgaria     3       1       3     7    26\n",
      "26                Serbia     3       1       1     5    27\n",
      "27        Czech Republic     3       0       2     5    28\n",
      "28               Denmark     2       2       5     9    29\n",
      "29            Azerbaijan     2       2       3     7    30\n",
      "30               Croatia     2       2       3     7    30\n",
      "31                  Cuba     2       1       6     9    32\n",
      "32               Bahrain     2       1       1     4    33\n",
      "33              Slovenia     2       1       0     3    34\n",
      "34        Chinese Taipei     2       0       5     7    35\n",
      "35               Austria     2       0       3     5    36\n",
      "36             Hong Kong     2       0       2     4    37\n",
      "37           Philippines     2       0       2     4    37\n",
      "38               Algeria     2       0       1     3    39\n",
      "39             Indonesia     2       0       1     3    39\n",
      "40                Israel     1       5       1     7    41\n",
      "41                Poland     1       4       5    10    42\n",
      "42            Kazakhstan     1       3       3     7    43\n",
      "43               Jamaica     1       3       2     6    44\n",
      "44          South Africa     1       3       2     6    44\n",
      "45              Thailand     1       3       2     6    44\n",
      "46              Ethiopia     1       3       0     4  None\n",
      "47           Switzerland     1       2       5     8  None\n",
      "48               Ecuador     1       2       2     5  None\n",
      "49              Portugal     1       2       1     4  None\n",
      "50                Greece     1       1       6     8  None\n",
      "51             Argentina     1       1       1     3  None\n",
      "52                 Egypt     1       1       1     3  None\n",
      "53               Tunisia     1       1       1     3  None\n",
      "54              Botswana     1       1       0     2  None\n",
      "55                 Chile     1       1       0     2  None\n",
      "56           Saint Lucia     1       1       0     2  None\n",
      "57                Uganda     1       1       0     2  None\n",
      "58    Dominican Republic     1       0       2     3  None\n",
      "59             Guatemala     1       0       1     2  None\n",
      "60               Morocco     1       0       1     2  None\n",
      "61              Dominica     1       0       0     1  None\n",
      "62              Pakistan     1       0       0     1  None\n",
      "63                Turkey     0       3       5     8  None\n",
      "64                Mexico     0       3       2     5  None\n",
      "65               Armenia     0       3       1     4  None\n",
      "66              Colombia     0       3       1     4  None\n",
      "67            Kyrgyzstan     0       2       4     6  None\n",
      "68           North Korea     0       2       4     6  None\n",
      "69             Lithuania     0       2       2     4  None\n",
      "70                 India     0       1       5     6  None\n",
      "71               Moldova     0       1       3     4  None\n",
      "72                Kosovo     0       1       1     2  None\n",
      "73                Cyprus     0       1       0     1  None\n",
      "74                  Fiji     0       1       0     1  None\n",
      "75                Jordan     0       1       0     1  None\n",
      "76              Mongolia     0       1       0     1  None\n",
      "77                Panama     0       1       0     1  None\n",
      "78            Tajikistan     0       0       3     3  None\n",
      "79               Albania     0       0       2     2  None\n",
      "80               Grenada     0       0       2     2  None\n",
      "81              Malaysia     0       0       2     2  None\n",
      "82           Puerto Rico     0       0       2     2  None\n",
      "83            Cape Verde     0       0       1     1  None\n",
      "84           Ivory Coast     0       0       1     1  None\n",
      "85                  Peru     0       0       1     1  None\n",
      "86                 Qatar     0       0       1     1  None\n",
      "87  Refugee Olympic Team     0       0       1     1  None\n",
      "88             Singapore     0       0       1     1  None\n",
      "89              Slovakia     0       0       1     1  None\n",
      "90                Zambia     0       0       1     1  None\n"
     ]
    }
   ],
   "source": [
    "print(df)"
   ]
  },
  {
   "cell_type": "code",
   "execution_count": 64,
   "id": "48d076e9-3c65-432d-a32b-09cf676cf566",
   "metadata": {},
   "outputs": [
    {
     "name": "stdout",
     "output_type": "stream",
     "text": [
      "<class 'pandas.core.frame.DataFrame'>\n",
      "RangeIndex: 92 entries, 0 to 91\n",
      "Data columns (total 5 columns):\n",
      " #   Column  Non-Null Count  Dtype \n",
      "---  ------  --------------  ----- \n",
      " 0   NOC     92 non-null     object\n",
      " 1   Gold    92 non-null     object\n",
      " 2   Silver  92 non-null     object\n",
      " 3   Bronze  92 non-null     object\n",
      " 4   Total   92 non-null     object\n",
      "dtypes: object(5)\n",
      "memory usage: 3.7+ KB\n"
     ]
    }
   ],
   "source": [
    "df.info()"
   ]
  },
  {
   "cell_type": "code",
   "execution_count": 91,
   "id": "f1e66e42-3ed8-4f1b-9afb-360234795b6a",
   "metadata": {},
   "outputs": [],
   "source": [
    "df['Gold'] = df['Gold'].astype(int)\n",
    "df['Silver'] = df['Silver'].astype(int)\n",
    "df['Bronze'] = df['Bronze'].astype(int)"
   ]
  },
  {
   "cell_type": "code",
   "execution_count": 92,
   "id": "2eaf8b28-e844-4bce-8757-48427ac291fb",
   "metadata": {},
   "outputs": [],
   "source": [
    "sorted_df = df.sort_values(by=['Gold', 'Silver', 'Bronze'], ascending=[False, False, False])"
   ]
  },
  {
   "cell_type": "code",
   "execution_count": 93,
   "id": "56658b8d-d546-48e8-bfbe-21f4b0e0a728",
   "metadata": {},
   "outputs": [
    {
     "name": "stdout",
     "output_type": "stream",
     "text": [
      "                     NOC  Gold  Silver  Bronze Total  Rank\n",
      "0         United States‡    40      44      42   126     1\n",
      "1                  China    40      27      24    91     2\n",
      "2                  Japan    20      12      13    45     3\n",
      "3              Australia    18      19      16    53     4\n",
      "4                France*    16      26      22    64     5\n",
      "5            Netherlands    15       7      12    34     6\n",
      "6          Great Britain    14      22      29    65     7\n",
      "7            South Korea    13       9      10    32     8\n",
      "8                  Italy    12      13      15    40     9\n",
      "9                Germany    12      13       8    33    10\n",
      "10           New Zealand    10       7       3    20    11\n",
      "11                Canada     9       7      11    27    12\n",
      "12            Uzbekistan     8       2       3    13    13\n",
      "13               Hungary     6       7       6    19    14\n",
      "14                 Spain     5       4       9    18    15\n",
      "15                Sweden     4       4       3    11    16\n",
      "16                 Kenya     4       2       5    11    17\n",
      "17                Norway     4       1       3     8    18\n",
      "18               Ireland     4       0       3     7    19\n",
      "19                Brazil     3       7      10    20    20\n",
      "20                  Iran     3       6       3    12    21\n",
      "21               Ukraine     3       5       4    12    22\n",
      "22              Romania‡     3       4       2     9    23\n",
      "23               Georgia     3       3       1     7    24\n",
      "24               Belgium     3       1       6    10    25\n",
      "25              Bulgaria     3       1       3     7    26\n",
      "26                Serbia     3       1       1     5    27\n",
      "27        Czech Republic     3       0       2     5    28\n",
      "28               Denmark     2       2       5     9    29\n",
      "29            Azerbaijan     2       2       3     7    30\n",
      "30               Croatia     2       2       3     7    30\n",
      "31                  Cuba     2       1       6     9    32\n",
      "32               Bahrain     2       1       1     4    33\n",
      "33              Slovenia     2       1       0     3    34\n",
      "34        Chinese Taipei     2       0       5     7    35\n",
      "35               Austria     2       0       3     5    36\n",
      "36             Hong Kong     2       0       2     4    37\n",
      "37           Philippines     2       0       2     4    37\n",
      "38               Algeria     2       0       1     3    39\n",
      "39             Indonesia     2       0       1     3    39\n",
      "40                Israel     1       5       1     7    41\n",
      "41                Poland     1       4       5    10    42\n",
      "42            Kazakhstan     1       3       3     7    43\n",
      "43               Jamaica     1       3       2     6    44\n",
      "44          South Africa     1       3       2     6    44\n",
      "45              Thailand     1       3       2     6    44\n",
      "46              Ethiopia     1       3       0     4  None\n",
      "47           Switzerland     1       2       5     8  None\n",
      "48               Ecuador     1       2       2     5  None\n",
      "49              Portugal     1       2       1     4  None\n",
      "50                Greece     1       1       6     8  None\n",
      "51             Argentina     1       1       1     3  None\n",
      "52                 Egypt     1       1       1     3  None\n",
      "53               Tunisia     1       1       1     3  None\n",
      "54              Botswana     1       1       0     2  None\n",
      "55                 Chile     1       1       0     2  None\n",
      "56           Saint Lucia     1       1       0     2  None\n",
      "57                Uganda     1       1       0     2  None\n",
      "58    Dominican Republic     1       0       2     3  None\n",
      "59             Guatemala     1       0       1     2  None\n",
      "60               Morocco     1       0       1     2  None\n",
      "61              Dominica     1       0       0     1  None\n",
      "62              Pakistan     1       0       0     1  None\n",
      "63                Turkey     0       3       5     8  None\n",
      "64                Mexico     0       3       2     5  None\n",
      "65               Armenia     0       3       1     4  None\n",
      "66              Colombia     0       3       1     4  None\n",
      "67            Kyrgyzstan     0       2       4     6  None\n",
      "68           North Korea     0       2       4     6  None\n",
      "69             Lithuania     0       2       2     4  None\n",
      "70                 India     0       1       5     6  None\n",
      "71               Moldova     0       1       3     4  None\n",
      "72                Kosovo     0       1       1     2  None\n",
      "73                Cyprus     0       1       0     1  None\n",
      "74                  Fiji     0       1       0     1  None\n",
      "75                Jordan     0       1       0     1  None\n",
      "76              Mongolia     0       1       0     1  None\n",
      "77                Panama     0       1       0     1  None\n",
      "78            Tajikistan     0       0       3     3  None\n",
      "79               Albania     0       0       2     2  None\n",
      "80               Grenada     0       0       2     2  None\n",
      "81              Malaysia     0       0       2     2  None\n",
      "82           Puerto Rico     0       0       2     2  None\n",
      "83            Cape Verde     0       0       1     1  None\n",
      "84           Ivory Coast     0       0       1     1  None\n",
      "85                  Peru     0       0       1     1  None\n",
      "86                 Qatar     0       0       1     1  None\n",
      "87  Refugee Olympic Team     0       0       1     1  None\n",
      "88             Singapore     0       0       1     1  None\n",
      "89              Slovakia     0       0       1     1  None\n",
      "90                Zambia     0       0       1     1  None\n"
     ]
    }
   ],
   "source": [
    "print(sorted_df)"
   ]
  },
  {
   "cell_type": "code",
   "execution_count": 94,
   "id": "752cb3b9-e085-4cb3-84d8-7ecc969917c3",
   "metadata": {},
   "outputs": [],
   "source": [
    "rank_counter = 1\n",
    "\n",
    "sorted_df['Rank'] = None  # Initialize a Rank column\n",
    "\n",
    "for i in range(len(sorted_df)):\n",
    "    if i > 0 and (sorted_df.loc[i, 'Gold'] == sorted_df.loc[i-1, 'Gold'] and \n",
    "                  sorted_df.loc[i, 'Silver'] == sorted_df.loc[i-1, 'Silver'] and \n",
    "                  sorted_df.loc[i, 'Bronze'] == sorted_df.loc[i-1, 'Bronze']):\n",
    "        sorted_df.loc[i, 'Rank'] =sorted_df.loc[i-1, 'Rank']  # Same rank if Gold, Silver, and Bronze are the same\n",
    "    else:\n",
    "        sorted_df.loc[i, 'Rank'] = rank_counter  # Assign a new rank if any of Gold, Silver, or Bronze is different\n",
    "    rank_counter += 1"
   ]
  },
  {
   "cell_type": "code",
   "execution_count": null,
   "id": "4d1ae557-5ae5-4440-9523-de72888be529",
   "metadata": {},
   "outputs": [],
   "source": []
  },
  {
   "cell_type": "code",
   "execution_count": 95,
   "id": "df25cb18-4bf4-4ffd-9c80-85ebd20ff879",
   "metadata": {},
   "outputs": [
    {
     "name": "stdout",
     "output_type": "stream",
     "text": [
      "                     NOC  Gold  Silver  Bronze Total Rank\n",
      "0         United States‡    40      44      42   126    1\n",
      "1                  China    40      27      24    91    2\n",
      "2                  Japan    20      12      13    45    3\n",
      "3              Australia    18      19      16    53    4\n",
      "4                France*    16      26      22    64    5\n",
      "5            Netherlands    15       7      12    34    6\n",
      "6          Great Britain    14      22      29    65    7\n",
      "7            South Korea    13       9      10    32    8\n",
      "8                  Italy    12      13      15    40    9\n",
      "9                Germany    12      13       8    33   10\n",
      "10           New Zealand    10       7       3    20   11\n",
      "11                Canada     9       7      11    27   12\n",
      "12            Uzbekistan     8       2       3    13   13\n",
      "13               Hungary     6       7       6    19   14\n",
      "14                 Spain     5       4       9    18   15\n",
      "15                Sweden     4       4       3    11   16\n",
      "16                 Kenya     4       2       5    11   17\n",
      "17                Norway     4       1       3     8   18\n",
      "18               Ireland     4       0       3     7   19\n",
      "19                Brazil     3       7      10    20   20\n",
      "20                  Iran     3       6       3    12   21\n",
      "21               Ukraine     3       5       4    12   22\n",
      "22              Romania‡     3       4       2     9   23\n",
      "23               Georgia     3       3       1     7   24\n",
      "24               Belgium     3       1       6    10   25\n",
      "25              Bulgaria     3       1       3     7   26\n",
      "26                Serbia     3       1       1     5   27\n",
      "27        Czech Republic     3       0       2     5   28\n",
      "28               Denmark     2       2       5     9   29\n",
      "29            Azerbaijan     2       2       3     7   30\n",
      "30               Croatia     2       2       3     7   30\n",
      "31                  Cuba     2       1       6     9   32\n",
      "32               Bahrain     2       1       1     4   33\n",
      "33              Slovenia     2       1       0     3   34\n",
      "34        Chinese Taipei     2       0       5     7   35\n",
      "35               Austria     2       0       3     5   36\n",
      "36             Hong Kong     2       0       2     4   37\n",
      "37           Philippines     2       0       2     4   37\n",
      "38               Algeria     2       0       1     3   39\n",
      "39             Indonesia     2       0       1     3   39\n",
      "40                Israel     1       5       1     7   41\n",
      "41                Poland     1       4       5    10   42\n",
      "42            Kazakhstan     1       3       3     7   43\n",
      "43               Jamaica     1       3       2     6   44\n",
      "44          South Africa     1       3       2     6   44\n",
      "45              Thailand     1       3       2     6   44\n",
      "46              Ethiopia     1       3       0     4   47\n",
      "47           Switzerland     1       2       5     8   48\n",
      "48               Ecuador     1       2       2     5   49\n",
      "49              Portugal     1       2       1     4   50\n",
      "50                Greece     1       1       6     8   51\n",
      "51             Argentina     1       1       1     3   52\n",
      "52                 Egypt     1       1       1     3   52\n",
      "53               Tunisia     1       1       1     3   52\n",
      "54              Botswana     1       1       0     2   55\n",
      "55                 Chile     1       1       0     2   55\n",
      "56           Saint Lucia     1       1       0     2   55\n",
      "57                Uganda     1       1       0     2   55\n",
      "58    Dominican Republic     1       0       2     3   59\n",
      "59             Guatemala     1       0       1     2   60\n",
      "60               Morocco     1       0       1     2   60\n",
      "61              Dominica     1       0       0     1   62\n",
      "62              Pakistan     1       0       0     1   62\n",
      "63                Turkey     0       3       5     8   64\n",
      "64                Mexico     0       3       2     5   65\n",
      "65               Armenia     0       3       1     4   66\n",
      "66              Colombia     0       3       1     4   66\n",
      "67            Kyrgyzstan     0       2       4     6   68\n",
      "68           North Korea     0       2       4     6   68\n",
      "69             Lithuania     0       2       2     4   70\n",
      "70                 India     0       1       5     6   71\n",
      "71               Moldova     0       1       3     4   72\n",
      "72                Kosovo     0       1       1     2   73\n",
      "73                Cyprus     0       1       0     1   74\n",
      "74                  Fiji     0       1       0     1   74\n",
      "75                Jordan     0       1       0     1   74\n",
      "76              Mongolia     0       1       0     1   74\n",
      "77                Panama     0       1       0     1   74\n",
      "78            Tajikistan     0       0       3     3   79\n",
      "79               Albania     0       0       2     2   80\n",
      "80               Grenada     0       0       2     2   80\n",
      "81              Malaysia     0       0       2     2   80\n",
      "82           Puerto Rico     0       0       2     2   80\n",
      "83            Cape Verde     0       0       1     1   84\n",
      "84           Ivory Coast     0       0       1     1   84\n",
      "85                  Peru     0       0       1     1   84\n",
      "86                 Qatar     0       0       1     1   84\n",
      "87  Refugee Olympic Team     0       0       1     1   84\n",
      "88             Singapore     0       0       1     1   84\n",
      "89              Slovakia     0       0       1     1   84\n",
      "90                Zambia     0       0       1     1   84\n"
     ]
    }
   ],
   "source": [
    "print(sorted_df)"
   ]
  },
  {
   "cell_type": "code",
   "execution_count": 96,
   "id": "0b1d0eb5-26bf-44eb-82f8-f6e9b1e27a17",
   "metadata": {},
   "outputs": [],
   "source": [
    "sorted_df.to_excel('olympics_2024.xlsx')"
   ]
  },
  {
   "cell_type": "code",
   "execution_count": 97,
   "id": "07af6fa6-4613-474f-960c-1dbcf0a272fa",
   "metadata": {},
   "outputs": [
    {
     "name": "stderr",
     "output_type": "stream",
     "text": [
      "/var/folders/jd/zh0k3k1x0xqct6rxmrl2bndr0000gn/T/ipykernel_60984/3005987716.py:3: FutureWarning: This dataframe has a column name that matches the 'value_name' column name of the resulting Dataframe. In the future this will raise an error, please set the 'value_name' parameter of DataFrame.melt to a unique name.\n",
      "  reshaped_df = sorted_df.melt(id_vars=['NOC', 'Rank'], value_vars=['Gold', 'Silver', 'Bronze'],\n"
     ]
    }
   ],
   "source": [
    "#Reshaped Data\n",
    "\n",
    "reshaped_df = sorted_df.melt(id_vars=['NOC', 'Rank'], value_vars=['Gold', 'Silver', 'Bronze'], \n",
    "                      var_name='Medal', value_name='Total')"
   ]
  },
  {
   "cell_type": "code",
   "execution_count": 98,
   "id": "a94268ca-3249-4ac1-b7c6-044c1c8afe6c",
   "metadata": {},
   "outputs": [
    {
     "name": "stdout",
     "output_type": "stream",
     "text": [
      "                      NOC Rank   Medal  Total\n",
      "0          United States‡    1    Gold     40\n",
      "1                   China    2    Gold     40\n",
      "2                   Japan    3    Gold     20\n",
      "3               Australia    4    Gold     18\n",
      "4                 France*    5    Gold     16\n",
      "5             Netherlands    6    Gold     15\n",
      "6           Great Britain    7    Gold     14\n",
      "7             South Korea    8    Gold     13\n",
      "8                   Italy    9    Gold     12\n",
      "9                 Germany   10    Gold     12\n",
      "10            New Zealand   11    Gold     10\n",
      "11                 Canada   12    Gold      9\n",
      "12             Uzbekistan   13    Gold      8\n",
      "13                Hungary   14    Gold      6\n",
      "14                  Spain   15    Gold      5\n",
      "15                 Sweden   16    Gold      4\n",
      "16                  Kenya   17    Gold      4\n",
      "17                 Norway   18    Gold      4\n",
      "18                Ireland   19    Gold      4\n",
      "19                 Brazil   20    Gold      3\n",
      "20                   Iran   21    Gold      3\n",
      "21                Ukraine   22    Gold      3\n",
      "22               Romania‡   23    Gold      3\n",
      "23                Georgia   24    Gold      3\n",
      "24                Belgium   25    Gold      3\n",
      "25               Bulgaria   26    Gold      3\n",
      "26                 Serbia   27    Gold      3\n",
      "27         Czech Republic   28    Gold      3\n",
      "28                Denmark   29    Gold      2\n",
      "29             Azerbaijan   30    Gold      2\n",
      "30                Croatia   30    Gold      2\n",
      "31                   Cuba   32    Gold      2\n",
      "32                Bahrain   33    Gold      2\n",
      "33               Slovenia   34    Gold      2\n",
      "34         Chinese Taipei   35    Gold      2\n",
      "35                Austria   36    Gold      2\n",
      "36              Hong Kong   37    Gold      2\n",
      "37            Philippines   37    Gold      2\n",
      "38                Algeria   39    Gold      2\n",
      "39              Indonesia   39    Gold      2\n",
      "40                 Israel   41    Gold      1\n",
      "41                 Poland   42    Gold      1\n",
      "42             Kazakhstan   43    Gold      1\n",
      "43                Jamaica   44    Gold      1\n",
      "44           South Africa   44    Gold      1\n",
      "45               Thailand   44    Gold      1\n",
      "46               Ethiopia   47    Gold      1\n",
      "47            Switzerland   48    Gold      1\n",
      "48                Ecuador   49    Gold      1\n",
      "49               Portugal   50    Gold      1\n",
      "50                 Greece   51    Gold      1\n",
      "51              Argentina   52    Gold      1\n",
      "52                  Egypt   52    Gold      1\n",
      "53                Tunisia   52    Gold      1\n",
      "54               Botswana   55    Gold      1\n",
      "55                  Chile   55    Gold      1\n",
      "56            Saint Lucia   55    Gold      1\n",
      "57                 Uganda   55    Gold      1\n",
      "58     Dominican Republic   59    Gold      1\n",
      "59              Guatemala   60    Gold      1\n",
      "60                Morocco   60    Gold      1\n",
      "61               Dominica   62    Gold      1\n",
      "62               Pakistan   62    Gold      1\n",
      "63                 Turkey   64    Gold      0\n",
      "64                 Mexico   65    Gold      0\n",
      "65                Armenia   66    Gold      0\n",
      "66               Colombia   66    Gold      0\n",
      "67             Kyrgyzstan   68    Gold      0\n",
      "68            North Korea   68    Gold      0\n",
      "69              Lithuania   70    Gold      0\n",
      "70                  India   71    Gold      0\n",
      "71                Moldova   72    Gold      0\n",
      "72                 Kosovo   73    Gold      0\n",
      "73                 Cyprus   74    Gold      0\n",
      "74                   Fiji   74    Gold      0\n",
      "75                 Jordan   74    Gold      0\n",
      "76               Mongolia   74    Gold      0\n",
      "77                 Panama   74    Gold      0\n",
      "78             Tajikistan   79    Gold      0\n",
      "79                Albania   80    Gold      0\n",
      "80                Grenada   80    Gold      0\n",
      "81               Malaysia   80    Gold      0\n",
      "82            Puerto Rico   80    Gold      0\n",
      "83             Cape Verde   84    Gold      0\n",
      "84            Ivory Coast   84    Gold      0\n",
      "85                   Peru   84    Gold      0\n",
      "86                  Qatar   84    Gold      0\n",
      "87   Refugee Olympic Team   84    Gold      0\n",
      "88              Singapore   84    Gold      0\n",
      "89               Slovakia   84    Gold      0\n",
      "90                 Zambia   84    Gold      0\n",
      "91         United States‡    1  Silver     44\n",
      "92                  China    2  Silver     27\n",
      "93                  Japan    3  Silver     12\n",
      "94              Australia    4  Silver     19\n",
      "95                France*    5  Silver     26\n",
      "96            Netherlands    6  Silver      7\n",
      "97          Great Britain    7  Silver     22\n",
      "98            South Korea    8  Silver      9\n",
      "99                  Italy    9  Silver     13\n",
      "100               Germany   10  Silver     13\n",
      "101           New Zealand   11  Silver      7\n",
      "102                Canada   12  Silver      7\n",
      "103            Uzbekistan   13  Silver      2\n",
      "104               Hungary   14  Silver      7\n",
      "105                 Spain   15  Silver      4\n",
      "106                Sweden   16  Silver      4\n",
      "107                 Kenya   17  Silver      2\n",
      "108                Norway   18  Silver      1\n",
      "109               Ireland   19  Silver      0\n",
      "110                Brazil   20  Silver      7\n",
      "111                  Iran   21  Silver      6\n",
      "112               Ukraine   22  Silver      5\n",
      "113              Romania‡   23  Silver      4\n",
      "114               Georgia   24  Silver      3\n",
      "115               Belgium   25  Silver      1\n",
      "116              Bulgaria   26  Silver      1\n",
      "117                Serbia   27  Silver      1\n",
      "118        Czech Republic   28  Silver      0\n",
      "119               Denmark   29  Silver      2\n",
      "120            Azerbaijan   30  Silver      2\n",
      "121               Croatia   30  Silver      2\n",
      "122                  Cuba   32  Silver      1\n",
      "123               Bahrain   33  Silver      1\n",
      "124              Slovenia   34  Silver      1\n",
      "125        Chinese Taipei   35  Silver      0\n",
      "126               Austria   36  Silver      0\n",
      "127             Hong Kong   37  Silver      0\n",
      "128           Philippines   37  Silver      0\n",
      "129               Algeria   39  Silver      0\n",
      "130             Indonesia   39  Silver      0\n",
      "131                Israel   41  Silver      5\n",
      "132                Poland   42  Silver      4\n",
      "133            Kazakhstan   43  Silver      3\n",
      "134               Jamaica   44  Silver      3\n",
      "135          South Africa   44  Silver      3\n",
      "136              Thailand   44  Silver      3\n",
      "137              Ethiopia   47  Silver      3\n",
      "138           Switzerland   48  Silver      2\n",
      "139               Ecuador   49  Silver      2\n",
      "140              Portugal   50  Silver      2\n",
      "141                Greece   51  Silver      1\n",
      "142             Argentina   52  Silver      1\n",
      "143                 Egypt   52  Silver      1\n",
      "144               Tunisia   52  Silver      1\n",
      "145              Botswana   55  Silver      1\n",
      "146                 Chile   55  Silver      1\n",
      "147           Saint Lucia   55  Silver      1\n",
      "148                Uganda   55  Silver      1\n",
      "149    Dominican Republic   59  Silver      0\n",
      "150             Guatemala   60  Silver      0\n",
      "151               Morocco   60  Silver      0\n",
      "152              Dominica   62  Silver      0\n",
      "153              Pakistan   62  Silver      0\n",
      "154                Turkey   64  Silver      3\n",
      "155                Mexico   65  Silver      3\n",
      "156               Armenia   66  Silver      3\n",
      "157              Colombia   66  Silver      3\n",
      "158            Kyrgyzstan   68  Silver      2\n",
      "159           North Korea   68  Silver      2\n",
      "160             Lithuania   70  Silver      2\n",
      "161                 India   71  Silver      1\n",
      "162               Moldova   72  Silver      1\n",
      "163                Kosovo   73  Silver      1\n",
      "164                Cyprus   74  Silver      1\n",
      "165                  Fiji   74  Silver      1\n",
      "166                Jordan   74  Silver      1\n",
      "167              Mongolia   74  Silver      1\n",
      "168                Panama   74  Silver      1\n",
      "169            Tajikistan   79  Silver      0\n",
      "170               Albania   80  Silver      0\n",
      "171               Grenada   80  Silver      0\n",
      "172              Malaysia   80  Silver      0\n",
      "173           Puerto Rico   80  Silver      0\n",
      "174            Cape Verde   84  Silver      0\n",
      "175           Ivory Coast   84  Silver      0\n",
      "176                  Peru   84  Silver      0\n",
      "177                 Qatar   84  Silver      0\n",
      "178  Refugee Olympic Team   84  Silver      0\n",
      "179             Singapore   84  Silver      0\n",
      "180              Slovakia   84  Silver      0\n",
      "181                Zambia   84  Silver      0\n",
      "182        United States‡    1  Bronze     42\n",
      "183                 China    2  Bronze     24\n",
      "184                 Japan    3  Bronze     13\n",
      "185             Australia    4  Bronze     16\n",
      "186               France*    5  Bronze     22\n",
      "187           Netherlands    6  Bronze     12\n",
      "188         Great Britain    7  Bronze     29\n",
      "189           South Korea    8  Bronze     10\n",
      "190                 Italy    9  Bronze     15\n",
      "191               Germany   10  Bronze      8\n",
      "192           New Zealand   11  Bronze      3\n",
      "193                Canada   12  Bronze     11\n",
      "194            Uzbekistan   13  Bronze      3\n",
      "195               Hungary   14  Bronze      6\n",
      "196                 Spain   15  Bronze      9\n",
      "197                Sweden   16  Bronze      3\n",
      "198                 Kenya   17  Bronze      5\n",
      "199                Norway   18  Bronze      3\n",
      "200               Ireland   19  Bronze      3\n",
      "201                Brazil   20  Bronze     10\n",
      "202                  Iran   21  Bronze      3\n",
      "203               Ukraine   22  Bronze      4\n",
      "204              Romania‡   23  Bronze      2\n",
      "205               Georgia   24  Bronze      1\n",
      "206               Belgium   25  Bronze      6\n",
      "207              Bulgaria   26  Bronze      3\n",
      "208                Serbia   27  Bronze      1\n",
      "209        Czech Republic   28  Bronze      2\n",
      "210               Denmark   29  Bronze      5\n",
      "211            Azerbaijan   30  Bronze      3\n",
      "212               Croatia   30  Bronze      3\n",
      "213                  Cuba   32  Bronze      6\n",
      "214               Bahrain   33  Bronze      1\n",
      "215              Slovenia   34  Bronze      0\n",
      "216        Chinese Taipei   35  Bronze      5\n",
      "217               Austria   36  Bronze      3\n",
      "218             Hong Kong   37  Bronze      2\n",
      "219           Philippines   37  Bronze      2\n",
      "220               Algeria   39  Bronze      1\n",
      "221             Indonesia   39  Bronze      1\n",
      "222                Israel   41  Bronze      1\n",
      "223                Poland   42  Bronze      5\n",
      "224            Kazakhstan   43  Bronze      3\n",
      "225               Jamaica   44  Bronze      2\n",
      "226          South Africa   44  Bronze      2\n",
      "227              Thailand   44  Bronze      2\n",
      "228              Ethiopia   47  Bronze      0\n",
      "229           Switzerland   48  Bronze      5\n",
      "230               Ecuador   49  Bronze      2\n",
      "231              Portugal   50  Bronze      1\n",
      "232                Greece   51  Bronze      6\n",
      "233             Argentina   52  Bronze      1\n",
      "234                 Egypt   52  Bronze      1\n",
      "235               Tunisia   52  Bronze      1\n",
      "236              Botswana   55  Bronze      0\n",
      "237                 Chile   55  Bronze      0\n",
      "238           Saint Lucia   55  Bronze      0\n",
      "239                Uganda   55  Bronze      0\n",
      "240    Dominican Republic   59  Bronze      2\n",
      "241             Guatemala   60  Bronze      1\n",
      "242               Morocco   60  Bronze      1\n",
      "243              Dominica   62  Bronze      0\n",
      "244              Pakistan   62  Bronze      0\n",
      "245                Turkey   64  Bronze      5\n",
      "246                Mexico   65  Bronze      2\n",
      "247               Armenia   66  Bronze      1\n",
      "248              Colombia   66  Bronze      1\n",
      "249            Kyrgyzstan   68  Bronze      4\n",
      "250           North Korea   68  Bronze      4\n",
      "251             Lithuania   70  Bronze      2\n",
      "252                 India   71  Bronze      5\n",
      "253               Moldova   72  Bronze      3\n",
      "254                Kosovo   73  Bronze      1\n",
      "255                Cyprus   74  Bronze      0\n",
      "256                  Fiji   74  Bronze      0\n",
      "257                Jordan   74  Bronze      0\n",
      "258              Mongolia   74  Bronze      0\n",
      "259                Panama   74  Bronze      0\n",
      "260            Tajikistan   79  Bronze      3\n",
      "261               Albania   80  Bronze      2\n",
      "262               Grenada   80  Bronze      2\n",
      "263              Malaysia   80  Bronze      2\n",
      "264           Puerto Rico   80  Bronze      2\n",
      "265            Cape Verde   84  Bronze      1\n",
      "266           Ivory Coast   84  Bronze      1\n",
      "267                  Peru   84  Bronze      1\n",
      "268                 Qatar   84  Bronze      1\n",
      "269  Refugee Olympic Team   84  Bronze      1\n",
      "270             Singapore   84  Bronze      1\n",
      "271              Slovakia   84  Bronze      1\n",
      "272                Zambia   84  Bronze      1\n"
     ]
    }
   ],
   "source": [
    "print(reshaped_df)"
   ]
  },
  {
   "cell_type": "code",
   "execution_count": 99,
   "id": "bb0daa55-a0f9-4a95-98fa-e9ebebbf81a8",
   "metadata": {},
   "outputs": [],
   "source": [
    "reshaped_df.to_excel('olympics_2024_reshaped.xlsx')"
   ]
  }
 ],
 "metadata": {
  "kernelspec": {
   "display_name": "Python 3 (ipykernel)",
   "language": "python",
   "name": "python3"
  },
  "language_info": {
   "codemirror_mode": {
    "name": "ipython",
    "version": 3
   },
   "file_extension": ".py",
   "mimetype": "text/x-python",
   "name": "python",
   "nbconvert_exporter": "python",
   "pygments_lexer": "ipython3",
   "version": "3.9.13"
  }
 },
 "nbformat": 4,
 "nbformat_minor": 5
}
